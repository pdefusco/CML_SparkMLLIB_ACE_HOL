{
 "cells": [
  {
   "cell_type": "code",
   "execution_count": 6,
   "metadata": {},
   "outputs": [
    {
     "name": "stdout",
     "output_type": "stream",
     "text": [
      "Requirement already satisfied: handyspark in ./.local/lib/python3.6/site-packages (0.2.2a1)\n",
      "Requirement already satisfied: matplotlib in /usr/local/lib/python3.6/site-packages (from handyspark) (2.0.0)\n",
      "Requirement already satisfied: pandas in /usr/local/lib/python3.6/site-packages (from handyspark) (0.25.1)\n",
      "Requirement already satisfied: scikit-learn in ./.local/lib/python3.6/site-packages (from handyspark) (0.22.2.post1)\n",
      "Requirement already satisfied: findspark in ./.local/lib/python3.6/site-packages (from handyspark) (1.3.0)\n",
      "Requirement already satisfied: pyspark in ./.local/lib/python3.6/site-packages (from handyspark) (2.4.5)\n",
      "Requirement already satisfied: seaborn in /usr/local/lib/python3.6/site-packages (from handyspark) (0.9.0)\n",
      "Requirement already satisfied: scipy in /usr/local/lib/python3.6/site-packages (from handyspark) (1.4.1)\n",
      "Requirement already satisfied: numpy in /usr/local/lib/python3.6/site-packages (from handyspark) (1.17.2)\n",
      "Requirement already satisfied: pyarrow in ./.local/lib/python3.6/site-packages (from handyspark) (0.16.0)\n",
      "Requirement already satisfied: pyparsing!=2.0.0,!=2.0.4,!=2.1.2,!=2.1.6,>=1.5.6 in /usr/local/lib/python3.6/site-packages (from matplotlib->handyspark) (2.4.6)\n",
      "Requirement already satisfied: python-dateutil in /usr/local/lib/python3.6/site-packages (from matplotlib->handyspark) (2.8.1)\n",
      "Requirement already satisfied: six>=1.10 in /usr/local/lib/python3.6/site-packages (from matplotlib->handyspark) (1.14.0)\n",
      "Requirement already satisfied: cycler>=0.10 in /usr/local/lib/python3.6/site-packages (from matplotlib->handyspark) (0.10.0)\n",
      "Requirement already satisfied: pytz in /usr/local/lib/python3.6/site-packages (from matplotlib->handyspark) (2019.3)\n",
      "Requirement already satisfied: joblib>=0.11 in ./.local/lib/python3.6/site-packages (from scikit-learn->handyspark) (0.14.1)\n",
      "Requirement already satisfied: py4j==0.10.7 in ./.local/lib/python3.6/site-packages (from pyspark->handyspark) (0.10.7)\n",
      "\u001b[33mWARNING: You are using pip version 19.3.1; however, version 20.0.2 is available.\n",
      "You should consider upgrading via the 'pip install --upgrade pip' command.\u001b[0m\n"
     ]
    }
   ],
   "source": [
    "!pip3 install handyspark"
   ]
  },
  {
   "cell_type": "code",
   "execution_count": 7,
   "metadata": {},
   "outputs": [],
   "source": [
    "from handyspark import *"
   ]
  },
  {
   "cell_type": "code",
   "execution_count": 8,
   "metadata": {},
   "outputs": [],
   "source": [
    "from pyspark.ml.evaluation import BinaryClassificationEvaluator\n",
    "from pyspark.ml.classification import LogisticRegression\n",
    "from pyspark.ml.tuning import ParamGridBuilder, TrainValidationSplit\n",
    "from pyspark.ml.feature import OneHotEncoderEstimator, StringIndexer, VectorAssembler\n",
    "from pyspark.ml import Pipeline\n",
    "from pyspark.mllib.stat import Statistics\n",
    "from pyspark.ml.linalg import DenseVector\n",
    "from pyspark.sql import functions as F"
   ]
  },
  {
   "cell_type": "code",
   "execution_count": 9,
   "metadata": {},
   "outputs": [],
   "source": [
    "import pandas as pd\n",
    "import seaborn as sns\n",
    "import matplotlib.pyplot as plt"
   ]
  },
  {
   "cell_type": "code",
   "execution_count": 10,
   "metadata": {},
   "outputs": [],
   "source": [
    "from pyspark.sql import SparkSession"
   ]
  },
  {
   "cell_type": "code",
   "execution_count": 11,
   "metadata": {},
   "outputs": [],
   "source": [
    "spark = SparkSession\\\n",
    "    .builder\\\n",
    "    .appName(\"LC_Baseline_Model\")\\\n",
    "    .config(\"spark.executor.memory\",\"1g\")\\\n",
    "    .config(\"spark.executor.cores\",\"8\")\\\n",
    "    .config(\"spark.driver.memory\",\"1g\")\\\n",
    "    .getOrCreate()"
   ]
  },
  {
   "cell_type": "code",
   "execution_count": 12,
   "metadata": {},
   "outputs": [
    {
     "name": "stdout",
     "output_type": "stream",
     "text": [
      "+--------+-------------------+-----------+\n",
      "|database|          tableName|isTemporary|\n",
      "+--------+-------------------+-----------+\n",
      "| default|   airlinesentiment|      false|\n",
      "| default|                foo|      false|\n",
      "| default|            james_p|      false|\n",
      "| default|     james_sparlsql|      false|\n",
      "| default|          james_tbl|      false|\n",
      "| default|lc_loans_2015_model|      false|\n",
      "| default|     my_first_table|      false|\n",
      "| default|           products|      false|\n",
      "| default|            sensors|      false|\n",
      "| default|                 t1|      false|\n",
      "| default|     telco_churn_pq|      false|\n",
      "| default|         test_india|      false|\n",
      "| default|          test_kudu|      false|\n",
      "| default|              words|      false|\n",
      "+--------+-------------------+-----------+\n",
      "\n"
     ]
    }
   ],
   "source": [
    "spark.sql(\"show tables\").show()"
   ]
  },
  {
   "cell_type": "code",
   "execution_count": 13,
   "metadata": {},
   "outputs": [],
   "source": [
    "#spark.sql(\"SELECT * FROM global_temp.lc_loans_2015_model\")"
   ]
  },
  {
   "cell_type": "code",
   "execution_count": 14,
   "metadata": {},
   "outputs": [],
   "source": [
    "#df = spark.read.csv('data/LoanStats_2015_subset.csv')\n",
    "df = spark.read.option('inferschema','true').csv('data/Data_Exploration.csv', header=True)"
   ]
  },
  {
   "cell_type": "code",
   "execution_count": 15,
   "metadata": {},
   "outputs": [],
   "source": [
    "#df = df.limit(10000)"
   ]
  },
  {
   "cell_type": "markdown",
   "metadata": {},
   "source": [
    "#### Feature Selection"
   ]
  },
  {
   "cell_type": "code",
   "execution_count": 16,
   "metadata": {},
   "outputs": [
    {
     "data": {
      "text/plain": [
       "[('acc_now_delinq', 'int'),\n",
       " ('acc_open_past_24mths', 'int'),\n",
       " ('addr_state', 'string'),\n",
       " ('annual_inc', 'double'),\n",
       " ('application_type', 'string'),\n",
       " ('avg_cur_bal', 'int'),\n",
       " ('chargeoff_within_12_mths', 'int'),\n",
       " ('collections_12_mths_ex_med', 'int'),\n",
       " ('delinq_2yrs', 'int'),\n",
       " ('delinq_amnt', 'int'),\n",
       " ('dti', 'double'),\n",
       " ('earliest_cr_line', 'string'),\n",
       " ('emp_length', 'string'),\n",
       " ('funded_amnt', 'int'),\n",
       " ('funded_amnt_inv', 'double'),\n",
       " ('grade', 'string'),\n",
       " ('home_ownership', 'string'),\n",
       " ('initial_list_status', 'string'),\n",
       " ('inq_last_6mths', 'int'),\n",
       " ('installment', 'double'),\n",
       " ('int_rate', 'double'),\n",
       " ('issue_d', 'string'),\n",
       " ('loan_amnt', 'int'),\n",
       " ('loan_status', 'string'),\n",
       " ('mo_sin_old_rev_tl_op', 'int'),\n",
       " ('mo_sin_rcnt_rev_tl_op', 'int'),\n",
       " ('mo_sin_rcnt_tl', 'int'),\n",
       " ('mort_acc', 'int'),\n",
       " ('num_accts_ever_120_pd', 'int'),\n",
       " ('num_actv_bc_tl', 'int'),\n",
       " ('num_actv_rev_tl', 'int'),\n",
       " ('num_bc_sats', 'int'),\n",
       " ('num_bc_tl', 'int'),\n",
       " ('num_il_tl', 'int'),\n",
       " ('num_op_rev_tl', 'int'),\n",
       " ('num_rev_accts', 'double'),\n",
       " ('num_rev_tl_bal_gt_0', 'int'),\n",
       " ('num_sats', 'int'),\n",
       " ('num_tl_30dpd', 'int'),\n",
       " ('num_tl_90g_dpd_24m', 'int'),\n",
       " ('num_tl_op_past_12m', 'int'),\n",
       " ('open_acc', 'int'),\n",
       " ('pct_tl_nvr_dlq', 'double'),\n",
       " ('policy_code', 'int'),\n",
       " ('pub_rec', 'int'),\n",
       " ('pub_rec_bankruptcies', 'int'),\n",
       " ('purpose', 'string'),\n",
       " ('revol_bal', 'int'),\n",
       " ('revol_util', 'double'),\n",
       " ('sub_grade', 'string'),\n",
       " ('tax_liens', 'int'),\n",
       " ('term', 'string'),\n",
       " ('title', 'string'),\n",
       " ('tot_cur_bal', 'int'),\n",
       " ('tot_hi_cred_lim', 'int'),\n",
       " ('total_acc', 'int'),\n",
       " ('total_bal_ex_mort', 'int'),\n",
       " ('total_bc_limit', 'int'),\n",
       " ('total_il_high_credit_limit', 'int'),\n",
       " ('total_rev_hi_lim', 'int'),\n",
       " ('verification_status', 'string'),\n",
       " ('zip_code', 'string'),\n",
       " ('is_default', 'int'),\n",
       " ('issue_month', 'int')]"
      ]
     },
     "execution_count": 16,
     "metadata": {},
     "output_type": "execute_result"
    }
   ],
   "source": [
    "df.dtypes"
   ]
  },
  {
   "cell_type": "markdown",
   "metadata": {},
   "source": [
    "Data Quality Checks"
   ]
  },
  {
   "cell_type": "code",
   "execution_count": 17,
   "metadata": {},
   "outputs": [
    {
     "name": "stdout",
     "output_type": "stream",
     "text": [
      "+----------------+------+\n",
      "|application_type| count|\n",
      "+----------------+------+\n",
      "|       Joint App|   511|\n",
      "|      Individual|420583|\n",
      "+----------------+------+\n",
      "\n"
     ]
    }
   ],
   "source": [
    "#We will drop this feature based on its imbalance\n",
    "df.groupby('application_type').count().show()"
   ]
  },
  {
   "cell_type": "code",
   "execution_count": 18,
   "metadata": {},
   "outputs": [
    {
     "name": "stdout",
     "output_type": "stream",
     "text": [
      "+----------+\n",
      "|emp_length|\n",
      "+----------+\n",
      "| 10+ years|\n",
      "|    1 year|\n",
      "| 10+ years|\n",
      "|   2 years|\n",
      "|  < 1 year|\n",
      "+----------+\n",
      "only showing top 5 rows\n",
      "\n"
     ]
    }
   ],
   "source": [
    "#We will drop this feature for now although it could be one hot encoded or transformed differently\n",
    "df.select('emp_length').show(5)"
   ]
  },
  {
   "cell_type": "code",
   "execution_count": 19,
   "metadata": {},
   "outputs": [
    {
     "name": "stdout",
     "output_type": "stream",
     "text": [
      "+-------------------+------+\n",
      "|verification_status| count|\n",
      "+-------------------+------+\n",
      "|           Verified|123016|\n",
      "|    Source Verified|179564|\n",
      "|       Not Verified|118514|\n",
      "+-------------------+------+\n",
      "\n"
     ]
    }
   ],
   "source": [
    "#We keep this feature\n",
    "df.groupby('verification_status').count().show()"
   ]
  },
  {
   "cell_type": "code",
   "execution_count": 20,
   "metadata": {},
   "outputs": [],
   "source": [
    "#We remove categorical features that have too broad a set of values, or are highly imbalanced, or could cause data leakage. \n",
    "#We can elaborate and use them for feature extraction later, but they are not needed for a baseline\n",
    "\n",
    "remove = ['addr_state', 'earliest_cr_line', 'home_ownership', 'initial_list_status', 'issue_d', 'emp_length',\n",
    "          'loan_status', 'purpose', 'sub_grade', 'term', 'title', 'zip_code', 'application_type']\n",
    "df = df.drop(*remove)"
   ]
  },
  {
   "cell_type": "markdown",
   "metadata": {},
   "source": [
    "Baseline Feature Exploration"
   ]
  },
  {
   "cell_type": "code",
   "execution_count": 21,
   "metadata": {},
   "outputs": [],
   "source": [
    "#Creating list of categorical and numeric features\n",
    "cat_cols = [item[0] for item in df.dtypes if item[1].startswith('string')]\n",
    "num_cols = [item[0] for item in df.dtypes if item[1].startswith('in') or item[1].startswith('dou')]"
   ]
  },
  {
   "cell_type": "code",
   "execution_count": 22,
   "metadata": {},
   "outputs": [
    {
     "data": {
      "text/plain": [
       "['grade', 'verification_status']"
      ]
     },
     "execution_count": 22,
     "metadata": {},
     "output_type": "execute_result"
    }
   ],
   "source": [
    "cat_cols"
   ]
  },
  {
   "cell_type": "code",
   "execution_count": 23,
   "metadata": {},
   "outputs": [],
   "source": [
    "#Creating a subset of the data with only numeric features:\n",
    "df_num = df.select(num_cols)"
   ]
  },
  {
   "cell_type": "code",
   "execution_count": 24,
   "metadata": {},
   "outputs": [],
   "source": [
    "features = df_num.rdd.map(lambda row: row[0:])"
   ]
  },
  {
   "cell_type": "code",
   "execution_count": 140,
   "metadata": {},
   "outputs": [],
   "source": [
    "corr_mat=Statistics.corr(features, method=\"pearson\")\n",
    "corr_df = pd.DataFrame(corr_mat)"
   ]
  },
  {
   "cell_type": "code",
   "execution_count": 141,
   "metadata": {},
   "outputs": [],
   "source": [
    "corr_df.index, corr_df.columns = df_num.columns, df_num.columns"
   ]
  },
  {
   "cell_type": "code",
   "execution_count": 142,
   "metadata": {},
   "outputs": [],
   "source": [
    "#Dropping code features that are in numeric datatype (these are really categorical):\n",
    "corr_df = corr_df.drop(['dti', 'num_rev_accts', 'policy_code', 'revol_util'], axis=1)\n",
    "corr_df = corr_df.drop(['dti', 'num_rev_accts', 'policy_code', 'revol_util'], axis=0)"
   ]
  },
  {
   "cell_type": "code",
   "execution_count": 143,
   "metadata": {},
   "outputs": [
    {
     "data": {
      "image/png": "[encoded data removed]",
      "text/plain": [
       "<matplotlib.figure.Figure at 0x7f394a59b2e8>"
      ]
     },
     "metadata": {
      "needs_background": "light"
     },
     "output_type": "display_data"
    }
   ],
   "source": [
    "#Correlation Matrix between numeric columns\n",
    "fig, ax = plt.subplots(figsize=(12,12))\n",
    "sns.heatmap(corr_df, cbar=True, ax=ax, cmap='bwr')\n",
    "plt.show()"
   ]
  },
  {
   "cell_type": "code",
   "execution_count": 144,
   "metadata": {},
   "outputs": [],
   "source": [
    "#We only select features that are independent of one another\n",
    "selected = corr_df[(corr_df>-0.4)&(corr_df<.04)]\n",
    "#selected.columns"
   ]
  },
  {
   "cell_type": "code",
   "execution_count": 25,
   "metadata": {},
   "outputs": [
    {
     "ename": "NameError",
     "evalue": "name 'selected' is not defined",
     "output_type": "error",
     "traceback": [
      "\u001b[0;31m---------------------------------------------------------------------------\u001b[0m",
      "\u001b[0;31mNameError\u001b[0m                                 Traceback (most recent call last)",
      "\u001b[0;32m<ipython-input-25-97e0be9c3b28>\u001b[0m in \u001b[0;36m<module>\u001b[0;34m()\u001b[0m\n\u001b[1;32m      1\u001b[0m \u001b[0;31m#We will choose these features for our baseline model:\u001b[0m\u001b[0;34m\u001b[0m\u001b[0;34m\u001b[0m\u001b[0;34m\u001b[0m\u001b[0m\n\u001b[0;32m----> 2\u001b[0;31m \u001b[0mnum_features\u001b[0m\u001b[0;34m,\u001b[0m \u001b[0mcat_features\u001b[0m \u001b[0;34m=\u001b[0m \u001b[0mlist\u001b[0m\u001b[0;34m(\u001b[0m\u001b[0mselected\u001b[0m\u001b[0;34m.\u001b[0m\u001b[0mcolumns\u001b[0m\u001b[0;34m)\u001b[0m\u001b[0;34m,\u001b[0m \u001b[0mcat_cols\u001b[0m\u001b[0;34m\u001b[0m\u001b[0;34m\u001b[0m\u001b[0m\n\u001b[0m",
      "\u001b[0;31mNameError\u001b[0m: name 'selected' is not defined"
     ]
    }
   ],
   "source": [
    "#We will choose these features for our baseline model:\n",
    "num_features, cat_features = list(selected.columns), cat_cols"
   ]
  },
  {
   "cell_type": "code",
   "execution_count": null,
   "metadata": {},
   "outputs": [],
   "source": [
    "df_baseline = df.select(num_features + cat_features)"
   ]
  },
  {
   "cell_type": "code",
   "execution_count": null,
   "metadata": {},
   "outputs": [],
   "source": [
    "df_baseline.count()"
   ]
  },
  {
   "cell_type": "code",
   "execution_count": null,
   "metadata": {},
   "outputs": [],
   "source": [
    "#Dropping nulls\n",
    "df_baseline = df_baseline.dropna()"
   ]
  },
  {
   "cell_type": "code",
   "execution_count": null,
   "metadata": {},
   "outputs": [],
   "source": [
    "df_baseline.count()"
   ]
  },
  {
   "cell_type": "code",
   "execution_count": null,
   "metadata": {},
   "outputs": [],
   "source": [
    "#Creates a Pipeline Object including One Hot Encoding of Categorical Features  \n",
    "def make_pipeline(spark_df, num_att, cat_att):        \n",
    "    stages= []\n",
    "\n",
    "    for col in cat_att:\n",
    "\n",
    "        stringIndexer = StringIndexer(inputCol = col , outputCol = col + '_StringIndex')\n",
    "        encoder = OneHotEncoderEstimator(inputCols=[stringIndexer.getOutputCol()], outputCols=[col + '_ClassVect'])\n",
    "        stages += [stringIndexer, encoder]\n",
    "\n",
    "    #Assembling mixed data type transformations:\n",
    "    assemblerInputs = [c + \"_ClassVect\" for c in cat_att] + num_att\n",
    "    assembler = VectorAssembler(inputCols=assemblerInputs, outputCol=\"features\")\n",
    "\n",
    "    stages += [assembler]\n",
    "\n",
    "    #Creating and running the pipeline:\n",
    "    pipeline = Pipeline(stages=stages)\n",
    "    pipelineModel = pipeline.fit(spark_df)\n",
    "    out_df = pipelineModel.transform(spark_df)\n",
    "    \n",
    "    return out_df"
   ]
  },
  {
   "cell_type": "code",
   "execution_count": null,
   "metadata": {},
   "outputs": [],
   "source": [
    "df_model = make_pipeline(df_baseline, num_features, cat_features)"
   ]
  },
  {
   "cell_type": "code",
   "execution_count": 154,
   "metadata": {},
   "outputs": [],
   "source": [
    "#df_model.columns"
   ]
  },
  {
   "cell_type": "code",
   "execution_count": null,
   "metadata": {},
   "outputs": [],
   "source": [
    "df_model"
   ]
  },
  {
   "cell_type": "code",
   "execution_count": null,
   "metadata": {},
   "outputs": [],
   "source": []
  },
  {
   "cell_type": "code",
   "execution_count": 155,
   "metadata": {},
   "outputs": [],
   "source": [
    "input_data = df_model.rdd.map(lambda x: (x[\"is_default\"], DenseVector(x[\"features\"])))"
   ]
  },
  {
   "cell_type": "code",
   "execution_count": 156,
   "metadata": {},
   "outputs": [],
   "source": [
    "df_pipeline = spark.createDataFrame(input_data, [\"is_default\", \"features\"])"
   ]
  },
  {
   "cell_type": "code",
   "execution_count": 157,
   "metadata": {},
   "outputs": [
    {
     "name": "stdout",
     "output_type": "stream",
     "text": [
      "+----------+--------------------+\n",
      "|is_default|            features|\n",
      "+----------+--------------------+\n",
      "|         0|[1.0,0.0,0.0,0.0,...|\n",
      "|         0|[0.0,0.0,1.0,0.0,...|\n",
      "|         0|[0.0,0.0,0.0,1.0,...|\n",
      "|         0|[0.0,0.0,0.0,1.0,...|\n",
      "|         0|[0.0,0.0,0.0,0.0,...|\n",
      "|         0|[1.0,0.0,0.0,0.0,...|\n",
      "|         1|[0.0,0.0,0.0,1.0,...|\n",
      "|         0|[0.0,0.0,1.0,0.0,...|\n",
      "|         0|[1.0,0.0,0.0,0.0,...|\n",
      "|         0|[0.0,1.0,0.0,0.0,...|\n",
      "|         0|[0.0,0.0,1.0,0.0,...|\n",
      "|         0|[0.0,0.0,0.0,1.0,...|\n",
      "|         0|[0.0,1.0,0.0,0.0,...|\n",
      "|         0|[0.0,1.0,0.0,0.0,...|\n",
      "|         0|[0.0,0.0,0.0,1.0,...|\n",
      "|         0|[0.0,1.0,0.0,0.0,...|\n",
      "|         0|[0.0,0.0,1.0,0.0,...|\n",
      "|         1|[0.0,0.0,0.0,1.0,...|\n",
      "|         0|[0.0,1.0,0.0,0.0,...|\n",
      "|         0|[0.0,1.0,0.0,0.0,...|\n",
      "+----------+--------------------+\n",
      "only showing top 20 rows\n",
      "\n"
     ]
    }
   ],
   "source": [
    "df_pipeline.show()"
   ]
  },
  {
   "cell_type": "code",
   "execution_count": 158,
   "metadata": {},
   "outputs": [],
   "source": [
    "train, test = df_pipeline.randomSplit([0.8, 0.2], seed=1)"
   ]
  },
  {
   "cell_type": "code",
   "execution_count": 159,
   "metadata": {},
   "outputs": [],
   "source": [
    "lr = LogisticRegression(featuresCol='features', labelCol='is_default', maxIter=10, regParam=0.3, elasticNetParam=0.8)"
   ]
  },
  {
   "cell_type": "code",
   "execution_count": 160,
   "metadata": {},
   "outputs": [],
   "source": [
    "# Fit the model\n",
    "lrModel = lr.fit(train)"
   ]
  },
  {
   "cell_type": "code",
   "execution_count": 161,
   "metadata": {},
   "outputs": [
    {
     "name": "stdout",
     "output_type": "stream",
     "text": [
      "Coefficients: (53,[51],[1.378389137477208])\n",
      "Intercept: -2.1278978861248716\n"
     ]
    }
   ],
   "source": [
    "# Print the coefficients and intercept for logistic regression\n",
    "print(\"Coefficients: \" + str(lrModel.coefficients))\n",
    "print(\"Intercept: \" + str(lrModel.intercept))"
   ]
  },
  {
   "cell_type": "code",
   "execution_count": 162,
   "metadata": {},
   "outputs": [],
   "source": [
    "# Make predictions on test data. model is the model with combination of parameters that performed best.\n",
    "predictions = lrModel.transform(test)"
   ]
  },
  {
   "cell_type": "code",
   "execution_count": 164,
   "metadata": {},
   "outputs": [
    {
     "name": "stdout",
     "output_type": "stream",
     "text": [
      "+--------------------+----------+----------+--------------------+\n",
      "|            features|is_default|prediction|         probability|\n",
      "+--------------------+----------+----------+--------------------+\n",
      "|[0.0,0.0,0.0,0.0,...|         0|       0.0|[0.89358528232055...|\n",
      "|[0.0,0.0,0.0,0.0,...|         0|       0.0|[0.89358528232055...|\n",
      "|[0.0,0.0,0.0,0.0,...|         0|       0.0|[0.89358528232055...|\n",
      "|[0.0,0.0,0.0,0.0,...|         0|       0.0|[0.89358528232055...|\n",
      "|[0.0,0.0,0.0,0.0,...|         0|       0.0|[0.89358528232055...|\n",
      "|[0.0,0.0,0.0,0.0,...|         0|       0.0|[0.89358528232055...|\n",
      "|[0.0,0.0,0.0,0.0,...|         0|       0.0|[0.89358528232055...|\n",
      "|[0.0,0.0,0.0,0.0,...|         0|       0.0|[0.89358528232055...|\n",
      "|[0.0,0.0,0.0,0.0,...|         0|       0.0|[0.89358528232055...|\n",
      "|[0.0,0.0,0.0,0.0,...|         0|       0.0|[0.89358528232055...|\n",
      "|[0.0,0.0,0.0,0.0,...|         0|       0.0|[0.89358528232055...|\n",
      "|[0.0,0.0,0.0,0.0,...|         0|       0.0|[0.89358528232055...|\n",
      "|[0.0,0.0,0.0,0.0,...|         0|       0.0|[0.89358528232055...|\n",
      "|[0.0,0.0,0.0,0.0,...|         0|       0.0|[0.89358528232055...|\n",
      "|[0.0,0.0,0.0,0.0,...|         0|       0.0|[0.89358528232055...|\n",
      "|[0.0,0.0,0.0,0.0,...|         0|       0.0|[0.89358528232055...|\n",
      "|[0.0,0.0,0.0,0.0,...|         0|       0.0|[0.89358528232055...|\n",
      "|[0.0,0.0,0.0,0.0,...|         0|       0.0|[0.89358528232055...|\n",
      "|[0.0,0.0,0.0,0.0,...|         0|       0.0|[0.89358528232055...|\n",
      "|[0.0,0.0,0.0,0.0,...|         0|       0.0|[0.89358528232055...|\n",
      "+--------------------+----------+----------+--------------------+\n",
      "only showing top 20 rows\n",
      "\n"
     ]
    }
   ],
   "source": [
    "predictions.select(\"features\",\"is_default\", \"prediction\", \"probability\").show()"
   ]
  },
  {
   "cell_type": "code",
   "execution_count": 170,
   "metadata": {},
   "outputs": [
    {
     "name": "stdout",
     "output_type": "stream",
     "text": [
      "+----------+-----+\n",
      "|is_default|count|\n",
      "+----------+-----+\n",
      "|         0| 1479|\n",
      "|         1|  213|\n",
      "+----------+-----+\n",
      "\n"
     ]
    }
   ],
   "source": [
    "predictions.select(\"is_default\", \"prediction\").groupby('is_default').count().show()"
   ]
  },
  {
   "cell_type": "code",
   "execution_count": 171,
   "metadata": {},
   "outputs": [
    {
     "name": "stdout",
     "output_type": "stream",
     "text": [
      "+----------+-----+\n",
      "|prediction|count|\n",
      "+----------+-----+\n",
      "|       0.0| 1701|\n",
      "+----------+-----+\n",
      "\n"
     ]
    }
   ],
   "source": [
    "predictions.select(\"is_default\", \"prediction\").groupby('prediction').count().show()"
   ]
  },
  {
   "cell_type": "code",
   "execution_count": 169,
   "metadata": {},
   "outputs": [
    {
     "data": {
      "text/plain": [
       "0.873015873015873"
      ]
     },
     "execution_count": 169,
     "metadata": {},
     "output_type": "execute_result"
    }
   ],
   "source": [
    "preds_df = predictions.select(\"is_default\", \"prediction\")\n",
    "predictions.select(\"is_default\", \"prediction\").filter(preds_df.is_default == preds_df.prediction).count() / preds_df.count()"
   ]
  },
  {
   "cell_type": "markdown",
   "metadata": {},
   "source": [
    "Model Evaluation"
   ]
  },
  {
   "cell_type": "code",
   "execution_count": 208,
   "metadata": {},
   "outputs": [],
   "source": [
    "evaluator = BinaryClassificationEvaluator(labelCol=\"is_default\", rawPredictionCol=\"prediction\")"
   ]
  },
  {
   "cell_type": "code",
   "execution_count": 209,
   "metadata": {},
   "outputs": [],
   "source": [
    "auroc = evaluator.evaluate(predictions, {evaluator.metricName: \"areaUnderROC\"})\n",
    "auprc = evaluator.evaluate(predictions, {evaluator.metricName: \"areaUnderPR\"})"
   ]
  },
  {
   "cell_type": "code",
   "execution_count": 210,
   "metadata": {},
   "outputs": [
    {
     "name": "stdout",
     "output_type": "stream",
     "text": [
      "Area under ROC Curve: 0.5000\n",
      "Area under PR Curve: 0.1270\n"
     ]
    }
   ],
   "source": [
    "print(\"Area under ROC Curve: {:.4f}\".format(auroc))\n",
    "print(\"Area under PR Curve: {:.4f}\".format(auprc))"
   ]
  },
  {
   "cell_type": "code",
   "execution_count": 211,
   "metadata": {},
   "outputs": [],
   "source": [
    "# Handy Spark Library \n",
    "# Creates instance of extended version of BinaryClassificationMetrics\n",
    "# using a DataFrame and its probability and label columns, as the output\n",
    "# from the classifier\n",
    "bcm = BinaryClassificationMetrics(predictions, scoreCol='probability', labelCol='is_default')"
   ]
  },
  {
   "cell_type": "code",
   "execution_count": 213,
   "metadata": {},
   "outputs": [
    {
     "name": "stderr",
     "output_type": "stream",
     "text": [
      "Exception ignored in: <object repr() failed>\n",
      "Traceback (most recent call last):\n",
      "  File \"/etc/spark/python/lib/pyspark.zip/pyspark/ml/wrapper.py\", line 40, in __del__\n",
      "AttributeError: 'BinaryClassificationEvaluator' object has no attribute '_java_obj'\n"
     ]
    },
    {
     "data": {
      "image/png": "[encoded data removed]",
      "text/plain": [
       "<matplotlib.figure.Figure at 0x7f398c3a8320>"
      ]
     },
     "metadata": {
      "needs_background": "light"
     },
     "output_type": "display_data"
    }
   ],
   "source": [
    "# Now we can PLOT both ROC and PR curves!\n",
    "fig, axs = plt.subplots(1, 2, figsize=(12, 4))\n",
    "bcm.plot_roc_curve(ax=axs[0])\n",
    "bcm.plot_pr_curve(ax=axs[1])\n",
    "plt.show()"
   ]
  },
  {
   "cell_type": "code",
   "execution_count": 214,
   "metadata": {},
   "outputs": [
    {
     "data": {
      "text/html": [
       "<div>\n",
       "<style scoped>\n",
       "    .dataframe tbody tr th:only-of-type {\n",
       "        vertical-align: middle;\n",
       "    }\n",
       "\n",
       "    .dataframe tbody tr th {\n",
       "        vertical-align: top;\n",
       "    }\n",
       "\n",
       "    .dataframe thead th {\n",
       "        text-align: right;\n",
       "    }\n",
       "</style>\n",
       "<table border=\"1\" class=\"dataframe\">\n",
       "  <thead>\n",
       "    <tr style=\"text-align: right;\">\n",
       "      <th></th>\n",
       "      <th>threshold</th>\n",
       "      <th>fpr</th>\n",
       "      <th>recall</th>\n",
       "      <th>precision</th>\n",
       "    </tr>\n",
       "  </thead>\n",
       "  <tbody>\n",
       "  </tbody>\n",
       "</table>\n",
       "</div>"
      ],
      "text/plain": [
       "Empty DataFrame\n",
       "Columns: [threshold, fpr, recall, precision]\n",
       "Index: []"
      ]
     },
     "execution_count": 214,
     "metadata": {},
     "output_type": "execute_result"
    }
   ],
   "source": [
    "# We can also get all metrics (FPR, Recall and Precision) by threshold\n",
    "bcm.getMetricsByThreshold().filter('fpr between 0.19 and 0.21').toPandas()"
   ]
  },
  {
   "cell_type": "code",
   "execution_count": 303,
   "metadata": {},
   "outputs": [],
   "source": [
    "# And get the confusion matrix for any threshold we want\n",
    "cm = bcm.print_confusion_matrix(.5)"
   ]
  },
  {
   "cell_type": "code",
   "execution_count": 311,
   "metadata": {},
   "outputs": [],
   "source": [
    "from confusion_matrix_pretty_print import pretty_plot_confusion_matrix"
   ]
  },
  {
   "cell_type": "code",
   "execution_count": 315,
   "metadata": {},
   "outputs": [
    {
     "data": {
      "image/png": "[encoded data removed]",
      "text/plain": [
       "<matplotlib.figure.Figure at 0x7f398cdf2978>"
      ]
     },
     "metadata": {},
     "output_type": "display_data"
    }
   ],
   "source": [
    "pretty_plot_confusion_matrix(cm, figsize=[5,4])\n",
    "plt.show()"
   ]
  },
  {
   "cell_type": "code",
   "execution_count": null,
   "metadata": {},
   "outputs": [],
   "source": [
    "#writing train and test data for lineage"
   ]
  },
  {
   "cell_type": "code",
   "execution_count": 216,
   "metadata": {},
   "outputs": [],
   "source": [
    "train.toPandas().to_csv('data/baseline/train.csv', index=False)"
   ]
  },
  {
   "cell_type": "code",
   "execution_count": 388,
   "metadata": {},
   "outputs": [],
   "source": [
    "train_pd= train.toPandas()"
   ]
  },
  {
   "cell_type": "code",
   "execution_count": 389,
   "metadata": {},
   "outputs": [
    {
     "name": "stdout",
     "output_type": "stream",
     "text": [
      "+----------+--------------------+\n",
      "|is_default|            features|\n",
      "+----------+--------------------+\n",
      "|         0|[0.0,0.0,0.0,0.0,...|\n",
      "|         0|[0.0,0.0,0.0,0.0,...|\n",
      "|         0|[0.0,0.0,0.0,0.0,...|\n",
      "|         0|[0.0,0.0,0.0,0.0,...|\n",
      "|         0|[0.0,0.0,0.0,0.0,...|\n",
      "|         0|[0.0,0.0,0.0,0.0,...|\n",
      "|         0|[0.0,0.0,0.0,0.0,...|\n",
      "|         0|[0.0,0.0,0.0,0.0,...|\n",
      "|         0|[0.0,0.0,0.0,0.0,...|\n",
      "|         0|[0.0,0.0,0.0,0.0,...|\n",
      "|         0|[0.0,0.0,0.0,0.0,...|\n",
      "|         0|[0.0,0.0,0.0,0.0,...|\n",
      "|         0|[0.0,0.0,0.0,0.0,...|\n",
      "|         0|[0.0,0.0,0.0,0.0,...|\n",
      "|         0|[0.0,0.0,0.0,0.0,...|\n",
      "|         0|[0.0,0.0,0.0,0.0,...|\n",
      "|         0|[0.0,0.0,0.0,0.0,...|\n",
      "|         0|[0.0,0.0,0.0,0.0,...|\n",
      "|         0|[0.0,0.0,0.0,0.0,...|\n",
      "|         0|[0.0,0.0,0.0,0.0,...|\n",
      "+----------+--------------------+\n",
      "only showing top 20 rows\n",
      "\n"
     ]
    }
   ],
   "source": [
    "spark.createDataFrame(train_pd).show()"
   ]
  },
  {
   "cell_type": "code",
   "execution_count": null,
   "metadata": {},
   "outputs": [],
   "source": []
  },
  {
   "cell_type": "code",
   "execution_count": 217,
   "metadata": {},
   "outputs": [],
   "source": [
    "#test.toPandas().to_csv('data/baseline/test.csv', index=False)"
   ]
  },
  {
   "cell_type": "code",
   "execution_count": null,
   "metadata": {},
   "outputs": [],
   "source": [
    "#Hyperparameter tuning"
   ]
  },
  {
   "cell_type": "code",
   "execution_count": 316,
   "metadata": {},
   "outputs": [],
   "source": [
    "from pyspark.ml.tuning import ParamGridBuilder, TrainValidationSplit, CrossValidator"
   ]
  },
  {
   "cell_type": "code",
   "execution_count": 219,
   "metadata": {},
   "outputs": [],
   "source": [
    "# We use a ParamGridBuilder to construct a grid of parameters to search over.\n",
    "# TrainValidationSplit will try all combinations of values and determine best model using\n",
    "# the evaluator.\n",
    "paramGrid = ParamGridBuilder()\\\n",
    "    .addGrid(lr.regParam, [0.1, 0.01]) \\\n",
    "    .addGrid(lr.elasticNetParam, [0.0, 0.5, 0.7, 0.8, 0.9, 1.0])\\\n",
    "    .build()"
   ]
  },
  {
   "cell_type": "code",
   "execution_count": 220,
   "metadata": {},
   "outputs": [],
   "source": [
    "evaluator = BinaryClassificationEvaluator(labelCol=\"is_default\")"
   ]
  },
  {
   "cell_type": "code",
   "execution_count": 356,
   "metadata": {},
   "outputs": [],
   "source": [
    "crossval = CrossValidator(estimator=lr,\n",
    "                          estimatorParamMaps=paramGrid,\n",
    "                          evaluator=evaluator,\n",
    "                          numFolds=3, collectSubModels=True) "
   ]
  },
  {
   "cell_type": "code",
   "execution_count": 357,
   "metadata": {},
   "outputs": [],
   "source": [
    "# Run cross-validation, and choose the best set of parameters.\n",
    "cvModel = crossval.fit(train)"
   ]
  },
  {
   "cell_type": "code",
   "execution_count": 358,
   "metadata": {},
   "outputs": [],
   "source": [
    "prediction = cvModel.transform(test)"
   ]
  },
  {
   "cell_type": "code",
   "execution_count": 359,
   "metadata": {},
   "outputs": [],
   "source": [
    "selected = prediction.select(\"is_default\", \"probability\", \"prediction\")"
   ]
  },
  {
   "cell_type": "code",
   "execution_count": 360,
   "metadata": {},
   "outputs": [
    {
     "data": {
      "text/plain": [
       "<pyspark.ml.classification.BinaryLogisticRegressionTrainingSummary at 0x7f39479ec898>"
      ]
     },
     "execution_count": 360,
     "metadata": {},
     "output_type": "execute_result"
    }
   ],
   "source": [
    "cvModel.bestModel.summary"
   ]
  },
  {
   "cell_type": "code",
   "execution_count": 361,
   "metadata": {},
   "outputs": [
    {
     "data": {
      "text/plain": [
       "DataFrame[threshold: double, recall: double]"
      ]
     },
     "execution_count": 361,
     "metadata": {},
     "output_type": "execute_result"
    }
   ],
   "source": [
    "cvModel.bestModel.summary.recallByThreshold"
   ]
  },
  {
   "cell_type": "code",
   "execution_count": 362,
   "metadata": {},
   "outputs": [
    {
     "data": {
      "text/plain": [
       "DataFrame[threshold: double, precision: double]"
      ]
     },
     "execution_count": 362,
     "metadata": {},
     "output_type": "execute_result"
    }
   ],
   "source": [
    "cvModel.bestModel.summary.precisionByThreshold"
   ]
  },
  {
   "cell_type": "code",
   "execution_count": 363,
   "metadata": {},
   "outputs": [
    {
     "data": {
      "text/plain": [
       "1.0"
      ]
     },
     "execution_count": 363,
     "metadata": {},
     "output_type": "execute_result"
    }
   ],
   "source": [
    "cvModel.bestModel.summary.accuracy"
   ]
  },
  {
   "cell_type": "code",
   "execution_count": 364,
   "metadata": {},
   "outputs": [
    {
     "data": {
      "text/plain": [
       "0.9999507589376436"
      ]
     },
     "execution_count": 364,
     "metadata": {},
     "output_type": "execute_result"
    }
   ],
   "source": [
    "cvModel.bestModel.summary.areaUnderROC"
   ]
  },
  {
   "cell_type": "code",
   "execution_count": 365,
   "metadata": {},
   "outputs": [
    {
     "data": {
      "text/plain": [
       "[1.0, 1.0]"
      ]
     },
     "execution_count": 365,
     "metadata": {},
     "output_type": "execute_result"
    }
   ],
   "source": [
    "cvModel.bestModel.summary.recallByLabel"
   ]
  },
  {
   "cell_type": "code",
   "execution_count": 366,
   "metadata": {},
   "outputs": [
    {
     "data": {
      "text/plain": [
       "0.0"
      ]
     },
     "execution_count": 366,
     "metadata": {},
     "output_type": "execute_result"
    }
   ],
   "source": [
    "cvModel.bestModel._java_obj.getRegParam()\n",
    "cvModel.bestModel._java_obj.getMaxIter()\n",
    "cvModel.bestModel._java_obj.getElasticNetParam()"
   ]
  },
  {
   "cell_type": "code",
   "execution_count": 367,
   "metadata": {},
   "outputs": [
    {
     "data": {
      "text/html": [
       "<div>\n",
       "<style scoped>\n",
       "    .dataframe tbody tr th:only-of-type {\n",
       "        vertical-align: middle;\n",
       "    }\n",
       "\n",
       "    .dataframe tbody tr th {\n",
       "        vertical-align: top;\n",
       "    }\n",
       "\n",
       "    .dataframe thead th {\n",
       "        text-align: right;\n",
       "    }\n",
       "</style>\n",
       "<table border=\"1\" class=\"dataframe\">\n",
       "  <thead>\n",
       "    <tr style=\"text-align: right;\">\n",
       "      <th></th>\n",
       "      <th>0</th>\n",
       "    </tr>\n",
       "  </thead>\n",
       "  <tbody>\n",
       "    <tr>\n",
       "      <td>0</td>\n",
       "      <td>0.396018</td>\n",
       "    </tr>\n",
       "    <tr>\n",
       "      <td>1</td>\n",
       "      <td>0.262540</td>\n",
       "    </tr>\n",
       "    <tr>\n",
       "      <td>2</td>\n",
       "      <td>0.214164</td>\n",
       "    </tr>\n",
       "    <tr>\n",
       "      <td>3</td>\n",
       "      <td>0.193590</td>\n",
       "    </tr>\n",
       "    <tr>\n",
       "      <td>4</td>\n",
       "      <td>0.186594</td>\n",
       "    </tr>\n",
       "    <tr>\n",
       "      <td>5</td>\n",
       "      <td>0.184556</td>\n",
       "    </tr>\n",
       "    <tr>\n",
       "      <td>6</td>\n",
       "      <td>0.182560</td>\n",
       "    </tr>\n",
       "    <tr>\n",
       "      <td>7</td>\n",
       "      <td>0.175518</td>\n",
       "    </tr>\n",
       "    <tr>\n",
       "      <td>8</td>\n",
       "      <td>0.172858</td>\n",
       "    </tr>\n",
       "    <tr>\n",
       "      <td>9</td>\n",
       "      <td>0.172444</td>\n",
       "    </tr>\n",
       "    <tr>\n",
       "      <td>10</td>\n",
       "      <td>0.172391</td>\n",
       "    </tr>\n",
       "  </tbody>\n",
       "</table>\n",
       "</div>"
      ],
      "text/plain": [
       "           0\n",
       "0   0.396018\n",
       "1   0.262540\n",
       "2   0.214164\n",
       "3   0.193590\n",
       "4   0.186594\n",
       "5   0.184556\n",
       "6   0.182560\n",
       "7   0.175518\n",
       "8   0.172858\n",
       "9   0.172444\n",
       "10  0.172391"
      ]
     },
     "execution_count": 367,
     "metadata": {},
     "output_type": "execute_result"
    }
   ],
   "source": [
    "pd.DataFrame(cvModel.bestModel.summary.objectiveHistory)"
   ]
  },
  {
   "cell_type": "code",
   "execution_count": 368,
   "metadata": {},
   "outputs": [
    {
     "data": {
      "text/plain": [
       "[1.0, 1.0, 1.0, 1.0, 1.0, 1.0, 1.0, 1.0, 1.0, 1.0, 1.0, 1.0]"
      ]
     },
     "execution_count": 368,
     "metadata": {},
     "output_type": "execute_result"
    }
   ],
   "source": [
    "cvModel.avgMetrics"
   ]
  },
  {
   "cell_type": "code",
   "execution_count": 374,
   "metadata": {},
   "outputs": [
    {
     "name": "stdout",
     "output_type": "stream",
     "text": [
      "1.0\n",
      "1.0\n",
      "1.0\n",
      "1.0\n",
      "1.0041133455210238\n",
      "1.0\n",
      "0.9959035047792444\n",
      "0.9959035047792444\n",
      "1.0041133455210238\n",
      "1.0\n",
      "1.0\n",
      "1.0\n",
      "1.0\n",
      "1.0059578368469295\n",
      "1.0\n",
      "1.0059578368469295\n",
      "1.0\n",
      "1.0059578368469295\n",
      "1.0\n",
      "0.9940774487471526\n",
      "1.0059578368469295\n",
      "1.0059578368469295\n",
      "1.0\n",
      "1.0059578368469295\n",
      "1.0\n",
      "1.0\n",
      "0.9941546762589928\n",
      "1.0\n",
      "1.0\n",
      "1.0\n",
      "0.9997738579828132\n",
      "1.0\n",
      "1.0\n",
      "1.0\n",
      "1.0058796924468567\n",
      "0.9941546762589928\n"
     ]
    }
   ],
   "source": [
    "for i in cvModel.subModels:\n",
    "    for model in i:\n",
    "        print(model.summary.accuracy)"
   ]
  },
  {
   "cell_type": "code",
   "execution_count": 382,
   "metadata": {},
   "outputs": [
    {
     "data": {
      "text/plain": [
       "[(1.0, 1.0, 1.0),\n",
       " (1.0, 1.0059578368469295, 1.0),\n",
       " (1.0, 1.0, 0.9941546762589928),\n",
       " (1.0, 1.0059578368469295, 1.0),\n",
       " (1.0041133455210238, 1.0, 1.0),\n",
       " (1.0, 1.0059578368469295, 1.0),\n",
       " (0.9959035047792444, 1.0, 0.9997738579828132),\n",
       " (0.9959035047792444, 0.9940774487471526, 1.0),\n",
       " (1.0041133455210238, 1.0059578368469295, 1.0),\n",
       " (1.0, 1.0059578368469295, 1.0),\n",
       " (1.0, 1.0, 1.0058796924468567),\n",
       " (1.0, 1.0059578368469295, 0.9941546762589928)]"
      ]
     },
     "execution_count": 382,
     "metadata": {},
     "output_type": "execute_result"
    }
   ],
   "source": [
    "list(zip([model.summary.accuracy for model in cvModel.subModels[0]], \n",
    "    [model.summary.accuracy for model in cvModel.subModels[1]], \n",
    "    [model.summary.accuracy for model in cvModel.subModels[2]]))"
   ]
  },
  {
   "cell_type": "code",
   "execution_count": 385,
   "metadata": {},
   "outputs": [
    {
     "name": "stdout",
     "output_type": "stream",
     "text": [
      "+----------+--------------------+\n",
      "|is_default|            features|\n",
      "+----------+--------------------+\n",
      "|         0|[0.0,0.0,0.0,0.0,...|\n",
      "|         0|[0.0,0.0,0.0,0.0,...|\n",
      "|         0|[0.0,0.0,0.0,0.0,...|\n",
      "|         0|[0.0,0.0,0.0,0.0,...|\n",
      "|         0|[0.0,0.0,0.0,0.0,...|\n",
      "|         0|[0.0,0.0,0.0,0.0,...|\n",
      "|         0|[0.0,0.0,0.0,0.0,...|\n",
      "|         0|[0.0,0.0,0.0,0.0,...|\n",
      "|         0|[0.0,0.0,0.0,0.0,...|\n",
      "|         0|[0.0,0.0,0.0,0.0,...|\n",
      "|         0|[0.0,0.0,0.0,0.0,...|\n",
      "|         0|[0.0,0.0,0.0,0.0,...|\n",
      "|         0|[0.0,0.0,0.0,0.0,...|\n",
      "|         0|[0.0,0.0,0.0,0.0,...|\n",
      "|         0|[0.0,0.0,0.0,0.0,...|\n",
      "|         0|[0.0,0.0,0.0,0.0,...|\n",
      "|         0|[0.0,0.0,0.0,0.0,...|\n",
      "|         0|[0.0,0.0,0.0,0.0,...|\n",
      "|         0|[0.0,0.0,0.0,0.0,...|\n",
      "|         0|[0.0,0.0,0.0,0.0,...|\n",
      "+----------+--------------------+\n",
      "only showing top 20 rows\n",
      "\n"
     ]
    }
   ],
   "source": [
    "train.show()"
   ]
  },
  {
   "cell_type": "code",
   "execution_count": null,
   "metadata": {},
   "outputs": [],
   "source": []
  },
  {
   "cell_type": "code",
   "execution_count": 241,
   "metadata": {},
   "outputs": [],
   "source": [
    "# In this case the estimator is simply the logistic regression.\n",
    "# A TrainValidationSplit requires an Estimator, a set of Estimator ParamMaps, and an Evaluator.\n",
    "tvs = TrainValidationSplit(estimator=lr,\n",
    "                           estimatorParamMaps=paramGrid,\n",
    "                           evaluator=evaluator,\n",
    "                           # 80% of the data will be used for training, 20% for validation.\n",
    "                           trainRatio=0.8)"
   ]
  },
  {
   "cell_type": "code",
   "execution_count": 242,
   "metadata": {},
   "outputs": [
    {
     "data": {
      "text/plain": [
       "TrainValidationSplit_8f552da362bc"
      ]
     },
     "execution_count": 242,
     "metadata": {},
     "output_type": "execute_result"
    }
   ],
   "source": [
    "tvs.setCollectSubModels(True)"
   ]
  },
  {
   "cell_type": "code",
   "execution_count": 243,
   "metadata": {},
   "outputs": [],
   "source": [
    "# Run TrainValidationSplit, and choose the best set of parameters.\n",
    "model = tvs.fit(train)"
   ]
  },
  {
   "cell_type": "code",
   "execution_count": 273,
   "metadata": {},
   "outputs": [
    {
     "data": {
      "text/plain": [
       "<pyspark.ml.classification.BinaryLogisticRegressionTrainingSummary at 0x7f398c254390>"
      ]
     },
     "execution_count": 273,
     "metadata": {},
     "output_type": "execute_result"
    }
   ],
   "source": [
    "model.bestModel.summary"
   ]
  },
  {
   "cell_type": "code",
   "execution_count": 244,
   "metadata": {},
   "outputs": [],
   "source": [
    "# Make predictions on test data. model is the model with combination of parameters\n",
    "# that performed best.\n",
    "predictions_ht = model.transform(test)"
   ]
  },
  {
   "cell_type": "code",
   "execution_count": 259,
   "metadata": {},
   "outputs": [
    {
     "data": {
      "text/plain": [
       "[0.3998537532364242,\n",
       " 0.35217362526321316,\n",
       " 0.29014277038430636,\n",
       " 0.23509484275931694,\n",
       " 0.21167070833355528,\n",
       " 0.20716902896036318,\n",
       " 0.2060997915892925,\n",
       " 0.20609685046617543,\n",
       " 0.2060089771296738,\n",
       " 0.20476787800541163,\n",
       " 0.20443482719890943]"
      ]
     },
     "execution_count": 259,
     "metadata": {},
     "output_type": "execute_result"
    }
   ],
   "source": [
    "#for learning curves for given model> specifies cost function at each iteration\n",
    "model.subModels[1].summary.objectiveHistory"
   ]
  },
  {
   "cell_type": "code",
   "execution_count": null,
   "metadata": {},
   "outputs": [],
   "source": [
    "#remember to set parallelism to -1 in train val split and others"
   ]
  },
  {
   "cell_type": "code",
   "execution_count": 271,
   "metadata": {},
   "outputs": [
    {
     "data": {
      "text/plain": [
       "12"
      ]
     },
     "execution_count": 271,
     "metadata": {},
     "output_type": "execute_result"
    }
   ],
   "source": [
    "len(model.validationMetrics)"
   ]
  },
  {
   "cell_type": "code",
   "execution_count": 275,
   "metadata": {},
   "outputs": [
    {
     "data": {
      "text/plain": [
       "[1.0, 1.0, 1.0, 1.0, 1.0, 1.0, 1.0, 1.0, 1.0, 1.0, 1.0, 1.0]"
      ]
     },
     "execution_count": 275,
     "metadata": {},
     "output_type": "execute_result"
    }
   ],
   "source": [
    "model.validationMetrics"
   ]
  },
  {
   "cell_type": "code",
   "execution_count": 276,
   "metadata": {},
   "outputs": [
    {
     "name": "stdout",
     "output_type": "stream",
     "text": [
      "0.9943460233697701\n",
      "1.0056861258529188\n",
      "0.9943460233697701\n",
      "1.0\n",
      "1.0\n",
      "1.0\n",
      "1.0\n",
      "1.0\n",
      "1.0056861258529188\n",
      "1.0\n",
      "1.0056861258529188\n",
      "1.0\n"
     ]
    }
   ],
   "source": [
    "for i in model.subModels:\n",
    "    print(i.summary.accuracy)"
   ]
  },
  {
   "cell_type": "code",
   "execution_count": 260,
   "metadata": {},
   "outputs": [
    {
     "data": {
      "text/plain": [
       "12"
      ]
     },
     "execution_count": 260,
     "metadata": {},
     "output_type": "execute_result"
    }
   ],
   "source": [
    "len(model.subModels)"
   ]
  },
  {
   "cell_type": "code",
   "execution_count": 263,
   "metadata": {},
   "outputs": [
    {
     "data": {
      "text/plain": [
       "1.0056861258529188"
      ]
     },
     "execution_count": 263,
     "metadata": {},
     "output_type": "execute_result"
    }
   ],
   "source": [
    "model.subModels[1].summary.accuracy"
   ]
  },
  {
   "cell_type": "code",
   "execution_count": 277,
   "metadata": {},
   "outputs": [
    {
     "data": {
      "text/plain": [
       "<pyspark.ml.classification.BinaryLogisticRegressionTrainingSummary at 0x7f398ce1b3c8>"
      ]
     },
     "execution_count": 277,
     "metadata": {},
     "output_type": "execute_result"
    }
   ],
   "source": [
    "model.subModels[1].summary"
   ]
  },
  {
   "cell_type": "code",
   "execution_count": null,
   "metadata": {},
   "outputs": [],
   "source": [
    "#Can also do this"
   ]
  },
  {
   "cell_type": "code",
   "execution_count": 287,
   "metadata": {},
   "outputs": [],
   "source": [
    "evaluator_acc = BinaryClassificationEvaluator(labelCol=\"is_default\",predictionCol=\"prediction\", metricName=\"accuracy\")"
   ]
  },
  {
   "cell_type": "code",
   "execution_count": 290,
   "metadata": {},
   "outputs": [],
   "source": [
    "accuracy = evaluator.evaluate(predictions)"
   ]
  },
  {
   "cell_type": "code",
   "execution_count": 291,
   "metadata": {},
   "outputs": [
    {
     "data": {
      "text/plain": [
       "1.0"
      ]
     },
     "execution_count": 291,
     "metadata": {},
     "output_type": "execute_result"
    }
   ],
   "source": [
    "accuracy"
   ]
  },
  {
   "cell_type": "code",
   "execution_count": 298,
   "metadata": {},
   "outputs": [],
   "source": [
    "evaluator_ac = BinaryClassificationEvaluator(labelCol=\"is_default\", metricName=\"recall\")"
   ]
  },
  {
   "cell_type": "code",
   "execution_count": 300,
   "metadata": {},
   "outputs": [],
   "source": [
    "recall = evaluator.evaluate(predictions)"
   ]
  },
  {
   "cell_type": "code",
   "execution_count": 301,
   "metadata": {},
   "outputs": [
    {
     "data": {
      "text/plain": [
       "1.0"
      ]
     },
     "execution_count": 301,
     "metadata": {},
     "output_type": "execute_result"
    }
   ],
   "source": [
    "recall"
   ]
  },
  {
   "cell_type": "code",
   "execution_count": 387,
   "metadata": {},
   "outputs": [],
   "source": [
    "cvModel.bestModel.summary.recallByThreshold.toPandas().to_csv(\"data/baseline/CV_results/CV_recall_by_treshold.csv\")\n",
    "cvModel.bestModel.summary.precisionByThreshold.toPandas().to_csv(\"data/baseline/CV_results/CV_precision_by_treshold.csv\")\n",
    "pd.DataFrame(cvModel.bestModel.summary.objectiveHistory).to_csv(\"data/baseline/CV_results/CV_objective_history.csv\")"
   ]
  },
  {
   "cell_type": "code",
   "execution_count": null,
   "metadata": {},
   "outputs": [],
   "source": [
    "select threshold for best model and then do cost benefit analysis. How do costs and profits change as I move threshold up and down. "
   ]
  },
  {
   "cell_type": "code",
   "execution_count": null,
   "metadata": {},
   "outputs": [],
   "source": []
  },
  {
   "cell_type": "code",
   "execution_count": null,
   "metadata": {},
   "outputs": [],
   "source": [
    "Do CV and get best model. Then do val curves and learning curves for it. "
   ]
  },
  {
   "cell_type": "code",
   "execution_count": null,
   "metadata": {},
   "outputs": [],
   "source": [
    "Validation Curves: do model across two hyperparameter dimensions and get accuracy at each value. Then plot multiple for each "
   ]
  },
  {
   "cell_type": "markdown",
   "metadata": {},
   "source": [
    "Learning curves: separate data independently into train and val, then do one TrainValidationSplit with all train and one TrainValidationSplit with all val to get scores"
   ]
  },
  {
   "cell_type": "code",
   "execution_count": null,
   "metadata": {},
   "outputs": [],
   "source": []
  },
  {
   "cell_type": "code",
   "execution_count": null,
   "metadata": {},
   "outputs": [],
   "source": [
    "#CrossValidatorModel avgMEtrics: average corss val metrics for each paramMap"
   ]
  },
  {
   "cell_type": "raw",
   "metadata": {},
   "source": [
    "Training summary based on original model"
   ]
  },
  {
   "cell_type": "code",
   "execution_count": 226,
   "metadata": {},
   "outputs": [],
   "source": [
    "# Extract the summary from the returned LogisticRegressionModel instance trained\n",
    "# in the earlier example\n",
    "trainingSummary = lrModel.summary"
   ]
  },
  {
   "cell_type": "code",
   "execution_count": 227,
   "metadata": {},
   "outputs": [
    {
     "name": "stderr",
     "output_type": "stream",
     "text": [
      "Exception ignored in: <object repr() failed>\n",
      "Traceback (most recent call last):\n",
      "  File \"/etc/spark/python/lib/pyspark.zip/pyspark/ml/wrapper.py\", line 40, in __del__\n",
      "AttributeError: 'BinaryClassificationEvaluator' object has no attribute '_java_obj'\n"
     ]
    },
    {
     "data": {
      "image/png": "[encoded data removed]",
      "text/plain": [
       "<matplotlib.figure.Figure at 0x7f398ce43f28>"
      ]
     },
     "metadata": {
      "needs_background": "light"
     },
     "output_type": "display_data"
    }
   ],
   "source": [
    "roc = trainingSummary.roc.toPandas()\n",
    "plt.plot(roc['FPR'],roc['TPR'])\n",
    "plt.ylabel('False Positive Rate')\n",
    "plt.xlabel('True Positive Rate')\n",
    "plt.title('ROC Curve')\n",
    "plt.show()"
   ]
  },
  {
   "cell_type": "code",
   "execution_count": 228,
   "metadata": {},
   "outputs": [
    {
     "name": "stdout",
     "output_type": "stream",
     "text": [
      "Training set areaUnderROC: 1.0\n"
     ]
    }
   ],
   "source": [
    "print('Training set areaUnderROC: ' + str(trainingSummary.areaUnderROC))"
   ]
  },
  {
   "cell_type": "code",
   "execution_count": 229,
   "metadata": {},
   "outputs": [
    {
     "data": {
      "image/png": "[encoded data removed]",
      "text/plain": [
       "<matplotlib.figure.Figure at 0x7f398c39dc50>"
      ]
     },
     "metadata": {
      "needs_background": "light"
     },
     "output_type": "display_data"
    }
   ],
   "source": [
    "pr = trainingSummary.pr.toPandas()\n",
    "plt.plot(pr['recall'],pr['precision'])\n",
    "plt.ylabel('Precision')\n",
    "plt.xlabel('Recall')\n",
    "plt.show()"
   ]
  },
  {
   "cell_type": "code",
   "execution_count": 230,
   "metadata": {},
   "outputs": [
    {
     "name": "stdout",
     "output_type": "stream",
     "text": [
      "objectiveHistory:\n",
      "0.3993130226990159\n",
      "0.3934233823822184\n",
      "0.3778851164000152\n",
      "0.3773064015995975\n",
      "0.3766276778563566\n",
      "0.37652792092504356\n",
      "0.3764349383741362\n",
      "0.3759882833128789\n",
      "0.3736064329218666\n",
      "0.3731875517987291\n",
      "0.37317442016678193\n"
     ]
    }
   ],
   "source": [
    "# Obtain the objective per iteration\n",
    "objectiveHistory = trainingSummary.objectiveHistory\n",
    "print(\"objectiveHistory:\")\n",
    "for objective in objectiveHistory:\n",
    "    print(objective)"
   ]
  },
  {
   "cell_type": "code",
   "execution_count": 231,
   "metadata": {},
   "outputs": [
    {
     "name": "stdout",
     "output_type": "stream",
     "text": [
      "+---+---+\n",
      "|FPR|TPR|\n",
      "+---+---+\n",
      "|0.0|0.0|\n",
      "|0.0|1.0|\n",
      "|1.0|1.0|\n",
      "|1.0|1.0|\n",
      "+---+---+\n",
      "\n",
      "areaUnderROC: 1.0\n"
     ]
    }
   ],
   "source": [
    "# Obtain the receiver-operating characteristic as a dataframe and areaUnderROC.\n",
    "trainingSummary.roc.show()\n",
    "print(\"areaUnderROC: \" + str(trainingSummary.areaUnderROC))"
   ]
  },
  {
   "cell_type": "code",
   "execution_count": 232,
   "metadata": {},
   "outputs": [],
   "source": [
    "# Set the model threshold to maximize F-Measure\n",
    "fMeasure = trainingSummary.fMeasureByThreshold\n",
    "maxFMeasure = fMeasure.groupBy().max('F-Measure').select('max(F-Measure)').head()\n",
    "bestThreshold = fMeasure.where(fMeasure['F-Measure'] == maxFMeasure['max(F-Measure)']) \\\n",
    "    .select('threshold').head()['threshold']"
   ]
  },
  {
   "cell_type": "code",
   "execution_count": 233,
   "metadata": {},
   "outputs": [
    {
     "data": {
      "text/plain": [
       "LogisticRegression_762037d506c4"
      ]
     },
     "execution_count": 233,
     "metadata": {},
     "output_type": "execute_result"
    }
   ],
   "source": [
    "lr.setThreshold(bestThreshold)"
   ]
  },
  {
   "cell_type": "code",
   "execution_count": 234,
   "metadata": {},
   "outputs": [
    {
     "data": {
      "text/plain": [
       "0.3209283514555939"
      ]
     },
     "execution_count": 234,
     "metadata": {},
     "output_type": "execute_result"
    }
   ],
   "source": [
    "bestThreshold"
   ]
  },
  {
   "cell_type": "code",
   "execution_count": 235,
   "metadata": {},
   "outputs": [
    {
     "data": {
      "text/plain": [
       "<pyspark.ml.classification.BinaryLogisticRegressionTrainingSummary at 0x7f394a34d240>"
      ]
     },
     "execution_count": 235,
     "metadata": {},
     "output_type": "execute_result"
    }
   ],
   "source": [
    "trainingSummary"
   ]
  },
  {
   "cell_type": "code",
   "execution_count": 237,
   "metadata": {},
   "outputs": [
    {
     "data": {
      "text/plain": [
       "[0.3993130226990159,\n",
       " 0.3934233823822184,\n",
       " 0.3778851164000152,\n",
       " 0.3773064015995975,\n",
       " 0.3766276778563566,\n",
       " 0.37652792092504356,\n",
       " 0.3764349383741362,\n",
       " 0.3759882833128789,\n",
       " 0.3736064329218666,\n",
       " 0.3731875517987291,\n",
       " 0.37317442016678193]"
      ]
     },
     "execution_count": 237,
     "metadata": {},
     "output_type": "execute_result"
    }
   ],
   "source": [
    "objectiveHistory"
   ]
  },
  {
   "cell_type": "code",
   "execution_count": null,
   "metadata": {},
   "outputs": [],
   "source": []
  }
 ],
 "metadata": {
  "kernelspec": {
   "display_name": "Python 3",
   "language": "python",
   "name": "python3"
  },
  "language_info": {
   "codemirror_mode": {
    "name": "ipython",
    "version": 3
   },
   "file_extension": ".py",
   "mimetype": "text/x-python",
   "name": "python",
   "nbconvert_exporter": "python",
   "pygments_lexer": "ipython3",
   "version": "3.6.9"
  }
 },
 "nbformat": 4,
 "nbformat_minor": 4
}
