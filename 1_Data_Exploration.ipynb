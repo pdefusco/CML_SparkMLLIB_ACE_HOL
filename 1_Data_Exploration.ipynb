{
 "cells": [
  {
   "cell_type": "code",
   "execution_count": 1,
   "metadata": {},
   "outputs": [],
   "source": [
    "from pyspark.sql import SparkSession\n",
    "from pyspark.sql import functions as F"
   ]
  },
  {
   "cell_type": "code",
   "execution_count": 2,
   "metadata": {},
   "outputs": [],
   "source": [
    "import numpy as np\n",
    "import pandas as pd\n",
    "import os"
   ]
  },
  {
   "cell_type": "code",
   "execution_count": 3,
   "metadata": {},
   "outputs": [],
   "source": [
    "import matplotlib.pyplot as plt"
   ]
  },
  {
   "cell_type": "code",
   "execution_count": 4,
   "metadata": {},
   "outputs": [],
   "source": [
    "import seaborn as sns"
   ]
  },
  {
   "cell_type": "code",
   "execution_count": 5,
   "metadata": {},
   "outputs": [
    {
     "name": "stderr",
     "output_type": "stream",
     "text": [
      "Setting spark.hadoop.yarn.resourcemanager.principal to pauldefusco\n"
     ]
    }
   ],
   "source": [
    "spark = SparkSession\\\n",
    "    .builder\\\n",
    "    .appName(\"PythonSQL\")\\\n",
    "    .config(\"spark.hadoop.fs.s3a.s3guard.ddb.region\",\"us-east-2\")\\\n",
    "    .config(\"spark.yarn.access.hadoopFileSystems\",os.environ[\"STORAGE\"])\\\n",
    "    .getOrCreate()\n",
    "\n",
    "#.config(\"spark.hadoop.fs.s3a.s3guard.ddb.region\",\"us-east-2\")\\"
   ]
  },
  {
   "cell_type": "code",
   "execution_count": 14,
   "metadata": {},
   "outputs": [
    {
     "name": "stdout",
     "output_type": "stream",
     "text": [
      "https://spark-i5ksryzo83c05o5z.ml-4c5feac0-3ec.go01-dem.ylcu-atmi.cloudera.site\n"
     ]
    }
   ],
   "source": [
    "import os\n",
    "print(\"https://spark-\"+os.environ[\"CDSW_ENGINE_ID\"]+\".\"+os.environ[\"CDSW_DOMAIN\"])"
   ]
  },
  {
   "cell_type": "code",
   "execution_count": 6,
   "metadata": {},
   "outputs": [],
   "source": [
    "#df = spark.read.csv('data/LoanStats_2015_subset.csv')\n",
    "#df = spark.read.option('inferschema','true').csv('data/original/LoanStats_2015_subset.csv', header=True)"
   ]
  },
  {
   "cell_type": "code",
   "execution_count": 7,
   "metadata": {},
   "outputs": [
    {
     "name": "stderr",
     "output_type": "stream",
     "text": [
      "                                                                                \r"
     ]
    }
   ],
   "source": [
    "df = spark.read.option('inferschema','true').csv(\n",
    "  os.environ[\"STORAGE\"] + \"/credit_demo/LoanStats_2015_original.csv\",\n",
    "  header=True,\n",
    "  sep=',',\n",
    "  nullValue='NA'\n",
    ")"
   ]
  },
  {
   "cell_type": "code",
   "execution_count": 8,
   "metadata": {},
   "outputs": [
    {
     "data": {
      "text/plain": [
       "[Row(acc_now_delinq=0, acc_open_past_24mths=8, addr_state='KS', all_util=42, annual_inc=65000.0, annual_inc_joint=None, application_type='Individual', avg_cur_bal=10086, bc_open_to_buy=41055, bc_util=17.1, chargeoff_within_12_mths=0, collections_12_mths_ex_med=0, delinq_2yrs=0, delinq_amnt=0, desc='', dti=23.84, dti_joint=None, earliest_cr_line='Nov-2003', emp_length='10+ years', emp_title='Teacher', funded_amnt=12000, funded_amnt_inv=12000, grade='B', home_ownership='MORTGAGE', id='', il_util=61, initial_list_status='w', inq_fi=0, inq_last_12m=0, inq_last_6mths=0, installment=253.79, int_rate='  9.80%', issue_d='Dec-2015', loan_amnt=12000, loan_status='Fully Paid', max_bal_bc=7909, member_id=None, mo_sin_old_il_acct=127, mo_sin_old_rev_tl_op=145, mo_sin_rcnt_rev_tl_op=4, mo_sin_rcnt_tl=1, mort_acc=2, mths_since_last_delinq=None, mths_since_last_major_derog=None, mths_since_last_record=None, mths_since_rcnt_il=1, mths_since_recent_bc=4, mths_since_recent_bc_dlq=None, mths_since_recent_inq=14, mths_since_recent_revol_delinq=None, num_accts_ever_120_pd=0, num_actv_bc_tl=2, num_actv_rev_tl=4, num_bc_sats=5, num_bc_tl=10, num_il_tl=13, num_op_rev_tl=11, num_rev_accts=22, num_rev_tl_bal_gt_0=4, num_sats=18, num_tl_120dpd_2m=0, num_tl_30dpd=0, num_tl_90g_dpd_24m=0, num_tl_op_past_12m=3, open_acc=18, open_acc_6m=2, open_il_12m=2, open_il_24m=3, open_act_il=6, open_rv_12m=1, open_rv_24m=5, pct_tl_nvr_dlq=100.0, percent_bc_gt_75=0.0, policy_code=1, pub_rec=0, pub_rec_bankruptcies=0, purpose='debt_consolidation', revol_bal=9786, revol_util='13.4%', sub_grade='B3', tax_liens=0, term=' 60 months', title='Debt consolidation', tot_cur_bal=181540, tot_hi_cred_lim=291626, total_acc=37, total_bal_ex_mort=74787, total_bal_il=65001, total_bc_limit=49500, total_cu_tl=0, total_il_high_credit_limit=105910, total_rev_hi_lim=73200, verification_status='Not Verified', zip_code='660xx', revol_bal_joint=None, sec_app_earliest_cr_line=None, sec_app_inq_last_6mths=None, sec_app_mort_acc=None, sec_app_open_acc=None, sec_app_revol_util=None, sec_app_open_act_il=None, sec_app_num_rev_accts=None, sec_app_chargeoff_within_12_mths=None, sec_app_collections_12_mths_ex_med=None, sec_app_mths_since_last_major_derog=None),\n",
       " Row(acc_now_delinq=0, acc_open_past_24mths=1, addr_state='VT', all_util=34, annual_inc=150000.0, annual_inc_joint=None, application_type='Individual', avg_cur_bal=61551, bc_open_to_buy=24661, bc_util=44.0, chargeoff_within_12_mths=0, collections_12_mths_ex_med=0, delinq_2yrs=0, delinq_amnt=0, desc='', dti=9.54, dti_joint=None, earliest_cr_line='Feb-1996', emp_length='1 year', emp_title='Director', funded_amnt=25000, funded_amnt_inv=25000, grade='A', home_ownership='MORTGAGE', id='', il_util=6, initial_list_status='w', inq_fi=0, inq_last_12m=0, inq_last_6mths=0, installment=752.87, int_rate='  5.32%', issue_d='Dec-2015', loan_amnt=25000, loan_status='Current', max_bal_bc=19339, member_id=None, mo_sin_old_il_acct=166, mo_sin_old_rev_tl_op=238, mo_sin_rcnt_rev_tl_op=4, mo_sin_rcnt_tl=4, mort_acc=7, mths_since_last_delinq=None, mths_since_last_major_derog=None, mths_since_last_record=None, mths_since_rcnt_il=28, mths_since_recent_bc=73, mths_since_recent_bc_dlq=None, mths_since_recent_inq=None, mths_since_recent_revol_delinq=None, num_accts_ever_120_pd=0, num_actv_bc_tl=1, num_actv_rev_tl=1, num_bc_sats=3, num_bc_tl=3, num_il_tl=4, num_op_rev_tl=4, num_rev_accts=7, num_rev_tl_bal_gt_0=1, num_sats=7, num_tl_120dpd_2m=0, num_tl_30dpd=0, num_tl_90g_dpd_24m=0, num_tl_op_past_12m=1, open_acc=7, open_acc_6m=1, open_il_12m=0, open_il_24m=0, open_act_il=2, open_rv_12m=1, open_rv_24m=1, pct_tl_nvr_dlq=100.0, percent_bc_gt_75=0.0, policy_code=1, pub_rec=0, pub_rec_bankruptcies=0, purpose='credit_card', revol_bal=19339, revol_util='42.5%', sub_grade='A1', tax_liens=0, term=' 36 months', title='Credit card refinancing', tot_cur_bal=430856, tot_hi_cred_lim=512381, total_acc=18, total_bal_ex_mort=44786, total_bal_il=25447, total_bc_limit=44000, total_cu_tl=7, total_il_high_credit_limit=51081, total_rev_hi_lim=45500, verification_status='Not Verified', zip_code='054xx', revol_bal_joint=None, sec_app_earliest_cr_line=None, sec_app_inq_last_6mths=None, sec_app_mort_acc=None, sec_app_open_acc=None, sec_app_revol_util=None, sec_app_open_act_il=None, sec_app_num_rev_accts=None, sec_app_chargeoff_within_12_mths=None, sec_app_collections_12_mths_ex_med=None, sec_app_mths_since_last_major_derog=None)]"
      ]
     },
     "execution_count": 8,
     "metadata": {},
     "output_type": "execute_result"
    }
   ],
   "source": [
    "df.take(2)"
   ]
  },
  {
   "cell_type": "code",
   "execution_count": 9,
   "metadata": {},
   "outputs": [
    {
     "name": "stdout",
     "output_type": "stream",
     "text": [
      "s3a://go01-demodata/LoanStats_2015_subset_120321.csv\n"
     ]
    }
   ],
   "source": [
    "print(os.environ[\"STORAGE\"] + \"data/LoanStats_2015_subset_120321.csv\")"
   ]
  },
  {
   "cell_type": "code",
   "execution_count": 10,
   "metadata": {},
   "outputs": [
    {
     "data": {
      "text/plain": [
       "pyspark.sql.dataframe.DataFrame"
      ]
     },
     "execution_count": 10,
     "metadata": {},
     "output_type": "execute_result"
    }
   ],
   "source": [
    "type(df)"
   ]
  },
  {
   "cell_type": "code",
   "execution_count": 11,
   "metadata": {},
   "outputs": [],
   "source": [
    "#df.head()"
   ]
  },
  {
   "cell_type": "code",
   "execution_count": 12,
   "metadata": {},
   "outputs": [
    {
     "name": "stdout",
     "output_type": "stream",
     "text": [
      "root\n",
      " |-- acc_now_delinq: integer (nullable = true)\n",
      " |-- acc_open_past_24mths: integer (nullable = true)\n",
      " |-- addr_state: string (nullable = true)\n",
      " |-- all_util: integer (nullable = true)\n",
      " |-- annual_inc: double (nullable = true)\n",
      " |-- annual_inc_joint: double (nullable = true)\n",
      " |-- application_type: string (nullable = true)\n",
      " |-- avg_cur_bal: integer (nullable = true)\n",
      " |-- bc_open_to_buy: integer (nullable = true)\n",
      " |-- bc_util: double (nullable = true)\n",
      " |-- chargeoff_within_12_mths: integer (nullable = true)\n",
      " |-- collections_12_mths_ex_med: integer (nullable = true)\n",
      " |-- delinq_2yrs: integer (nullable = true)\n",
      " |-- delinq_amnt: integer (nullable = true)\n",
      " |-- desc: string (nullable = true)\n",
      " |-- dti: double (nullable = true)\n",
      " |-- dti_joint: double (nullable = true)\n",
      " |-- earliest_cr_line: string (nullable = true)\n",
      " |-- emp_length: string (nullable = true)\n",
      " |-- emp_title: string (nullable = true)\n",
      " |-- funded_amnt: integer (nullable = true)\n",
      " |-- funded_amnt_inv: integer (nullable = true)\n",
      " |-- grade: string (nullable = true)\n",
      " |-- home_ownership: string (nullable = true)\n",
      " |-- id: string (nullable = true)\n",
      " |-- il_util: integer (nullable = true)\n",
      " |-- initial_list_status: string (nullable = true)\n",
      " |-- inq_fi: integer (nullable = true)\n",
      " |-- inq_last_12m: integer (nullable = true)\n",
      " |-- inq_last_6mths: integer (nullable = true)\n",
      " |-- installment: double (nullable = true)\n",
      " |-- int_rate: string (nullable = true)\n",
      " |-- issue_d: string (nullable = true)\n",
      " |-- loan_amnt: integer (nullable = true)\n",
      " |-- loan_status: string (nullable = true)\n",
      " |-- max_bal_bc: integer (nullable = true)\n",
      " |-- member_id: string (nullable = true)\n",
      " |-- mo_sin_old_il_acct: integer (nullable = true)\n",
      " |-- mo_sin_old_rev_tl_op: integer (nullable = true)\n",
      " |-- mo_sin_rcnt_rev_tl_op: integer (nullable = true)\n",
      " |-- mo_sin_rcnt_tl: integer (nullable = true)\n",
      " |-- mort_acc: integer (nullable = true)\n",
      " |-- mths_since_last_delinq: integer (nullable = true)\n",
      " |-- mths_since_last_major_derog: integer (nullable = true)\n",
      " |-- mths_since_last_record: integer (nullable = true)\n",
      " |-- mths_since_rcnt_il: integer (nullable = true)\n",
      " |-- mths_since_recent_bc: integer (nullable = true)\n",
      " |-- mths_since_recent_bc_dlq: integer (nullable = true)\n",
      " |-- mths_since_recent_inq: integer (nullable = true)\n",
      " |-- mths_since_recent_revol_delinq: integer (nullable = true)\n",
      " |-- num_accts_ever_120_pd: integer (nullable = true)\n",
      " |-- num_actv_bc_tl: integer (nullable = true)\n",
      " |-- num_actv_rev_tl: integer (nullable = true)\n",
      " |-- num_bc_sats: integer (nullable = true)\n",
      " |-- num_bc_tl: integer (nullable = true)\n",
      " |-- num_il_tl: integer (nullable = true)\n",
      " |-- num_op_rev_tl: integer (nullable = true)\n",
      " |-- num_rev_accts: integer (nullable = true)\n",
      " |-- num_rev_tl_bal_gt_0: integer (nullable = true)\n",
      " |-- num_sats: integer (nullable = true)\n",
      " |-- num_tl_120dpd_2m: integer (nullable = true)\n",
      " |-- num_tl_30dpd: integer (nullable = true)\n",
      " |-- num_tl_90g_dpd_24m: integer (nullable = true)\n",
      " |-- num_tl_op_past_12m: integer (nullable = true)\n",
      " |-- open_acc: integer (nullable = true)\n",
      " |-- open_acc_6m: integer (nullable = true)\n",
      " |-- open_il_12m: integer (nullable = true)\n",
      " |-- open_il_24m: integer (nullable = true)\n",
      " |-- open_act_il: integer (nullable = true)\n",
      " |-- open_rv_12m: integer (nullable = true)\n",
      " |-- open_rv_24m: integer (nullable = true)\n",
      " |-- pct_tl_nvr_dlq: double (nullable = true)\n",
      " |-- percent_bc_gt_75: double (nullable = true)\n",
      " |-- policy_code: integer (nullable = true)\n",
      " |-- pub_rec: integer (nullable = true)\n",
      " |-- pub_rec_bankruptcies: integer (nullable = true)\n",
      " |-- purpose: string (nullable = true)\n",
      " |-- revol_bal: integer (nullable = true)\n",
      " |-- revol_util: string (nullable = true)\n",
      " |-- sub_grade: string (nullable = true)\n",
      " |-- tax_liens: integer (nullable = true)\n",
      " |-- term: string (nullable = true)\n",
      " |-- title: string (nullable = true)\n",
      " |-- tot_cur_bal: integer (nullable = true)\n",
      " |-- tot_hi_cred_lim: integer (nullable = true)\n",
      " |-- total_acc: integer (nullable = true)\n",
      " |-- total_bal_ex_mort: integer (nullable = true)\n",
      " |-- total_bal_il: integer (nullable = true)\n",
      " |-- total_bc_limit: integer (nullable = true)\n",
      " |-- total_cu_tl: integer (nullable = true)\n",
      " |-- total_il_high_credit_limit: integer (nullable = true)\n",
      " |-- total_rev_hi_lim: integer (nullable = true)\n",
      " |-- verification_status: string (nullable = true)\n",
      " |-- zip_code: string (nullable = true)\n",
      " |-- revol_bal_joint: string (nullable = true)\n",
      " |-- sec_app_earliest_cr_line: string (nullable = true)\n",
      " |-- sec_app_inq_last_6mths: string (nullable = true)\n",
      " |-- sec_app_mort_acc: string (nullable = true)\n",
      " |-- sec_app_open_acc: string (nullable = true)\n",
      " |-- sec_app_revol_util: string (nullable = true)\n",
      " |-- sec_app_open_act_il: string (nullable = true)\n",
      " |-- sec_app_num_rev_accts: string (nullable = true)\n",
      " |-- sec_app_chargeoff_within_12_mths: string (nullable = true)\n",
      " |-- sec_app_collections_12_mths_ex_med: string (nullable = true)\n",
      " |-- sec_app_mths_since_last_major_derog: string (nullable = true)\n",
      "\n"
     ]
    }
   ],
   "source": [
    "df.printSchema()"
   ]
  },
  {
   "cell_type": "code",
   "execution_count": 13,
   "metadata": {},
   "outputs": [
    {
     "name": "stdout",
     "output_type": "stream",
     "text": [
      "Dataframe Shape\n"
     ]
    },
    {
     "name": "stderr",
     "output_type": "stream",
     "text": [
      "[Stage 3:=============================>                             (1 + 1) / 2]\r"
     ]
    },
    {
     "name": "stdout",
     "output_type": "stream",
     "text": [
      "(79163, 105)\n"
     ]
    },
    {
     "name": "stderr",
     "output_type": "stream",
     "text": [
      "                                                                                \r"
     ]
    }
   ],
   "source": [
    "#Printing number of rows and columns:\n",
    "print('Dataframe Shape')\n",
    "print((df.count(), len(df.columns)))"
   ]
  },
  {
   "cell_type": "markdown",
   "metadata": {},
   "source": [
    "#### Basic Inspection"
   ]
  },
  {
   "cell_type": "code",
   "execution_count": 15,
   "metadata": {},
   "outputs": [
    {
     "name": "stderr",
     "output_type": "stream",
     "text": [
      "/opt/spark/python/lib/pyspark.zip/pyspark/sql/pandas/conversion.py:202: PerformanceWarning: DataFrame is highly fragmented.  This is usually the result of calling `frame.insert` many times, which has poor performance.  Consider joining all columns at once using pd.concat(axis=1) instead.  To get a de-fragmented frame, use `newframe = frame.copy()`\n",
      "  df[column_name] = series\n"
     ]
    },
    {
     "data": {
      "text/html": [
       "<div>\n",
       "<style scoped>\n",
       "    .dataframe tbody tr th:only-of-type {\n",
       "        vertical-align: middle;\n",
       "    }\n",
       "\n",
       "    .dataframe tbody tr th {\n",
       "        vertical-align: top;\n",
       "    }\n",
       "\n",
       "    .dataframe thead th {\n",
       "        text-align: right;\n",
       "    }\n",
       "</style>\n",
       "<table border=\"1\" class=\"dataframe\">\n",
       "  <thead>\n",
       "    <tr style=\"text-align: right;\">\n",
       "      <th></th>\n",
       "      <th>acc_now_delinq</th>\n",
       "      <th>acc_open_past_24mths</th>\n",
       "      <th>addr_state</th>\n",
       "      <th>all_util</th>\n",
       "      <th>annual_inc</th>\n",
       "      <th>annual_inc_joint</th>\n",
       "      <th>application_type</th>\n",
       "      <th>avg_cur_bal</th>\n",
       "      <th>bc_open_to_buy</th>\n",
       "      <th>bc_util</th>\n",
       "      <th>...</th>\n",
       "      <th>sec_app_earliest_cr_line</th>\n",
       "      <th>sec_app_inq_last_6mths</th>\n",
       "      <th>sec_app_mort_acc</th>\n",
       "      <th>sec_app_open_acc</th>\n",
       "      <th>sec_app_revol_util</th>\n",
       "      <th>sec_app_open_act_il</th>\n",
       "      <th>sec_app_num_rev_accts</th>\n",
       "      <th>sec_app_chargeoff_within_12_mths</th>\n",
       "      <th>sec_app_collections_12_mths_ex_med</th>\n",
       "      <th>sec_app_mths_since_last_major_derog</th>\n",
       "    </tr>\n",
       "  </thead>\n",
       "  <tbody>\n",
       "    <tr>\n",
       "      <th>0</th>\n",
       "      <td>0</td>\n",
       "      <td>0</td>\n",
       "      <td>0</td>\n",
       "      <td>57791</td>\n",
       "      <td>0</td>\n",
       "      <td>78756</td>\n",
       "      <td>0</td>\n",
       "      <td>0</td>\n",
       "      <td>743</td>\n",
       "      <td>786</td>\n",
       "      <td>...</td>\n",
       "      <td>79163</td>\n",
       "      <td>79163</td>\n",
       "      <td>79163</td>\n",
       "      <td>79163</td>\n",
       "      <td>79163</td>\n",
       "      <td>79163</td>\n",
       "      <td>79163</td>\n",
       "      <td>79163</td>\n",
       "      <td>79163</td>\n",
       "      <td>79163</td>\n",
       "    </tr>\n",
       "  </tbody>\n",
       "</table>\n",
       "<p>1 rows × 105 columns</p>\n",
       "</div>"
      ],
      "text/plain": [
       "   acc_now_delinq  acc_open_past_24mths  addr_state  all_util  annual_inc  \\\n",
       "0               0                     0           0     57791           0   \n",
       "\n",
       "   annual_inc_joint  application_type  avg_cur_bal  bc_open_to_buy  bc_util  \\\n",
       "0             78756                 0            0             743      786   \n",
       "\n",
       "   ...  sec_app_earliest_cr_line  sec_app_inq_last_6mths  sec_app_mort_acc  \\\n",
       "0  ...                     79163                   79163             79163   \n",
       "\n",
       "   sec_app_open_acc  sec_app_revol_util  sec_app_open_act_il  \\\n",
       "0             79163               79163                79163   \n",
       "\n",
       "   sec_app_num_rev_accts  sec_app_chargeoff_within_12_mths  \\\n",
       "0                  79163                             79163   \n",
       "\n",
       "   sec_app_collections_12_mths_ex_med  sec_app_mths_since_last_major_derog  \n",
       "0                               79163                                79163  \n",
       "\n",
       "[1 rows x 105 columns]"
      ]
     },
     "execution_count": 15,
     "metadata": {},
     "output_type": "execute_result"
    }
   ],
   "source": [
    "#Count number of nulls for each column:\n",
    "df.select([F.count(F.when(F.isnan(c) | F.col(c).isNull(), c)).alias(c) for c in df.columns]).toPandas()"
   ]
  },
  {
   "cell_type": "code",
   "execution_count": 16,
   "metadata": {},
   "outputs": [
    {
     "name": "stderr",
     "output_type": "stream",
     "text": [
      "/opt/spark/python/lib/pyspark.zip/pyspark/sql/pandas/conversion.py:202: PerformanceWarning: DataFrame is highly fragmented.  This is usually the result of calling `frame.insert` many times, which has poor performance.  Consider joining all columns at once using pd.concat(axis=1) instead.  To get a de-fragmented frame, use `newframe = frame.copy()`\n",
      "  df[column_name] = series\n"
     ]
    }
   ],
   "source": [
    "#It seems like some columns have a lot of nulls while others have very few:\n",
    "nulls = df.select([F.count(F.when(F.isnan(c) | F.col(c).isNull(), c)).alias(c) for c in df.columns]).toPandas()"
   ]
  },
  {
   "cell_type": "code",
   "execution_count": 17,
   "metadata": {},
   "outputs": [],
   "source": [
    "null_cols = nulls.T[(nulls.T > 1000).any(axis=1)].index"
   ]
  },
  {
   "cell_type": "code",
   "execution_count": 18,
   "metadata": {},
   "outputs": [],
   "source": [
    "df = df.drop(*null_cols)"
   ]
  },
  {
   "cell_type": "code",
   "execution_count": 19,
   "metadata": {},
   "outputs": [
    {
     "name": "stdout",
     "output_type": "stream",
     "text": [
      "Dataframe Shape\n",
      "(79163, 69)\n"
     ]
    }
   ],
   "source": [
    "#Printing number of rows:\n",
    "print('Dataframe Shape')\n",
    "print((df.count(), len(df.columns)))"
   ]
  },
  {
   "cell_type": "code",
   "execution_count": 20,
   "metadata": {},
   "outputs": [],
   "source": [
    "df = df.filter(df.loan_status != '10500')"
   ]
  },
  {
   "cell_type": "code",
   "execution_count": 21,
   "metadata": {},
   "outputs": [
    {
     "data": {
      "text/plain": [
       "[('acc_now_delinq', 'int'),\n",
       " ('acc_open_past_24mths', 'int'),\n",
       " ('addr_state', 'string'),\n",
       " ('annual_inc', 'double'),\n",
       " ('application_type', 'string'),\n",
       " ('avg_cur_bal', 'int'),\n",
       " ('bc_open_to_buy', 'int'),\n",
       " ('bc_util', 'double'),\n",
       " ('chargeoff_within_12_mths', 'int'),\n",
       " ('collections_12_mths_ex_med', 'int'),\n",
       " ('delinq_2yrs', 'int'),\n",
       " ('delinq_amnt', 'int'),\n",
       " ('desc', 'string'),\n",
       " ('dti', 'double'),\n",
       " ('earliest_cr_line', 'string'),\n",
       " ('emp_length', 'string'),\n",
       " ('emp_title', 'string'),\n",
       " ('funded_amnt', 'int'),\n",
       " ('funded_amnt_inv', 'int'),\n",
       " ('grade', 'string'),\n",
       " ('home_ownership', 'string'),\n",
       " ('id', 'string'),\n",
       " ('initial_list_status', 'string'),\n",
       " ('inq_last_6mths', 'int'),\n",
       " ('installment', 'double'),\n",
       " ('int_rate', 'string'),\n",
       " ('issue_d', 'string'),\n",
       " ('loan_amnt', 'int'),\n",
       " ('loan_status', 'string'),\n",
       " ('mo_sin_old_rev_tl_op', 'int'),\n",
       " ('mo_sin_rcnt_rev_tl_op', 'int'),\n",
       " ('mo_sin_rcnt_tl', 'int'),\n",
       " ('mort_acc', 'int'),\n",
       " ('mths_since_recent_bc', 'int'),\n",
       " ('num_accts_ever_120_pd', 'int'),\n",
       " ('num_actv_bc_tl', 'int'),\n",
       " ('num_actv_rev_tl', 'int'),\n",
       " ('num_bc_sats', 'int'),\n",
       " ('num_bc_tl', 'int'),\n",
       " ('num_il_tl', 'int'),\n",
       " ('num_op_rev_tl', 'int'),\n",
       " ('num_rev_accts', 'int'),\n",
       " ('num_rev_tl_bal_gt_0', 'int'),\n",
       " ('num_sats', 'int'),\n",
       " ('num_tl_30dpd', 'int'),\n",
       " ('num_tl_90g_dpd_24m', 'int'),\n",
       " ('num_tl_op_past_12m', 'int'),\n",
       " ('open_acc', 'int'),\n",
       " ('pct_tl_nvr_dlq', 'double'),\n",
       " ('percent_bc_gt_75', 'double'),\n",
       " ('policy_code', 'int'),\n",
       " ('pub_rec', 'int'),\n",
       " ('pub_rec_bankruptcies', 'int'),\n",
       " ('purpose', 'string'),\n",
       " ('revol_bal', 'int'),\n",
       " ('revol_util', 'string'),\n",
       " ('sub_grade', 'string'),\n",
       " ('tax_liens', 'int'),\n",
       " ('term', 'string'),\n",
       " ('title', 'string'),\n",
       " ('tot_cur_bal', 'int'),\n",
       " ('tot_hi_cred_lim', 'int'),\n",
       " ('total_acc', 'int'),\n",
       " ('total_bal_ex_mort', 'int'),\n",
       " ('total_bc_limit', 'int'),\n",
       " ('total_il_high_credit_limit', 'int'),\n",
       " ('total_rev_hi_lim', 'int'),\n",
       " ('verification_status', 'string'),\n",
       " ('zip_code', 'string')]"
      ]
     },
     "execution_count": 21,
     "metadata": {},
     "output_type": "execute_result"
    }
   ],
   "source": [
    "df.dtypes"
   ]
  },
  {
   "cell_type": "markdown",
   "metadata": {},
   "source": [
    "## KPI Reporting"
   ]
  },
  {
   "cell_type": "markdown",
   "metadata": {},
   "source": [
    "### What is the target variable and what does it define?"
   ]
  },
  {
   "cell_type": "code",
   "execution_count": 22,
   "metadata": {},
   "outputs": [
    {
     "name": "stdout",
     "output_type": "stream",
     "text": [
      "+------------------+\n",
      "|       loan_status|\n",
      "+------------------+\n",
      "|        Fully Paid|\n",
      "|           Default|\n",
      "|   In Grace Period|\n",
      "|       Charged Off|\n",
      "|Late (31-120 days)|\n",
      "|           Current|\n",
      "| Late (16-30 days)|\n",
      "+------------------+\n",
      "\n"
     ]
    },
    {
     "name": "stderr",
     "output_type": "stream",
     "text": [
      "                                                                                \r"
     ]
    }
   ],
   "source": [
    "df.select(\"loan_status\").distinct().show()"
   ]
  },
  {
   "cell_type": "code",
   "execution_count": 23,
   "metadata": {},
   "outputs": [
    {
     "name": "stdout",
     "output_type": "stream",
     "text": [
      "+------------------+-----+\n",
      "|       loan_status|count|\n",
      "+------------------+-----+\n",
      "|        Fully Paid|29111|\n",
      "|           Default|    2|\n",
      "|   In Grace Period|  641|\n",
      "|       Charged Off|10795|\n",
      "|Late (31-120 days)| 1207|\n",
      "|           Current|37170|\n",
      "| Late (16-30 days)|  237|\n",
      "+------------------+-----+\n",
      "\n",
      "None\n"
     ]
    }
   ],
   "source": [
    "#Types of loan status\n",
    "print(df.groupBy('loan_status').count().show())"
   ]
  },
  {
   "cell_type": "code",
   "execution_count": 24,
   "metadata": {},
   "outputs": [
    {
     "data": {
      "image/png": "[encoded data removed]",
      "text/plain": [
       "<Figure size 576x216 with 1 Axes>"
      ]
     },
     "metadata": {
      "needs_background": "light"
     },
     "output_type": "display_data"
    }
   ],
   "source": [
    "df_plot = df.groupBy('loan_status').count().toPandas()\n",
    "plt.figure(figsize=(8,3))\n",
    "g = sns.barplot(x=\"loan_status\", y=\"count\", data=df_plot)\n",
    "g.set_title('Loan Status Category Counts')\n",
    "plt.show()"
   ]
  },
  {
   "cell_type": "markdown",
   "metadata": {},
   "source": [
    "#### To predict defaults, we need to transform the target variable into a binary variable"
   ]
  },
  {
   "cell_type": "code",
   "execution_count": 25,
   "metadata": {},
   "outputs": [],
   "source": [
    "from pyspark.sql.functions import when"
   ]
  },
  {
   "cell_type": "code",
   "execution_count": 26,
   "metadata": {},
   "outputs": [],
   "source": [
    "df = df.withColumn(\"is_default\", when((df[\"loan_status\"] == \"Charged Off\")|(df[\"loan_status\"] == \"Default\"), 1).otherwise(0))"
   ]
  },
  {
   "cell_type": "code",
   "execution_count": 27,
   "metadata": {},
   "outputs": [
    {
     "name": "stdout",
     "output_type": "stream",
     "text": [
      "+----------+\n",
      "|is_default|\n",
      "+----------+\n",
      "|         0|\n",
      "|         0|\n",
      "|         0|\n",
      "|         0|\n",
      "|         0|\n",
      "|         0|\n",
      "|         1|\n",
      "|         0|\n",
      "|         1|\n",
      "|         0|\n",
      "|         0|\n",
      "|         0|\n",
      "|         0|\n",
      "|         0|\n",
      "|         0|\n",
      "|         0|\n",
      "|         0|\n",
      "|         0|\n",
      "|         1|\n",
      "|         0|\n",
      "+----------+\n",
      "only showing top 20 rows\n",
      "\n"
     ]
    }
   ],
   "source": [
    "#Checking that we have correctly replaced values\n",
    "df.select(\"is_default\").show()"
   ]
  },
  {
   "cell_type": "code",
   "execution_count": 28,
   "metadata": {},
   "outputs": [
    {
     "data": {
      "text/plain": [
       "[('is_default', 'int')]"
      ]
     },
     "execution_count": 28,
     "metadata": {},
     "output_type": "execute_result"
    }
   ],
   "source": [
    "df.select(\"is_default\").dtypes"
   ]
  },
  {
   "cell_type": "code",
   "execution_count": 29,
   "metadata": {},
   "outputs": [],
   "source": [
    "from pyspark.sql import functions as F"
   ]
  },
  {
   "cell_type": "code",
   "execution_count": 30,
   "metadata": {},
   "outputs": [
    {
     "data": {
      "text/plain": [
       "10797"
      ]
     },
     "execution_count": 30,
     "metadata": {},
     "output_type": "execute_result"
    }
   ],
   "source": [
    "#Check the exact total of all loans labeled to default matches with the sum of the original two values used above (Charged Off and Default)\n",
    "df.select(F.sum(\"is_default\")).collect()[0][0]"
   ]
  },
  {
   "cell_type": "markdown",
   "metadata": {},
   "source": [
    "### What is the monthly total loan volume in dollars and what is the monthly average loan size?"
   ]
  },
  {
   "cell_type": "code",
   "execution_count": 31,
   "metadata": {},
   "outputs": [],
   "source": [
    "from pyspark.sql.functions import to_date"
   ]
  },
  {
   "cell_type": "code",
   "execution_count": 32,
   "metadata": {},
   "outputs": [
    {
     "name": "stdout",
     "output_type": "stream",
     "text": [
      "+--------+\n",
      "| issue_d|\n",
      "+--------+\n",
      "|Dec-2015|\n",
      "|Dec-2015|\n",
      "|Dec-2015|\n",
      "|Dec-2015|\n",
      "+--------+\n",
      "only showing top 4 rows\n",
      "\n"
     ]
    }
   ],
   "source": [
    "#The original issue date attribute\n",
    "df.select(\"issue_d\").show(4)"
   ]
  },
  {
   "cell_type": "code",
   "execution_count": 33,
   "metadata": {},
   "outputs": [
    {
     "name": "stdout",
     "output_type": "stream",
     "text": [
      "+-----------+\n",
      "|issue_month|\n",
      "+-----------+\n",
      "|         12|\n",
      "|         12|\n",
      "|         12|\n",
      "|         12|\n",
      "+-----------+\n",
      "only showing top 4 rows\n",
      "\n"
     ]
    }
   ],
   "source": [
    "#We need to cast the issue date from string to month (all loan applications in the dataset occurred in 2015 so we don't need the year):\n",
    "df.selectExpr(\"from_unixtime(unix_timestamp(issue_d,'MMM-yyyy'),'MM') as issue_month\").show(4)"
   ]
  },
  {
   "cell_type": "code",
   "execution_count": 34,
   "metadata": {},
   "outputs": [],
   "source": [
    "df = df.withColumn(\"issue_month\",F.from_unixtime(F.unix_timestamp(F.col(\"issue_d\"),'MMM-yyyy'),'MM'))"
   ]
  },
  {
   "cell_type": "code",
   "execution_count": 35,
   "metadata": {},
   "outputs": [
    {
     "name": "stdout",
     "output_type": "stream",
     "text": [
      "+-----------+\n",
      "|issue_month|\n",
      "+-----------+\n",
      "|         11|\n",
      "|         12|\n",
      "|         10|\n",
      "+-----------+\n",
      "\n"
     ]
    },
    {
     "name": "stderr",
     "output_type": "stream",
     "text": [
      "                                                                                \r"
     ]
    }
   ],
   "source": [
    "df.select(\"issue_month\").distinct().show()"
   ]
  },
  {
   "cell_type": "code",
   "execution_count": 36,
   "metadata": {},
   "outputs": [
    {
     "name": "stdout",
     "output_type": "stream",
     "text": [
      "+-----------+---------------+\n",
      "|issue_month|sum(is_default)|\n",
      "+-----------+---------------+\n",
      "|         10|             11|\n",
      "|         11|           4612|\n",
      "|         12|           6174|\n",
      "+-----------+---------------+\n",
      "\n"
     ]
    }
   ],
   "source": [
    "#how many loans defaulted for each month (all data is 2015):\n",
    "df.groupby('issue_month').sum('is_default').na.drop().sort(F.asc('issue_month')).show()"
   ]
  },
  {
   "cell_type": "code",
   "execution_count": 37,
   "metadata": {},
   "outputs": [],
   "source": [
    "defaults_date = df.groupby('issue_month').sum('is_default').na.drop().sort(F.asc('issue_month')).toPandas()"
   ]
  },
  {
   "cell_type": "code",
   "execution_count": 38,
   "metadata": {},
   "outputs": [
    {
     "data": {
      "text/html": [
       "<div>\n",
       "<style scoped>\n",
       "    .dataframe tbody tr th:only-of-type {\n",
       "        vertical-align: middle;\n",
       "    }\n",
       "\n",
       "    .dataframe tbody tr th {\n",
       "        vertical-align: top;\n",
       "    }\n",
       "\n",
       "    .dataframe thead th {\n",
       "        text-align: right;\n",
       "    }\n",
       "</style>\n",
       "<table border=\"1\" class=\"dataframe\">\n",
       "  <thead>\n",
       "    <tr style=\"text-align: right;\">\n",
       "      <th></th>\n",
       "      <th>issue_month</th>\n",
       "      <th>sum(is_default)</th>\n",
       "    </tr>\n",
       "  </thead>\n",
       "  <tbody>\n",
       "    <tr>\n",
       "      <th>0</th>\n",
       "      <td>10</td>\n",
       "      <td>11</td>\n",
       "    </tr>\n",
       "    <tr>\n",
       "      <th>1</th>\n",
       "      <td>11</td>\n",
       "      <td>4612</td>\n",
       "    </tr>\n",
       "    <tr>\n",
       "      <th>2</th>\n",
       "      <td>12</td>\n",
       "      <td>6174</td>\n",
       "    </tr>\n",
       "  </tbody>\n",
       "</table>\n",
       "</div>"
      ],
      "text/plain": [
       "  issue_month  sum(is_default)\n",
       "0          10               11\n",
       "1          11             4612\n",
       "2          12             6174"
      ]
     },
     "execution_count": 38,
     "metadata": {},
     "output_type": "execute_result"
    }
   ],
   "source": [
    "defaults_date"
   ]
  },
  {
   "cell_type": "code",
   "execution_count": 39,
   "metadata": {},
   "outputs": [
    {
     "data": {
      "image/png": "[encoded data removed]",
      "text/plain": [
       "<Figure size 576x216 with 1 Axes>"
      ]
     },
     "metadata": {
      "needs_background": "light"
     },
     "output_type": "display_data"
    }
   ],
   "source": [
    "plt.figure(figsize=(8,3))\n",
    "g = sns.barplot(x=\"issue_month\", y=\"sum(is_default)\", data=defaults_date)\n",
    "g.set_title('Loan Defaults by Month')\n",
    "g.set_ylabel('Total Loan Defaults')\n",
    "g.set_xlabel('Month in 2015')\n",
    "plt.show()"
   ]
  },
  {
   "cell_type": "code",
   "execution_count": 40,
   "metadata": {},
   "outputs": [],
   "source": [
    "#Let's create more plots here. First we aggregate in different ways. Then we join, convert to Pandas df, and plot. "
   ]
  },
  {
   "cell_type": "code",
   "execution_count": 41,
   "metadata": {},
   "outputs": [],
   "source": [
    "from pyspark.sql.functions import sum as _sum"
   ]
  },
  {
   "cell_type": "code",
   "execution_count": 42,
   "metadata": {},
   "outputs": [
    {
     "name": "stdout",
     "output_type": "stream",
     "text": [
      "+-----------+----------+\n",
      "|issue_month|sum(count)|\n",
      "+-----------+----------+\n",
      "|         10|         1|\n",
      "|         11|       572|\n",
      "|         12|       871|\n",
      "+-----------+----------+\n",
      "\n"
     ]
    }
   ],
   "source": [
    "#by using like function\n",
    "df.groupBy(\"issue_month\",\"loan_status\").\\\n",
    "count().\\\n",
    "filter(F.lower(F.col(\"loan_status\")).like(\"late%\")).\\\n",
    "groupby('issue_month').\\\n",
    "sum().\\\n",
    "sort(F.asc('issue_month')).\\\n",
    "show()"
   ]
  },
  {
   "cell_type": "code",
   "execution_count": 43,
   "metadata": {},
   "outputs": [],
   "source": [
    "df_late = df.groupBy(\"issue_month\",\"loan_status\").\\\n",
    "count().\\\n",
    "filter(F.lower(F.col(\"loan_status\")).like(\"late%\")).\\\n",
    "groupby('issue_month').\\\n",
    "sum().\\\n",
    "sort(F.asc('issue_month'))"
   ]
  },
  {
   "cell_type": "code",
   "execution_count": 44,
   "metadata": {},
   "outputs": [],
   "source": [
    "#by using like function\n",
    "df_delinq = df.groupBy(\"issue_month\").\\\n",
    "max(\"inq_last_6mths\").\\\n",
    "na.drop().\\\n",
    "sort(F.asc('issue_month'))"
   ]
  },
  {
   "cell_type": "code",
   "execution_count": 45,
   "metadata": {},
   "outputs": [],
   "source": [
    "#This time we need to cast the attribute we are working with to numeric before we can create a similar dataframe:\n",
    "df = df.withColumn('loan_amnt', F.col('loan_amnt').cast('int'))"
   ]
  },
  {
   "cell_type": "code",
   "execution_count": 46,
   "metadata": {},
   "outputs": [],
   "source": [
    "#by using like function\n",
    "df_ann_inc = df.groupBy(\"issue_month\").\\\n",
    "mean(\"loan_amnt\").\\\n",
    "na.drop().\\\n",
    "sort(F.asc('issue_month'))"
   ]
  },
  {
   "cell_type": "code",
   "execution_count": 47,
   "metadata": {},
   "outputs": [
    {
     "name": "stderr",
     "output_type": "stream",
     "text": [
      "                                                                                \r"
     ]
    },
    {
     "name": "stdout",
     "output_type": "stream",
     "text": [
      "+-----------+-------------------+------------------+-------------+\n",
      "|issue_month|max(inq_last_6mths)|    avg(loan_amnt)|default_count|\n",
      "+-----------+-------------------+------------------+-------------+\n",
      "|         11|                  5| 15069.46114242982|          572|\n",
      "|         12|                  5|15062.594154526183|          871|\n",
      "|         10|                  4|13712.735849056604|            1|\n",
      "+-----------+-------------------+------------------+-------------+\n",
      "\n"
     ]
    }
   ],
   "source": [
    "df_delinq.alias('a').join(df_ann_inc.alias('b'),F.col('b.issue_month') == F.col('a.issue_month')).\\\n",
    "join(df_late.alias('c'), F.col('b.issue_month') == F.col('c.issue_month')).\\\n",
    "select(F.col('a.issue_month'), F.col('a.max(inq_last_6mths)'), F.col('b.avg(loan_amnt)'), F.col('c.sum(count)').alias('default_count')).\\\n",
    "show()"
   ]
  },
  {
   "cell_type": "code",
   "execution_count": 48,
   "metadata": {},
   "outputs": [
    {
     "name": "stderr",
     "output_type": "stream",
     "text": [
      "                                                                                \r"
     ]
    }
   ],
   "source": [
    "df_stats_pd = df_delinq.alias('a').join(df_ann_inc.alias('b'),F.col('b.issue_month') == F.col('a.issue_month')).\\\n",
    "join(df_late.alias('c'), F.col('b.issue_month') == F.col('c.issue_month')).\\\n",
    "select(F.col('a.issue_month'), F.col('a.max(inq_last_6mths)'), F.col('b.avg(loan_amnt)'), F.col('c.sum(count)').alias('default_count')).\\\n",
    "toPandas()"
   ]
  },
  {
   "cell_type": "code",
   "execution_count": 49,
   "metadata": {},
   "outputs": [
    {
     "data": {
      "text/html": [
       "<div>\n",
       "<style scoped>\n",
       "    .dataframe tbody tr th:only-of-type {\n",
       "        vertical-align: middle;\n",
       "    }\n",
       "\n",
       "    .dataframe tbody tr th {\n",
       "        vertical-align: top;\n",
       "    }\n",
       "\n",
       "    .dataframe thead th {\n",
       "        text-align: right;\n",
       "    }\n",
       "</style>\n",
       "<table border=\"1\" class=\"dataframe\">\n",
       "  <thead>\n",
       "    <tr style=\"text-align: right;\">\n",
       "      <th></th>\n",
       "      <th>issue_month</th>\n",
       "      <th>max(inq_last_6mths)</th>\n",
       "      <th>avg(loan_amnt)</th>\n",
       "      <th>default_count</th>\n",
       "    </tr>\n",
       "  </thead>\n",
       "  <tbody>\n",
       "    <tr>\n",
       "      <th>0</th>\n",
       "      <td>11</td>\n",
       "      <td>5</td>\n",
       "      <td>15069.461142</td>\n",
       "      <td>572</td>\n",
       "    </tr>\n",
       "    <tr>\n",
       "      <th>1</th>\n",
       "      <td>12</td>\n",
       "      <td>5</td>\n",
       "      <td>15062.594155</td>\n",
       "      <td>871</td>\n",
       "    </tr>\n",
       "    <tr>\n",
       "      <th>2</th>\n",
       "      <td>10</td>\n",
       "      <td>4</td>\n",
       "      <td>13712.735849</td>\n",
       "      <td>1</td>\n",
       "    </tr>\n",
       "  </tbody>\n",
       "</table>\n",
       "</div>"
      ],
      "text/plain": [
       "  issue_month  max(inq_last_6mths)  avg(loan_amnt)  default_count\n",
       "0          11                    5    15069.461142            572\n",
       "1          12                    5    15062.594155            871\n",
       "2          10                    4    13712.735849              1"
      ]
     },
     "execution_count": 49,
     "metadata": {},
     "output_type": "execute_result"
    }
   ],
   "source": [
    "df_stats_pd.head()"
   ]
  },
  {
   "cell_type": "code",
   "execution_count": 50,
   "metadata": {},
   "outputs": [
    {
     "name": "stderr",
     "output_type": "stream",
     "text": [
      "/usr/local/lib/python3.7/site-packages/ipykernel_launcher.py:8: UserWarning: Ignoring `palette` because no `hue` variable has been assigned.\n",
      "  \n"
     ]
    },
    {
     "data": {
      "image/png": "[encoded data removed]",
      "text/plain": [
       "<Figure size 504x360 with 3 Axes>"
      ]
     },
     "metadata": {
      "needs_background": "light"
     },
     "output_type": "display_data"
    }
   ],
   "source": [
    "f, (ax1, ax2, ax3) = plt.subplots(3, 1, figsize=(7, 5), sharex=True)\n",
    "\n",
    "sns.barplot(x=df_stats_pd['issue_month'], y=df_stats_pd['max(inq_last_6mths)'], palette=\"rocket\", ax=ax1)\n",
    "ax1.axhline(0, color=\"k\", clip_on=False)\n",
    "ax1.set_ylabel(\"Max Months Since Deliq\")\n",
    "ax1.set_xlabel(\"\")\n",
    "\n",
    "sns.scatterplot(x=df_stats_pd['issue_month'], y=df_stats_pd['avg(loan_amnt)'], palette=\"vlag\", ax=ax2)\n",
    "ax2.axhline(0, color=\"k\", clip_on=False)\n",
    "ax2.set_ylabel(\"Average Loan Amount\")\n",
    "\n",
    "sns.barplot(x=df_stats_pd['issue_month'], y=df_stats_pd['default_count'], palette=\"deep\", ax=ax3)\n",
    "ax3.axhline(0, color=\"k\", clip_on=False)\n",
    "ax3.set_ylabel(\"Count of Defaults\")\n",
    "ax1.set_xlabel(\"Month\")\n",
    "\n",
    "sns.despine(bottom=True)\n",
    "#plt.setp(f.axes)\n",
    "plt.tight_layout(h_pad=2)\n",
    "\n",
    "plt.show()"
   ]
  },
  {
   "cell_type": "code",
   "execution_count": 51,
   "metadata": {},
   "outputs": [],
   "source": [
    "#do map based on zipcode?"
   ]
  },
  {
   "cell_type": "code",
   "execution_count": 52,
   "metadata": {},
   "outputs": [],
   "source": [
    "#df = df.filter(df.loan_status != '10500')"
   ]
  },
  {
   "cell_type": "markdown",
   "metadata": {},
   "source": [
    "### Spark SQL"
   ]
  },
  {
   "cell_type": "code",
   "execution_count": 53,
   "metadata": {},
   "outputs": [],
   "source": [
    "##Registering the dataframe as a temporary table:\n",
    "#df.registerTempTable(\"LC_Loans_2015\")"
   ]
  },
  {
   "cell_type": "code",
   "execution_count": 54,
   "metadata": {},
   "outputs": [
    {
     "name": "stderr",
     "output_type": "stream",
     "text": [
      "Hive Session ID = 363d616c-d216-4735-983c-454ce3dc2f5d\n"
     ]
    },
    {
     "name": "stdout",
     "output_type": "stream",
     "text": [
      "+--------------------+\n",
      "|           namespace|\n",
      "+--------------------+\n",
      "|         01_car_data|\n",
      "|           01_car_dw|\n",
      "|      adash_car_data|\n",
      "|             airline|\n",
      "|          airline_dw|\n",
      "|            airlines|\n",
      "|        airlines_csv|\n",
      "|       airlines_csv1|\n",
      "|   airlines_csv_vish|\n",
      "|    airlines_iceberg|\n",
      "|   airlines_iceberg1|\n",
      "|airlines_iceberg_...|\n",
      "|airlines_iceberg_...|\n",
      "|      airlines_mjain|\n",
      "|          airquality|\n",
      "|                ajvp|\n",
      "|          atlas_demo|\n",
      "|            bankdemo|\n",
      "|          bca_jps_l0|\n",
      "|          bca_jps_l1|\n",
      "+--------------------+\n",
      "only showing top 20 rows\n",
      "\n"
     ]
    }
   ],
   "source": [
    "spark.sql(\"show databases\").show()"
   ]
  },
  {
   "cell_type": "code",
   "execution_count": 55,
   "metadata": {},
   "outputs": [
    {
     "name": "stdout",
     "output_type": "stream",
     "text": [
      "+---------+------------------+-----------+\n",
      "|namespace|         tableName|isTemporary|\n",
      "+---------+------------------+-----------+\n",
      "|  default|                 t|      false|\n",
      "|  default|                 s|      false|\n",
      "|  default|      driver_stats|      false|\n",
      "|  default|            table1|      false|\n",
      "|  default|    hue__tmp_test2|      false|\n",
      "|  default|     employee_ofer|      false|\n",
      "|  default|      tax_auth_heb|      false|\n",
      "|  default|   results_anomaly|      false|\n",
      "|  default|           mytable|      false|\n",
      "|  default|     shaun_ice_t31|      false|\n",
      "|  default|      transactions|      false|\n",
      "|  default|             ice_t|      false|\n",
      "|  default|ms_churn_prototype|      false|\n",
      "|  default|         customers|      false|\n",
      "|  default|            table2|      false|\n",
      "|  default|           numbers|      false|\n",
      "|  default|                 a|      false|\n",
      "|  default| tax_auth_heb_line|      false|\n",
      "|  default|            syslog|      false|\n",
      "|  default|        wc_matches|      false|\n",
      "+---------+------------------+-----------+\n",
      "only showing top 20 rows\n",
      "\n"
     ]
    }
   ],
   "source": [
    "spark.sql(\"show tables\").show()"
   ]
  },
  {
   "cell_type": "code",
   "execution_count": 56,
   "metadata": {},
   "outputs": [],
   "source": [
    "#Looks like revol_bal, tax_liens and tot_cur_bal should be numeric. Revol_util should also be numeric but we'll have to remove the % character"
   ]
  },
  {
   "cell_type": "code",
   "execution_count": 57,
   "metadata": {},
   "outputs": [
    {
     "name": "stderr",
     "output_type": "stream",
     "text": [
      "                                                                                \r"
     ]
    }
   ],
   "source": [
    "df.write.format('parquet').mode(\"overwrite\").saveAsTable('default.LC_table')"
   ]
  },
  {
   "cell_type": "code",
   "execution_count": 58,
   "metadata": {},
   "outputs": [],
   "source": [
    "#Running SQL like queries on the dataframe \n",
    "group_by_grade = spark.sql(\"SELECT grade, MEAN(loan_amnt) FROM LC_table WHERE grade IS NOT NULL GROUP BY grade ORDER BY grade\")"
   ]
  },
  {
   "cell_type": "code",
   "execution_count": 59,
   "metadata": {},
   "outputs": [
    {
     "name": "stdout",
     "output_type": "stream",
     "text": [
      "+-----+------------------+\n",
      "|grade|   mean(loan_amnt)|\n",
      "+-----+------------------+\n",
      "|    A|14700.964472537053|\n",
      "|    B|13623.370149747663|\n",
      "|    C|14929.936085679738|\n",
      "|    D|16338.372038360285|\n",
      "|    E| 18897.25658956428|\n",
      "|    F|19691.007194244605|\n",
      "|    G|18048.470948012233|\n",
      "+-----+------------------+\n",
      "\n"
     ]
    },
    {
     "name": "stderr",
     "output_type": "stream",
     "text": [
      "                                                                                \r"
     ]
    }
   ],
   "source": [
    "group_by_grade.show()"
   ]
  },
  {
   "cell_type": "code",
   "execution_count": 60,
   "metadata": {},
   "outputs": [],
   "source": [
    "#Transforming to pandas\n",
    "group_by_grade_pd = group_by_grade.toPandas()"
   ]
  },
  {
   "cell_type": "code",
   "execution_count": 61,
   "metadata": {},
   "outputs": [],
   "source": [
    "#group_by_grade_pd.set_index('grade', inplace=True)"
   ]
  },
  {
   "cell_type": "code",
   "execution_count": 62,
   "metadata": {},
   "outputs": [],
   "source": [
    "group_by_subgrade = spark.sql(\"SELECT sub_grade, MEAN(loan_amnt), MEAN(annual_inc), SUM(is_default) FROM LC_table GROUP BY sub_grade ORDER BY sub_grade\")"
   ]
  },
  {
   "cell_type": "code",
   "execution_count": 63,
   "metadata": {},
   "outputs": [
    {
     "data": {
      "text/plain": [
       "DataFrame[sub_grade: string, mean(loan_amnt): double, mean(annual_inc): double, sum(is_default): bigint]"
      ]
     },
     "execution_count": 63,
     "metadata": {},
     "output_type": "execute_result"
    }
   ],
   "source": [
    "#cache what you are going to use across queries (and early and often up to available memory)\n",
    "group_by_subgrade.cache()"
   ]
  },
  {
   "cell_type": "code",
   "execution_count": 64,
   "metadata": {},
   "outputs": [
    {
     "name": "stdout",
     "output_type": "stream",
     "text": [
      "+-----+------------------+\n",
      "|grade|   mean(loan_amnt)|\n",
      "+-----+------------------+\n",
      "|    A|14700.964472537053|\n",
      "|    B|13623.370149747663|\n",
      "|    C|14929.936085679738|\n",
      "|    D|16338.372038360285|\n",
      "|    E| 18897.25658956428|\n",
      "|    F|19691.007194244605|\n",
      "|    G|18048.470948012233|\n",
      "+-----+------------------+\n",
      "\n",
      "CPU times: user 0 ns, sys: 2.23 ms, total: 2.23 ms\n",
      "Wall time: 307 ms\n"
     ]
    }
   ],
   "source": [
    "%time group_by_grade.show()"
   ]
  },
  {
   "cell_type": "code",
   "execution_count": 65,
   "metadata": {},
   "outputs": [
    {
     "name": "stderr",
     "output_type": "stream",
     "text": [
      "                                                                                \r"
     ]
    },
    {
     "name": "stdout",
     "output_type": "stream",
     "text": [
      "+---------+------------------+------------------+---------------+\n",
      "|sub_grade|   mean(loan_amnt)|  mean(annual_inc)|sum(is_default)|\n",
      "+---------+------------------+------------------+---------------+\n",
      "|       A1|14593.534624220545|101184.87480144404|             56|\n",
      "|       A2|14151.898433792121| 93048.20408163265|             69|\n",
      "|       A3|14240.865865865866| 97865.88275275276|             68|\n",
      "|       A4|15154.246165357277|  92540.0866517022|            125|\n",
      "|       A5|15003.547854785478| 89425.77590251334|            193|\n",
      "|       B1|13570.545580110498| 85129.55841620626|            262|\n",
      "|       B2|13533.336989907853| 81736.32716761738|            337|\n",
      "|       B3|14405.475463051365| 80747.58413022723|            443|\n",
      "|       B4|13463.995893625342| 77948.91980641376|            532|\n",
      "|       B5|13086.689697216014| 74548.90872586874|            541|\n",
      "|       C1|13975.887174541947| 75265.08740790743|            706|\n",
      "|       C2|14542.473398706446| 74487.55505320258|            632|\n",
      "|       C3|15275.105708245243| 75637.72233615222|            725|\n",
      "|       C4|15629.390443128446| 75102.71443128446|            814|\n",
      "|       C5|15421.620670233737| 73482.29358772178|            612|\n",
      "|       D1|15774.791527685124| 72418.16744829886|            574|\n",
      "|       D2|15583.829973707274| 68259.87887817704|            533|\n",
      "|       D3|16002.957818930041| 67891.27335905349|            448|\n",
      "|       D4| 17398.45826687932| 71342.21595959595|            485|\n",
      "|       D5|17690.104506858264| 70922.72047681255|            389|\n",
      "+---------+------------------+------------------+---------------+\n",
      "only showing top 20 rows\n",
      "\n",
      "CPU times: user 8.46 ms, sys: 1.2 ms, total: 9.67 ms\n",
      "Wall time: 3.82 s\n"
     ]
    }
   ],
   "source": [
    "%time group_by_subgrade.show()"
   ]
  },
  {
   "cell_type": "code",
   "execution_count": 66,
   "metadata": {},
   "outputs": [
    {
     "data": {
      "text/plain": [
       "DataFrame[sub_grade: string, mean(loan_amnt): double, mean(annual_inc): double, sum(is_default): bigint]"
      ]
     },
     "execution_count": 66,
     "metadata": {},
     "output_type": "execute_result"
    }
   ],
   "source": [
    "#caching should reduce loading time for smaller dataframe -- check \n",
    "group_by_subgrade.cache()"
   ]
  },
  {
   "cell_type": "code",
   "execution_count": 67,
   "metadata": {},
   "outputs": [
    {
     "name": "stdout",
     "output_type": "stream",
     "text": [
      "+---------+------------------+------------------+---------------+\n",
      "|sub_grade|   mean(loan_amnt)|  mean(annual_inc)|sum(is_default)|\n",
      "+---------+------------------+------------------+---------------+\n",
      "|       A1|14593.534624220545|101184.87480144404|             56|\n",
      "|       A2|14151.898433792121| 93048.20408163265|             69|\n",
      "|       A3|14240.865865865866| 97865.88275275276|             68|\n",
      "|       A4|15154.246165357277|  92540.0866517022|            125|\n",
      "|       A5|15003.547854785478| 89425.77590251334|            193|\n",
      "|       B1|13570.545580110498| 85129.55841620626|            262|\n",
      "|       B2|13533.336989907853| 81736.32716761738|            337|\n",
      "|       B3|14405.475463051365| 80747.58413022723|            443|\n",
      "|       B4|13463.995893625342| 77948.91980641376|            532|\n",
      "|       B5|13086.689697216014| 74548.90872586874|            541|\n",
      "|       C1|13975.887174541947| 75265.08740790743|            706|\n",
      "|       C2|14542.473398706446| 74487.55505320258|            632|\n",
      "|       C3|15275.105708245243| 75637.72233615222|            725|\n",
      "|       C4|15629.390443128446| 75102.71443128446|            814|\n",
      "|       C5|15421.620670233737| 73482.29358772178|            612|\n",
      "|       D1|15774.791527685124| 72418.16744829886|            574|\n",
      "|       D2|15583.829973707274| 68259.87887817704|            533|\n",
      "|       D3|16002.957818930041| 67891.27335905349|            448|\n",
      "|       D4| 17398.45826687932| 71342.21595959595|            485|\n",
      "|       D5|17690.104506858264| 70922.72047681255|            389|\n",
      "+---------+------------------+------------------+---------------+\n",
      "only showing top 20 rows\n",
      "\n",
      "CPU times: user 1.04 ms, sys: 662 µs, total: 1.7 ms\n",
      "Wall time: 145 ms\n"
     ]
    }
   ],
   "source": [
    "%time group_by_subgrade.show()"
   ]
  },
  {
   "cell_type": "code",
   "execution_count": 68,
   "metadata": {},
   "outputs": [],
   "source": [
    "group_by_subgrade_pd = group_by_subgrade.toPandas()"
   ]
  },
  {
   "cell_type": "code",
   "execution_count": 69,
   "metadata": {},
   "outputs": [],
   "source": [
    "#group_by_subgrade_pd = group_by_subgrade_pd.rename(columns={'avg(CAST(funded_amnt AS DOUBLE))':'avg(funded_amnt)'})"
   ]
  },
  {
   "cell_type": "code",
   "execution_count": 70,
   "metadata": {},
   "outputs": [
    {
     "data": {
      "image/png": "[encoded data removed]",
      "text/plain": [
       "<Figure size 288x144 with 1 Axes>"
      ]
     },
     "metadata": {
      "needs_background": "light"
     },
     "output_type": "display_data"
    }
   ],
   "source": [
    "group_by_grade_pd.plot(kind='bar', figsize=(4,2))\n",
    "plt.title('Avg Loan Amount by Grade')\n",
    "plt.gca().legend_.remove()\n",
    "plt.show()\n",
    "#adjust styling here"
   ]
  },
  {
   "cell_type": "code",
   "execution_count": 71,
   "metadata": {},
   "outputs": [
    {
     "data": {
      "text/plain": [
       "DataFrame[sub_grade: string, mean(loan_amnt): double, mean(annual_inc): double, sum(is_default): bigint]"
      ]
     },
     "execution_count": 71,
     "metadata": {},
     "output_type": "execute_result"
    }
   ],
   "source": [
    "#removing from cache\n",
    "group_by_grade.unpersist()\n",
    "group_by_subgrade.unpersist()"
   ]
  },
  {
   "cell_type": "markdown",
   "metadata": {},
   "source": [
    "Data Quality Checks"
   ]
  },
  {
   "cell_type": "code",
   "execution_count": 72,
   "metadata": {},
   "outputs": [],
   "source": [
    "#Check dataframe columnns\n",
    "#df_new.columns"
   ]
  },
  {
   "cell_type": "markdown",
   "metadata": {},
   "source": [
    "Checking that correct data types were inferred"
   ]
  },
  {
   "cell_type": "code",
   "execution_count": 73,
   "metadata": {},
   "outputs": [
    {
     "name": "stdout",
     "output_type": "stream",
     "text": [
      "+---------+----------+---------+-----------+--------+----------+\n",
      "|revol_bal|revol_util|tax_liens|tot_cur_bal|int_rate|emp_length|\n",
      "+---------+----------+---------+-----------+--------+----------+\n",
      "|     9786|     13.4%|        0|     181540|   9.80%| 10+ years|\n",
      "|    19339|     42.5%|        0|     430856|   5.32%|    1 year|\n",
      "|    43413|     51.9%|        0|     193745|  18.49%| 10+ years|\n",
      "|    21831|     50.3%|        0|     408118|  15.77%|   2 years|\n",
      "|    12900|    102.4%|        0|     133285|  19.89%|  < 1 year|\n",
      "|    28475|     51.8%|        0|      42952|  10.78%|   8 years|\n",
      "|     7179|     39.7%|        0|      10353|  16.59%|   5 years|\n",
      "|    20862|     54.3%|        0|     305781|   7.49%| 10+ years|\n",
      "|    31200|       42%|        0|      34856|  13.99%| 10+ years|\n",
      "|    11008|     41.4%|        0|      31915|  10.78%|   3 years|\n",
      "|    28705|     56.3%|        0|     265836|  12.88%|    1 year|\n",
      "|    51507|     64.5%|        0|     221110|   6.49%| 10+ years|\n",
      "|      732|     31.1%|        0|     197169|  17.27%| 10+ years|\n",
      "|     2765|     29.7%|        0|     144904|  13.99%| 10+ years|\n",
      "|    10711|     15.5%|        0|     205067|  11.99%| 10+ years|\n",
      "|    28220|     91.3%|        0|     525195|  17.27%| 10+ years|\n",
      "|    37828|     67.2%|        0|     325695|  12.88%|   3 years|\n",
      "|     9488|     20.1%|        0|      32193|   6.49%| 10+ years|\n",
      "|     7302|     32.6%|        0|       7302|  17.27%|   9 years|\n",
      "|    19108|     29.6%|        2|      31329|  14.85%| 10+ years|\n",
      "+---------+----------+---------+-----------+--------+----------+\n",
      "only showing top 20 rows\n",
      "\n"
     ]
    }
   ],
   "source": [
    "#The following attributes are strings but they potentially should be numeric. Let's take a look at a sample.\n",
    "df.select('revol_bal', 'revol_util', 'tax_liens', 'tot_cur_bal', 'int_rate', 'emp_length').show()"
   ]
  },
  {
   "cell_type": "code",
   "execution_count": 74,
   "metadata": {},
   "outputs": [],
   "source": [
    "#Removing the % character from revol_util\n",
    "df = df.withColumn(\"revol_util\", F.expr(\"substring(revol_util, 1, length(revol_util)-1)\"))"
   ]
  },
  {
   "cell_type": "code",
   "execution_count": 75,
   "metadata": {},
   "outputs": [],
   "source": [
    "#Removing the % character from revol_util\n",
    "df = df.withColumn(\"int_rate\", F.expr(\"substring(int_rate, 1, length(revol_util)-1)\"))"
   ]
  },
  {
   "cell_type": "code",
   "execution_count": 76,
   "metadata": {},
   "outputs": [],
   "source": [
    "#Notice that we are not casting emp_length to numeric as the time periods it represents are different - it will have to be one hot encoded\n",
    "integer = [\"revol_bal\", \"tax_liens\", \"tot_cur_bal\", \"funded_amnt\"]"
   ]
  },
  {
   "cell_type": "code",
   "execution_count": 77,
   "metadata": {},
   "outputs": [],
   "source": [
    "for c in integer:\n",
    "    df = df.withColumn(c, df[c].cast(\"int\"))"
   ]
  },
  {
   "cell_type": "code",
   "execution_count": 78,
   "metadata": {},
   "outputs": [],
   "source": [
    "#Updating revol_util to double:\n",
    "df = df.withColumn('revol_util', F.col('revol_util').cast('double'))"
   ]
  },
  {
   "cell_type": "code",
   "execution_count": 79,
   "metadata": {},
   "outputs": [],
   "source": [
    "#Updating int_rate to double:\n",
    "df = df.withColumn('int_rate', F.col('int_rate').cast('double'))"
   ]
  },
  {
   "cell_type": "code",
   "execution_count": 80,
   "metadata": {},
   "outputs": [],
   "source": [
    "for c in integer:\n",
    "    df = df.withColumn(c, F.col(c).cast('int'))"
   ]
  },
  {
   "cell_type": "code",
   "execution_count": 81,
   "metadata": {},
   "outputs": [
    {
     "name": "stderr",
     "output_type": "stream",
     "text": [
      "                                                                                \r"
     ]
    }
   ],
   "source": [
    "df.write.format('parquet').mode(\"overwrite\").saveAsTable('default.LC_table')"
   ]
  },
  {
   "cell_type": "code",
   "execution_count": 82,
   "metadata": {},
   "outputs": [],
   "source": [
    "##Registering the dataframe as a temporary table:\n",
    "#Temporary views in Spark SQL are session-scoped and will disappear if the session that creates it terminates. \n",
    "#If you want to have a temporary view that is shared among all sessions and keep alive until the Spark application terminates, \n",
    "#you can create a global temporary view\n",
    "\n",
    "df.createOrReplaceTempView(\"LC_Glob_Temp_View\")"
   ]
  },
  {
   "cell_type": "code",
   "execution_count": 83,
   "metadata": {},
   "outputs": [
    {
     "name": "stdout",
     "output_type": "stream",
     "text": [
      "+---------+------------------+-----------+\n",
      "|namespace|         tableName|isTemporary|\n",
      "+---------+------------------+-----------+\n",
      "|  default|                 t|      false|\n",
      "|  default|                 s|      false|\n",
      "|  default|      driver_stats|      false|\n",
      "|  default|            table1|      false|\n",
      "|  default|    hue__tmp_test2|      false|\n",
      "|  default|     employee_ofer|      false|\n",
      "|  default|      tax_auth_heb|      false|\n",
      "|  default|   results_anomaly|      false|\n",
      "|  default|           mytable|      false|\n",
      "|  default|     shaun_ice_t31|      false|\n",
      "|  default|      transactions|      false|\n",
      "|  default|             ice_t|      false|\n",
      "|  default|ms_churn_prototype|      false|\n",
      "|  default|         customers|      false|\n",
      "|  default|            table2|      false|\n",
      "|  default|           numbers|      false|\n",
      "|  default|                 a|      false|\n",
      "|  default| tax_auth_heb_line|      false|\n",
      "|  default|            syslog|      false|\n",
      "|  default|        wc_matches|      false|\n",
      "+---------+------------------+-----------+\n",
      "only showing top 20 rows\n",
      "\n"
     ]
    }
   ],
   "source": [
    "spark.sql(\"show tables\").show()"
   ]
  },
  {
   "cell_type": "code",
   "execution_count": 84,
   "metadata": {},
   "outputs": [],
   "source": [
    "spark.catalog.dropTempView(\"LC_Glob_Temp_View\")"
   ]
  },
  {
   "cell_type": "code",
   "execution_count": 85,
   "metadata": {},
   "outputs": [
    {
     "name": "stdout",
     "output_type": "stream",
     "text": [
      "+---------+------------------+-----------+\n",
      "|namespace|         tableName|isTemporary|\n",
      "+---------+------------------+-----------+\n",
      "|  default|                 t|      false|\n",
      "|  default|                 s|      false|\n",
      "|  default|      driver_stats|      false|\n",
      "|  default|            table1|      false|\n",
      "|  default|    hue__tmp_test2|      false|\n",
      "|  default|     employee_ofer|      false|\n",
      "|  default|      tax_auth_heb|      false|\n",
      "|  default|   results_anomaly|      false|\n",
      "|  default|           mytable|      false|\n",
      "|  default|     shaun_ice_t31|      false|\n",
      "|  default|      transactions|      false|\n",
      "|  default|             ice_t|      false|\n",
      "|  default|ms_churn_prototype|      false|\n",
      "|  default|         customers|      false|\n",
      "|  default|            table2|      false|\n",
      "|  default|           numbers|      false|\n",
      "|  default|                 a|      false|\n",
      "|  default| tax_auth_heb_line|      false|\n",
      "|  default|            syslog|      false|\n",
      "|  default|        wc_matches|      false|\n",
      "+---------+------------------+-----------+\n",
      "only showing top 20 rows\n",
      "\n"
     ]
    }
   ],
   "source": [
    "spark.sql(\"show tables\").show()"
   ]
  },
  {
   "cell_type": "code",
   "execution_count": 86,
   "metadata": {},
   "outputs": [],
   "source": [
    "#spark.catalog.dropGlobalTempView(\"LC_Loans_2015_GlobalTempView\")"
   ]
  },
  {
   "cell_type": "code",
   "execution_count": 87,
   "metadata": {},
   "outputs": [
    {
     "data": {
      "text/plain": [
       "DataFrame[acc_now_delinq: int, acc_open_past_24mths: int, addr_state: string, annual_inc: double, application_type: string, avg_cur_bal: int, bc_open_to_buy: int, bc_util: double, chargeoff_within_12_mths: int, collections_12_mths_ex_med: int, delinq_2yrs: int, delinq_amnt: int, desc: string, dti: double, earliest_cr_line: string, emp_length: string, emp_title: string, funded_amnt: int, funded_amnt_inv: int, grade: string, home_ownership: string, id: string, initial_list_status: string, inq_last_6mths: int, installment: double, int_rate: double, issue_d: string, loan_amnt: int, loan_status: string, mo_sin_old_rev_tl_op: int, mo_sin_rcnt_rev_tl_op: int, mo_sin_rcnt_tl: int, mort_acc: int, mths_since_recent_bc: int, num_accts_ever_120_pd: int, num_actv_bc_tl: int, num_actv_rev_tl: int, num_bc_sats: int, num_bc_tl: int, num_il_tl: int, num_op_rev_tl: int, num_rev_accts: int, num_rev_tl_bal_gt_0: int, num_sats: int, num_tl_30dpd: int, num_tl_90g_dpd_24m: int, num_tl_op_past_12m: int, open_acc: int, pct_tl_nvr_dlq: double, percent_bc_gt_75: double, policy_code: int, pub_rec: int, pub_rec_bankruptcies: int, purpose: string, revol_bal: int, revol_util: double, sub_grade: string, tax_liens: int, term: string, title: string, tot_cur_bal: int, tot_hi_cred_lim: int, total_acc: int, total_bal_ex_mort: int, total_bc_limit: int, total_il_high_credit_limit: int, total_rev_hi_lim: int, verification_status: string, zip_code: string, is_default: int, issue_month: string]"
      ]
     },
     "execution_count": 87,
     "metadata": {},
     "output_type": "execute_result"
    }
   ],
   "source": [
    "spark.sql(\"SELECT * FROM default.LC_table\")"
   ]
  },
  {
   "cell_type": "code",
   "execution_count": 88,
   "metadata": {},
   "outputs": [],
   "source": [
    "spark.stop()"
   ]
  },
  {
   "cell_type": "code",
   "execution_count": null,
   "metadata": {},
   "outputs": [],
   "source": []
  }
 ],
 "metadata": {
  "kernelspec": {
   "display_name": "Python 3 (ipykernel)",
   "language": "python",
   "name": "python3"
  },
  "language_info": {
   "codemirror_mode": {
    "name": "ipython",
    "version": 3
   },
   "file_extension": ".py",
   "mimetype": "text/x-python",
   "name": "python",
   "nbconvert_exporter": "python",
   "pygments_lexer": "ipython3",
   "version": "3.7.13"
  }
 },
 "nbformat": 4,
 "nbformat_minor": 4
}
