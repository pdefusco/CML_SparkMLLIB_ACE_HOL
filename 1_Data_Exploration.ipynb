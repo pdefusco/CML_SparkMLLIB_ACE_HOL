{
 "cells": [
  {
   "cell_type": "code",
   "execution_count": 106,
   "metadata": {},
   "outputs": [],
   "source": [
    "from pyspark.sql import SparkSession\n",
    "from pyspark.sql import functions as F"
   ]
  },
  {
   "cell_type": "code",
   "execution_count": 107,
   "metadata": {},
   "outputs": [],
   "source": [
    "import numpy as np\n",
    "import pandas as pd\n",
    "import os"
   ]
  },
  {
   "cell_type": "code",
   "execution_count": 108,
   "metadata": {},
   "outputs": [],
   "source": [
    "import matplotlib.pyplot as plt"
   ]
  },
  {
   "cell_type": "code",
   "execution_count": 109,
   "metadata": {},
   "outputs": [],
   "source": [
    "import seaborn as sns"
   ]
  },
  {
   "cell_type": "code",
   "execution_count": 110,
   "metadata": {},
   "outputs": [],
   "source": [
    "spark = SparkSession\\\n",
    "    .builder\\\n",
    "    .appName(\"PythonSQL\")\\\n",
    "    .config(\"spark.hadoop.fs.s3a.s3guard.ddb.region\",\"us-east-2\")\\\n",
    "    .config(\"spark.yarn.access.hadoopFileSystems\",os.environ[\"STORAGE\"])\\\n",
    "    .getOrCreate()\n",
    "\n",
    "#.config(\"spark.hadoop.fs.s3a.s3guard.ddb.region\",\"us-east-2\")\\"
   ]
  },
  {
   "cell_type": "code",
   "execution_count": 111,
   "metadata": {},
   "outputs": [],
   "source": [
    "#df = spark.read.csv('data/LoanStats_2015_subset.csv')\n",
    "#df = spark.read.option('inferschema','true').csv('data/original/LoanStats_2015_subset.csv', header=True)"
   ]
  },
  {
   "cell_type": "code",
   "execution_count": 113,
   "metadata": {},
   "outputs": [
    {
     "name": "stderr",
     "output_type": "stream",
     "text": [
      "                                                                                \r"
     ]
    }
   ],
   "source": [
    "df = spark.read.option('inferschema','true').csv(\n",
    "  os.environ[\"STORAGE\"] + \"/credit_demo/LoanStats_2015_subset_120321.csv\",\n",
    "  header=True,\n",
    "  sep=',',\n",
    "  nullValue='NA'\n",
    ")"
   ]
  },
  {
   "cell_type": "code",
   "execution_count": null,
   "metadata": {},
   "outputs": [],
   "source": [
    "df.take(2)"
   ]
  },
  {
   "cell_type": "code",
   "execution_count": null,
   "metadata": {},
   "outputs": [],
   "source": [
    "print(os.environ[\"STORAGE\"] + \"data/LoanStats_2015_subset_120321.csv\")"
   ]
  },
  {
   "cell_type": "code",
   "execution_count": 10,
   "metadata": {},
   "outputs": [
    {
     "data": {
      "text/plain": [
       "pyspark.sql.dataframe.DataFrame"
      ]
     },
     "execution_count": 10,
     "metadata": {},
     "output_type": "execute_result"
    }
   ],
   "source": [
    "type(df)"
   ]
  },
  {
   "cell_type": "code",
   "execution_count": 11,
   "metadata": {},
   "outputs": [],
   "source": [
    "#df.head()"
   ]
  },
  {
   "cell_type": "code",
   "execution_count": 15,
   "metadata": {},
   "outputs": [
    {
     "name": "stdout",
     "output_type": "stream",
     "text": [
      "root\n",
      " |-- acc_now_delinq: integer (nullable = true)\n",
      " |-- acc_open_past_24mths: integer (nullable = true)\n",
      " |-- addr_state: string (nullable = true)\n",
      " |-- all_util: integer (nullable = true)\n",
      " |-- annual_inc: double (nullable = true)\n",
      " |-- annual_inc_joint: double (nullable = true)\n",
      " |-- application_type: string (nullable = true)\n",
      " |-- avg_cur_bal: integer (nullable = true)\n",
      " |-- bc_open_to_buy: integer (nullable = true)\n",
      " |-- bc_util: double (nullable = true)\n",
      " |-- chargeoff_within_12_mths: integer (nullable = true)\n",
      " |-- collections_12_mths_ex_med: integer (nullable = true)\n",
      " |-- delinq_2yrs: integer (nullable = true)\n",
      " |-- delinq_amnt: integer (nullable = true)\n",
      " |-- desc: string (nullable = true)\n",
      " |-- dti: double (nullable = true)\n",
      " |-- dti_joint: double (nullable = true)\n",
      " |-- earliest_cr_line: string (nullable = true)\n",
      " |-- emp_length: string (nullable = true)\n",
      " |-- emp_title: string (nullable = true)\n",
      " |-- funded_amnt: string (nullable = true)\n",
      " |-- funded_amnt_inv: double (nullable = true)\n",
      " |-- grade: string (nullable = true)\n",
      " |-- home_ownership: string (nullable = true)\n",
      " |-- id: string (nullable = true)\n",
      " |-- il_util: integer (nullable = true)\n",
      " |-- initial_list_status: string (nullable = true)\n",
      " |-- inq_fi: string (nullable = true)\n",
      " |-- inq_last_12m: integer (nullable = true)\n",
      " |-- inq_last_6mths: integer (nullable = true)\n",
      " |-- installment: double (nullable = true)\n",
      " |-- int_rate: string (nullable = true)\n",
      " |-- issue_d: string (nullable = true)\n",
      " |-- loan_amnt: string (nullable = true)\n",
      " |-- loan_status: string (nullable = true)\n",
      " |-- max_bal_bc: string (nullable = true)\n",
      " |-- member_id: string (nullable = true)\n",
      " |-- mo_sin_old_il_acct: integer (nullable = true)\n",
      " |-- mo_sin_old_rev_tl_op: integer (nullable = true)\n",
      " |-- mo_sin_rcnt_rev_tl_op: integer (nullable = true)\n",
      " |-- mo_sin_rcnt_tl: integer (nullable = true)\n",
      " |-- mort_acc: integer (nullable = true)\n",
      " |-- mths_since_last_delinq: integer (nullable = true)\n",
      " |-- mths_since_last_major_derog: integer (nullable = true)\n",
      " |-- mths_since_last_record: integer (nullable = true)\n",
      " |-- mths_since_rcnt_il: integer (nullable = true)\n",
      " |-- mths_since_recent_bc: integer (nullable = true)\n",
      " |-- mths_since_recent_bc_dlq: integer (nullable = true)\n",
      " |-- mths_since_recent_inq: integer (nullable = true)\n",
      " |-- mths_since_recent_revol_delinq: integer (nullable = true)\n",
      " |-- num_accts_ever_120_pd: integer (nullable = true)\n",
      " |-- num_actv_bc_tl: integer (nullable = true)\n",
      " |-- num_actv_rev_tl: integer (nullable = true)\n",
      " |-- num_bc_sats: integer (nullable = true)\n",
      " |-- num_bc_tl: integer (nullable = true)\n",
      " |-- num_il_tl: integer (nullable = true)\n",
      " |-- num_op_rev_tl: integer (nullable = true)\n",
      " |-- num_rev_accts: integer (nullable = true)\n",
      " |-- num_rev_tl_bal_gt_0: integer (nullable = true)\n",
      " |-- num_sats: integer (nullable = true)\n",
      " |-- num_tl_120dpd_2m: integer (nullable = true)\n",
      " |-- num_tl_30dpd: integer (nullable = true)\n",
      " |-- num_tl_90g_dpd_24m: integer (nullable = true)\n",
      " |-- num_tl_op_past_12m: integer (nullable = true)\n",
      " |-- open_acc: integer (nullable = true)\n",
      " |-- open_acc_6m: integer (nullable = true)\n",
      " |-- open_il_12m: integer (nullable = true)\n",
      " |-- open_il_24m: integer (nullable = true)\n",
      " |-- open_act_il: integer (nullable = true)\n",
      " |-- open_rv_12m: integer (nullable = true)\n",
      " |-- open_rv_24m: integer (nullable = true)\n",
      " |-- pct_tl_nvr_dlq: double (nullable = true)\n",
      " |-- percent_bc_gt_75: double (nullable = true)\n",
      " |-- policy_code: integer (nullable = true)\n",
      " |-- pub_rec: integer (nullable = true)\n",
      " |-- pub_rec_bankruptcies: integer (nullable = true)\n",
      " |-- purpose: string (nullable = true)\n",
      " |-- revol_bal: string (nullable = true)\n",
      " |-- revol_util: string (nullable = true)\n",
      " |-- sub_grade: string (nullable = true)\n",
      " |-- tax_liens: string (nullable = true)\n",
      " |-- term: string (nullable = true)\n",
      " |-- title: string (nullable = true)\n",
      " |-- tot_cur_bal: string (nullable = true)\n",
      " |-- tot_hi_cred_lim: integer (nullable = true)\n",
      " |-- total_acc: integer (nullable = true)\n",
      " |-- total_bal_ex_mort: integer (nullable = true)\n",
      " |-- total_bal_il: integer (nullable = true)\n",
      " |-- total_bc_limit: integer (nullable = true)\n",
      " |-- total_cu_tl: integer (nullable = true)\n",
      " |-- total_il_high_credit_limit: integer (nullable = true)\n",
      " |-- total_rev_hi_lim: integer (nullable = true)\n",
      " |-- verification_status: string (nullable = true)\n",
      " |-- zip_code: string (nullable = true)\n",
      " |-- revol_bal_joint: string (nullable = true)\n",
      " |-- sec_app_earliest_cr_line: string (nullable = true)\n",
      " |-- sec_app_inq_last_6mths: string (nullable = true)\n",
      " |-- sec_app_mort_acc: string (nullable = true)\n",
      " |-- sec_app_open_acc: string (nullable = true)\n",
      " |-- sec_app_revol_util: string (nullable = true)\n",
      " |-- sec_app_open_act_il: string (nullable = true)\n",
      " |-- sec_app_num_rev_accts: string (nullable = true)\n",
      " |-- sec_app_chargeoff_within_12_mths: string (nullable = true)\n",
      " |-- sec_app_collections_12_mths_ex_med: string (nullable = true)\n",
      " |-- sec_app_mths_since_last_major_derog: string (nullable = true)\n",
      "\n"
     ]
    }
   ],
   "source": [
    "df.printSchema()"
   ]
  },
  {
   "cell_type": "code",
   "execution_count": 16,
   "metadata": {},
   "outputs": [
    {
     "name": "stdout",
     "output_type": "stream",
     "text": [
      "Dataframe Shape\n",
      "(145332, 105)\n"
     ]
    }
   ],
   "source": [
    "#Printing number of rows and columns:\n",
    "print('Dataframe Shape')\n",
    "print((df.count(), len(df.columns)))"
   ]
  },
  {
   "cell_type": "markdown",
   "metadata": {},
   "source": [
    "#### Basic Inspection"
   ]
  },
  {
   "cell_type": "code",
   "execution_count": 17,
   "metadata": {},
   "outputs": [
    {
     "name": "stderr",
     "output_type": "stream",
     "text": [
      "/opt/spark/python/lib/pyspark.zip/pyspark/sql/pandas/conversion.py:186: PerformanceWarning: DataFrame is highly fragmented.  This is usually the result of calling `frame.insert` many times, which has poor performance.  Consider joining all columns at once using pd.concat(axis=1) instead.  To get a de-fragmented frame, use `newframe = frame.copy()`\n",
      "  df[column_name] = series\n"
     ]
    },
    {
     "data": {
      "text/html": [
       "<div>\n",
       "<style scoped>\n",
       "    .dataframe tbody tr th:only-of-type {\n",
       "        vertical-align: middle;\n",
       "    }\n",
       "\n",
       "    .dataframe tbody tr th {\n",
       "        vertical-align: top;\n",
       "    }\n",
       "\n",
       "    .dataframe thead th {\n",
       "        text-align: right;\n",
       "    }\n",
       "</style>\n",
       "<table border=\"1\" class=\"dataframe\">\n",
       "  <thead>\n",
       "    <tr style=\"text-align: right;\">\n",
       "      <th></th>\n",
       "      <th>acc_now_delinq</th>\n",
       "      <th>acc_open_past_24mths</th>\n",
       "      <th>addr_state</th>\n",
       "      <th>all_util</th>\n",
       "      <th>annual_inc</th>\n",
       "      <th>annual_inc_joint</th>\n",
       "      <th>application_type</th>\n",
       "      <th>avg_cur_bal</th>\n",
       "      <th>bc_open_to_buy</th>\n",
       "      <th>bc_util</th>\n",
       "      <th>...</th>\n",
       "      <th>sec_app_earliest_cr_line</th>\n",
       "      <th>sec_app_inq_last_6mths</th>\n",
       "      <th>sec_app_mort_acc</th>\n",
       "      <th>sec_app_open_acc</th>\n",
       "      <th>sec_app_revol_util</th>\n",
       "      <th>sec_app_open_act_il</th>\n",
       "      <th>sec_app_num_rev_accts</th>\n",
       "      <th>sec_app_chargeoff_within_12_mths</th>\n",
       "      <th>sec_app_collections_12_mths_ex_med</th>\n",
       "      <th>sec_app_mths_since_last_major_derog</th>\n",
       "    </tr>\n",
       "  </thead>\n",
       "  <tbody>\n",
       "    <tr>\n",
       "      <th>0</th>\n",
       "      <td>0</td>\n",
       "      <td>0</td>\n",
       "      <td>0</td>\n",
       "      <td>123960</td>\n",
       "      <td>0</td>\n",
       "      <td>144821</td>\n",
       "      <td>0</td>\n",
       "      <td>0</td>\n",
       "      <td>1363</td>\n",
       "      <td>1444</td>\n",
       "      <td>...</td>\n",
       "      <td>145332</td>\n",
       "      <td>145332</td>\n",
       "      <td>145332</td>\n",
       "      <td>145332</td>\n",
       "      <td>145332</td>\n",
       "      <td>145332</td>\n",
       "      <td>145332</td>\n",
       "      <td>145332</td>\n",
       "      <td>145332</td>\n",
       "      <td>145332</td>\n",
       "    </tr>\n",
       "  </tbody>\n",
       "</table>\n",
       "<p>1 rows × 105 columns</p>\n",
       "</div>"
      ],
      "text/plain": [
       "   acc_now_delinq  acc_open_past_24mths  addr_state  all_util  annual_inc  \\\n",
       "0               0                     0           0    123960           0   \n",
       "\n",
       "   annual_inc_joint  application_type  avg_cur_bal  bc_open_to_buy  bc_util  \\\n",
       "0            144821                 0            0            1363     1444   \n",
       "\n",
       "   ...  sec_app_earliest_cr_line  sec_app_inq_last_6mths  sec_app_mort_acc  \\\n",
       "0  ...                    145332                  145332            145332   \n",
       "\n",
       "   sec_app_open_acc  sec_app_revol_util  sec_app_open_act_il  \\\n",
       "0            145332              145332               145332   \n",
       "\n",
       "   sec_app_num_rev_accts  sec_app_chargeoff_within_12_mths  \\\n",
       "0                 145332                            145332   \n",
       "\n",
       "   sec_app_collections_12_mths_ex_med  sec_app_mths_since_last_major_derog  \n",
       "0                              145332                               145332  \n",
       "\n",
       "[1 rows x 105 columns]"
      ]
     },
     "execution_count": 17,
     "metadata": {},
     "output_type": "execute_result"
    }
   ],
   "source": [
    "#Count number of nulls for each column:\n",
    "df.select([F.count(F.when(F.isnan(c) | F.col(c).isNull(), c)).alias(c) for c in df.columns]).toPandas()"
   ]
  },
  {
   "cell_type": "code",
   "execution_count": 18,
   "metadata": {},
   "outputs": [
    {
     "name": "stderr",
     "output_type": "stream",
     "text": [
      "/opt/spark/python/lib/pyspark.zip/pyspark/sql/pandas/conversion.py:186: PerformanceWarning: DataFrame is highly fragmented.  This is usually the result of calling `frame.insert` many times, which has poor performance.  Consider joining all columns at once using pd.concat(axis=1) instead.  To get a de-fragmented frame, use `newframe = frame.copy()`\n",
      "  df[column_name] = series\n"
     ]
    }
   ],
   "source": [
    "#It seems like some columns have a lot of nulls while others have very few:\n",
    "nulls = df.select([F.count(F.when(F.isnan(c) | F.col(c).isNull(), c)).alias(c) for c in df.columns]).toPandas()"
   ]
  },
  {
   "cell_type": "code",
   "execution_count": 19,
   "metadata": {},
   "outputs": [],
   "source": [
    "null_cols = nulls.T[(nulls.T > 1000).any(axis=1)].index"
   ]
  },
  {
   "cell_type": "code",
   "execution_count": 20,
   "metadata": {},
   "outputs": [],
   "source": [
    "df = df.drop(*null_cols)"
   ]
  },
  {
   "cell_type": "code",
   "execution_count": 21,
   "metadata": {},
   "outputs": [
    {
     "name": "stdout",
     "output_type": "stream",
     "text": [
      "Dataframe Shape\n",
      "(145332, 62)\n"
     ]
    }
   ],
   "source": [
    "#Printing number of rows:\n",
    "print('Dataframe Shape')\n",
    "print((df.count(), len(df.columns)))"
   ]
  },
  {
   "cell_type": "code",
   "execution_count": 22,
   "metadata": {},
   "outputs": [],
   "source": [
    "df = df.filter(df.loan_status != '10500')"
   ]
  },
  {
   "cell_type": "code",
   "execution_count": 23,
   "metadata": {},
   "outputs": [
    {
     "data": {
      "text/plain": [
       "[('acc_now_delinq', 'int'),\n",
       " ('acc_open_past_24mths', 'int'),\n",
       " ('addr_state', 'string'),\n",
       " ('annual_inc', 'double'),\n",
       " ('application_type', 'string'),\n",
       " ('avg_cur_bal', 'int'),\n",
       " ('chargeoff_within_12_mths', 'int'),\n",
       " ('collections_12_mths_ex_med', 'int'),\n",
       " ('delinq_2yrs', 'int'),\n",
       " ('delinq_amnt', 'int'),\n",
       " ('dti', 'double'),\n",
       " ('earliest_cr_line', 'string'),\n",
       " ('emp_length', 'string'),\n",
       " ('funded_amnt', 'string'),\n",
       " ('funded_amnt_inv', 'double'),\n",
       " ('grade', 'string'),\n",
       " ('home_ownership', 'string'),\n",
       " ('initial_list_status', 'string'),\n",
       " ('inq_last_6mths', 'int'),\n",
       " ('installment', 'double'),\n",
       " ('int_rate', 'string'),\n",
       " ('issue_d', 'string'),\n",
       " ('loan_amnt', 'string'),\n",
       " ('loan_status', 'string'),\n",
       " ('mo_sin_old_rev_tl_op', 'int'),\n",
       " ('mo_sin_rcnt_rev_tl_op', 'int'),\n",
       " ('mo_sin_rcnt_tl', 'int'),\n",
       " ('mort_acc', 'int'),\n",
       " ('num_accts_ever_120_pd', 'int'),\n",
       " ('num_actv_bc_tl', 'int'),\n",
       " ('num_actv_rev_tl', 'int'),\n",
       " ('num_bc_sats', 'int'),\n",
       " ('num_bc_tl', 'int'),\n",
       " ('num_il_tl', 'int'),\n",
       " ('num_op_rev_tl', 'int'),\n",
       " ('num_rev_accts', 'int'),\n",
       " ('num_rev_tl_bal_gt_0', 'int'),\n",
       " ('num_sats', 'int'),\n",
       " ('num_tl_30dpd', 'int'),\n",
       " ('num_tl_90g_dpd_24m', 'int'),\n",
       " ('num_tl_op_past_12m', 'int'),\n",
       " ('open_acc', 'int'),\n",
       " ('pct_tl_nvr_dlq', 'double'),\n",
       " ('policy_code', 'int'),\n",
       " ('pub_rec', 'int'),\n",
       " ('pub_rec_bankruptcies', 'int'),\n",
       " ('purpose', 'string'),\n",
       " ('revol_bal', 'string'),\n",
       " ('revol_util', 'string'),\n",
       " ('sub_grade', 'string'),\n",
       " ('tax_liens', 'string'),\n",
       " ('term', 'string'),\n",
       " ('title', 'string'),\n",
       " ('tot_cur_bal', 'string'),\n",
       " ('tot_hi_cred_lim', 'int'),\n",
       " ('total_acc', 'int'),\n",
       " ('total_bal_ex_mort', 'int'),\n",
       " ('total_bc_limit', 'int'),\n",
       " ('total_il_high_credit_limit', 'int'),\n",
       " ('total_rev_hi_lim', 'int'),\n",
       " ('verification_status', 'string'),\n",
       " ('zip_code', 'string')]"
      ]
     },
     "execution_count": 23,
     "metadata": {},
     "output_type": "execute_result"
    }
   ],
   "source": [
    "df.dtypes"
   ]
  },
  {
   "cell_type": "markdown",
   "metadata": {},
   "source": [
    "## KPI Reporting"
   ]
  },
  {
   "cell_type": "markdown",
   "metadata": {},
   "source": [
    "### What is the target variable and what does it define?"
   ]
  },
  {
   "cell_type": "code",
   "execution_count": 24,
   "metadata": {},
   "outputs": [
    {
     "name": "stderr",
     "output_type": "stream",
     "text": [
      "                                                                                \r"
     ]
    },
    {
     "name": "stdout",
     "output_type": "stream",
     "text": [
      "+------------------+\n",
      "|       loan_status|\n",
      "+------------------+\n",
      "|        Fully Paid|\n",
      "|           Default|\n",
      "|   In Grace Period|\n",
      "|       Charged Off|\n",
      "|Late (31-120 days)|\n",
      "|           Current|\n",
      "| Late (16-30 days)|\n",
      "+------------------+\n",
      "\n"
     ]
    }
   ],
   "source": [
    "df.select(\"loan_status\").distinct().show()"
   ]
  },
  {
   "cell_type": "code",
   "execution_count": 25,
   "metadata": {},
   "outputs": [
    {
     "name": "stdout",
     "output_type": "stream",
     "text": [
      "+------------------+-----+\n",
      "|       loan_status|count|\n",
      "+------------------+-----+\n",
      "|        Fully Paid|55312|\n",
      "|           Default|    4|\n",
      "|   In Grace Period| 1116|\n",
      "|       Charged Off|19719|\n",
      "|Late (31-120 days)| 2080|\n",
      "|           Current|66675|\n",
      "| Late (16-30 days)|  425|\n",
      "+------------------+-----+\n",
      "\n",
      "None\n"
     ]
    }
   ],
   "source": [
    "#Types of loan status\n",
    "print(df.groupBy('loan_status').count().show())"
   ]
  },
  {
   "cell_type": "code",
   "execution_count": 26,
   "metadata": {},
   "outputs": [
    {
     "name": "stderr",
     "output_type": "stream",
     "text": [
      "                                                                                \r"
     ]
    },
    {
     "data": {
      "image/png": "[encoded data removed]",
      "text/plain": [
       "<Figure size 576x216 with 1 Axes>"
      ]
     },
     "metadata": {
      "needs_background": "light"
     },
     "output_type": "display_data"
    }
   ],
   "source": [
    "df_plot = df.groupBy('loan_status').count().toPandas()\n",
    "plt.figure(figsize=(8,3))\n",
    "g = sns.barplot(x=\"loan_status\", y=\"count\", data=df_plot)\n",
    "g.set_title('Loan Status Category Counts')\n",
    "plt.show()"
   ]
  },
  {
   "cell_type": "markdown",
   "metadata": {},
   "source": [
    "#### To predict defaults, we need to transform the target variable into a binary variable"
   ]
  },
  {
   "cell_type": "code",
   "execution_count": 27,
   "metadata": {},
   "outputs": [],
   "source": [
    "from pyspark.sql.functions import when"
   ]
  },
  {
   "cell_type": "code",
   "execution_count": 28,
   "metadata": {},
   "outputs": [],
   "source": [
    "df = df.withColumn(\"is_default\", when((df[\"loan_status\"] == \"Charged Off\")|(df[\"loan_status\"] == \"Default\"), 1).otherwise(0))"
   ]
  },
  {
   "cell_type": "code",
   "execution_count": 29,
   "metadata": {},
   "outputs": [
    {
     "name": "stdout",
     "output_type": "stream",
     "text": [
      "+----------+\n",
      "|is_default|\n",
      "+----------+\n",
      "|         0|\n",
      "|         0|\n",
      "|         0|\n",
      "|         0|\n",
      "|         0|\n",
      "|         0|\n",
      "|         1|\n",
      "|         0|\n",
      "|         1|\n",
      "|         0|\n",
      "|         0|\n",
      "|         0|\n",
      "|         0|\n",
      "|         0|\n",
      "|         0|\n",
      "|         0|\n",
      "|         0|\n",
      "|         0|\n",
      "|         1|\n",
      "|         0|\n",
      "+----------+\n",
      "only showing top 20 rows\n",
      "\n"
     ]
    }
   ],
   "source": [
    "#Checking that we have correctly replaced values\n",
    "df.select(\"is_default\").show()"
   ]
  },
  {
   "cell_type": "code",
   "execution_count": 30,
   "metadata": {},
   "outputs": [
    {
     "data": {
      "text/plain": [
       "[('is_default', 'int')]"
      ]
     },
     "execution_count": 30,
     "metadata": {},
     "output_type": "execute_result"
    }
   ],
   "source": [
    "df.select(\"is_default\").dtypes"
   ]
  },
  {
   "cell_type": "code",
   "execution_count": 31,
   "metadata": {},
   "outputs": [],
   "source": [
    "from pyspark.sql import functions as F"
   ]
  },
  {
   "cell_type": "code",
   "execution_count": 32,
   "metadata": {},
   "outputs": [
    {
     "data": {
      "text/plain": [
       "19723"
      ]
     },
     "execution_count": 32,
     "metadata": {},
     "output_type": "execute_result"
    }
   ],
   "source": [
    "#Check the exact total of all loans labeled to default matches with the sum of the original two values used above (Charged Off and Default)\n",
    "df.select(F.sum(\"is_default\")).collect()[0][0]"
   ]
  },
  {
   "cell_type": "markdown",
   "metadata": {},
   "source": [
    "### What is the monthly total loan volume in dollars and what is the monthly average loan size?"
   ]
  },
  {
   "cell_type": "code",
   "execution_count": 33,
   "metadata": {},
   "outputs": [],
   "source": [
    "from pyspark.sql.functions import to_date"
   ]
  },
  {
   "cell_type": "code",
   "execution_count": 34,
   "metadata": {},
   "outputs": [
    {
     "name": "stdout",
     "output_type": "stream",
     "text": [
      "+--------+\n",
      "| issue_d|\n",
      "+--------+\n",
      "|Dec-2015|\n",
      "|Dec-2015|\n",
      "|Dec-2015|\n",
      "|Dec-2015|\n",
      "+--------+\n",
      "only showing top 4 rows\n",
      "\n"
     ]
    }
   ],
   "source": [
    "#The original issue date attribute\n",
    "df.select(\"issue_d\").show(4)"
   ]
  },
  {
   "cell_type": "code",
   "execution_count": 35,
   "metadata": {},
   "outputs": [
    {
     "name": "stdout",
     "output_type": "stream",
     "text": [
      "+-----------+\n",
      "|issue_month|\n",
      "+-----------+\n",
      "|         12|\n",
      "|         12|\n",
      "|         12|\n",
      "|         12|\n",
      "+-----------+\n",
      "only showing top 4 rows\n",
      "\n"
     ]
    }
   ],
   "source": [
    "#We need to cast the issue date from string to month (all loan applications in the dataset occurred in 2015 so we don't need the year):\n",
    "df.selectExpr(\"from_unixtime(unix_timestamp(issue_d,'MMM-yyyy'),'MM') as issue_month\").show(4)"
   ]
  },
  {
   "cell_type": "code",
   "execution_count": 36,
   "metadata": {},
   "outputs": [],
   "source": [
    "df = df.withColumn(\"issue_month\",F.from_unixtime(F.unix_timestamp(F.col(\"issue_d\"),'MMM-yyyy'),'MM'))"
   ]
  },
  {
   "cell_type": "code",
   "execution_count": 37,
   "metadata": {},
   "outputs": [
    {
     "name": "stderr",
     "output_type": "stream",
     "text": [
      "                                                                                \r"
     ]
    },
    {
     "name": "stdout",
     "output_type": "stream",
     "text": [
      "+-----------+\n",
      "|issue_month|\n",
      "+-----------+\n",
      "|         11|\n",
      "|         09|\n",
      "|         10|\n",
      "|         12|\n",
      "+-----------+\n",
      "\n"
     ]
    }
   ],
   "source": [
    "df.select(\"issue_month\").distinct().show()"
   ]
  },
  {
   "cell_type": "code",
   "execution_count": 38,
   "metadata": {},
   "outputs": [
    {
     "name": "stderr",
     "output_type": "stream",
     "text": [
      "[Stage 52:>                                                         (0 + 2) / 2]\r"
     ]
    },
    {
     "name": "stdout",
     "output_type": "stream",
     "text": [
      "+-----------+---------------+\n",
      "|issue_month|sum(is_default)|\n",
      "+-----------+---------------+\n",
      "|         09|           2088|\n",
      "|         10|           6446|\n",
      "|         11|           5015|\n",
      "|         12|           6174|\n",
      "+-----------+---------------+\n",
      "\n"
     ]
    },
    {
     "name": "stderr",
     "output_type": "stream",
     "text": [
      "                                                                                \r"
     ]
    }
   ],
   "source": [
    "#how many loans defaulted for each month (all data is 2015):\n",
    "df.groupby('issue_month').sum('is_default').na.drop().sort(F.asc('issue_month')).show()"
   ]
  },
  {
   "cell_type": "code",
   "execution_count": 39,
   "metadata": {},
   "outputs": [
    {
     "name": "stderr",
     "output_type": "stream",
     "text": [
      "                                                                                \r"
     ]
    }
   ],
   "source": [
    "defaults_date = df.groupby('issue_month').sum('is_default').na.drop().sort(F.asc('issue_month')).toPandas()"
   ]
  },
  {
   "cell_type": "code",
   "execution_count": 40,
   "metadata": {},
   "outputs": [
    {
     "data": {
      "text/html": [
       "<div>\n",
       "<style scoped>\n",
       "    .dataframe tbody tr th:only-of-type {\n",
       "        vertical-align: middle;\n",
       "    }\n",
       "\n",
       "    .dataframe tbody tr th {\n",
       "        vertical-align: top;\n",
       "    }\n",
       "\n",
       "    .dataframe thead th {\n",
       "        text-align: right;\n",
       "    }\n",
       "</style>\n",
       "<table border=\"1\" class=\"dataframe\">\n",
       "  <thead>\n",
       "    <tr style=\"text-align: right;\">\n",
       "      <th></th>\n",
       "      <th>issue_month</th>\n",
       "      <th>sum(is_default)</th>\n",
       "    </tr>\n",
       "  </thead>\n",
       "  <tbody>\n",
       "    <tr>\n",
       "      <th>0</th>\n",
       "      <td>09</td>\n",
       "      <td>2088</td>\n",
       "    </tr>\n",
       "    <tr>\n",
       "      <th>1</th>\n",
       "      <td>10</td>\n",
       "      <td>6446</td>\n",
       "    </tr>\n",
       "    <tr>\n",
       "      <th>2</th>\n",
       "      <td>11</td>\n",
       "      <td>5015</td>\n",
       "    </tr>\n",
       "    <tr>\n",
       "      <th>3</th>\n",
       "      <td>12</td>\n",
       "      <td>6174</td>\n",
       "    </tr>\n",
       "  </tbody>\n",
       "</table>\n",
       "</div>"
      ],
      "text/plain": [
       "  issue_month  sum(is_default)\n",
       "0          09             2088\n",
       "1          10             6446\n",
       "2          11             5015\n",
       "3          12             6174"
      ]
     },
     "execution_count": 40,
     "metadata": {},
     "output_type": "execute_result"
    }
   ],
   "source": [
    "defaults_date"
   ]
  },
  {
   "cell_type": "code",
   "execution_count": 41,
   "metadata": {},
   "outputs": [
    {
     "data": {
      "image/png": "[encoded data removed]",
      "text/plain": [
       "<Figure size 576x216 with 1 Axes>"
      ]
     },
     "metadata": {
      "needs_background": "light"
     },
     "output_type": "display_data"
    }
   ],
   "source": [
    "plt.figure(figsize=(8,3))\n",
    "g = sns.barplot(x=\"issue_month\", y=\"sum(is_default)\", data=defaults_date)\n",
    "g.set_title('Loan Defaults by Month')\n",
    "g.set_ylabel('Total Loan Defaults')\n",
    "g.set_xlabel('Month in 2015')\n",
    "plt.show()"
   ]
  },
  {
   "cell_type": "code",
   "execution_count": 42,
   "metadata": {},
   "outputs": [],
   "source": [
    "#Let's create more plots here. First we aggregate in different ways. Then we join, convert to Pandas df, and plot. "
   ]
  },
  {
   "cell_type": "code",
   "execution_count": 43,
   "metadata": {},
   "outputs": [],
   "source": [
    "from pyspark.sql.functions import sum as _sum"
   ]
  },
  {
   "cell_type": "code",
   "execution_count": 44,
   "metadata": {},
   "outputs": [
    {
     "name": "stderr",
     "output_type": "stream",
     "text": [
      "[Stage 60:=========================================>            (155 + 2) / 200]\r"
     ]
    },
    {
     "name": "stdout",
     "output_type": "stream",
     "text": [
      "+-----------+----------+\n",
      "|issue_month|sum(count)|\n",
      "+-----------+----------+\n",
      "|         09|       232|\n",
      "|         10|       759|\n",
      "|         11|       643|\n",
      "|         12|       871|\n",
      "+-----------+----------+\n",
      "\n"
     ]
    },
    {
     "name": "stderr",
     "output_type": "stream",
     "text": [
      "                                                                                \r"
     ]
    }
   ],
   "source": [
    "#by using like function\n",
    "df.groupBy(\"issue_month\",\"loan_status\").\\\n",
    "count().\\\n",
    "filter(F.lower(F.col(\"loan_status\")).like(\"late%\")).\\\n",
    "groupby('issue_month').\\\n",
    "sum().\\\n",
    "sort(F.asc('issue_month')).\\\n",
    "show()"
   ]
  },
  {
   "cell_type": "code",
   "execution_count": 45,
   "metadata": {},
   "outputs": [],
   "source": [
    "df_late = df.groupBy(\"issue_month\",\"loan_status\").\\\n",
    "count().\\\n",
    "filter(F.lower(F.col(\"loan_status\")).like(\"late%\")).\\\n",
    "groupby('issue_month').\\\n",
    "sum().\\\n",
    "sort(F.asc('issue_month'))"
   ]
  },
  {
   "cell_type": "code",
   "execution_count": 46,
   "metadata": {},
   "outputs": [],
   "source": [
    "#by using like function\n",
    "df_delinq = df.groupBy(\"issue_month\").\\\n",
    "max(\"inq_last_6mths\").\\\n",
    "na.drop().\\\n",
    "sort(F.asc('issue_month'))"
   ]
  },
  {
   "cell_type": "code",
   "execution_count": 47,
   "metadata": {},
   "outputs": [],
   "source": [
    "#This time we need to cast the attribute we are working with to numeric before we can create a similar dataframe:\n",
    "df = df.withColumn('loan_amnt', F.col('loan_amnt').cast('int'))"
   ]
  },
  {
   "cell_type": "code",
   "execution_count": 48,
   "metadata": {},
   "outputs": [],
   "source": [
    "#by using like function\n",
    "df_ann_inc = df.groupBy(\"issue_month\").\\\n",
    "mean(\"loan_amnt\").\\\n",
    "na.drop().\\\n",
    "sort(F.asc('issue_month'))"
   ]
  },
  {
   "cell_type": "code",
   "execution_count": 49,
   "metadata": {},
   "outputs": [
    {
     "name": "stderr",
     "output_type": "stream",
     "text": [
      "                                                                                \r"
     ]
    },
    {
     "name": "stdout",
     "output_type": "stream",
     "text": [
      "+-----------+-------------------+------------------+-------------+\n",
      "|issue_month|max(inq_last_6mths)|    avg(loan_amnt)|default_count|\n",
      "+-----------+-------------------+------------------+-------------+\n",
      "|         11|                  5|15114.503730349054|          643|\n",
      "|         09|                  5|15707.964408262127|          232|\n",
      "|         10|                  5|15178.663957197243|          759|\n",
      "|         12|                  5|15062.367228198364|          871|\n",
      "+-----------+-------------------+------------------+-------------+\n",
      "\n"
     ]
    }
   ],
   "source": [
    "df_delinq.alias('a').join(df_ann_inc.alias('b'),F.col('b.issue_month') == F.col('a.issue_month')).\\\n",
    "join(df_late.alias('c'), F.col('b.issue_month') == F.col('c.issue_month')).\\\n",
    "select(F.col('a.issue_month'), F.col('a.max(inq_last_6mths)'), F.col('b.avg(loan_amnt)'), F.col('c.sum(count)').alias('default_count')).\\\n",
    "show()"
   ]
  },
  {
   "cell_type": "code",
   "execution_count": 50,
   "metadata": {},
   "outputs": [
    {
     "name": "stderr",
     "output_type": "stream",
     "text": [
      "                                                                                \r"
     ]
    }
   ],
   "source": [
    "df_stats_pd = df_delinq.alias('a').join(df_ann_inc.alias('b'),F.col('b.issue_month') == F.col('a.issue_month')).\\\n",
    "join(df_late.alias('c'), F.col('b.issue_month') == F.col('c.issue_month')).\\\n",
    "select(F.col('a.issue_month'), F.col('a.max(inq_last_6mths)'), F.col('b.avg(loan_amnt)'), F.col('c.sum(count)').alias('default_count')).\\\n",
    "toPandas()"
   ]
  },
  {
   "cell_type": "code",
   "execution_count": 51,
   "metadata": {},
   "outputs": [
    {
     "data": {
      "text/html": [
       "<div>\n",
       "<style scoped>\n",
       "    .dataframe tbody tr th:only-of-type {\n",
       "        vertical-align: middle;\n",
       "    }\n",
       "\n",
       "    .dataframe tbody tr th {\n",
       "        vertical-align: top;\n",
       "    }\n",
       "\n",
       "    .dataframe thead th {\n",
       "        text-align: right;\n",
       "    }\n",
       "</style>\n",
       "<table border=\"1\" class=\"dataframe\">\n",
       "  <thead>\n",
       "    <tr style=\"text-align: right;\">\n",
       "      <th></th>\n",
       "      <th>issue_month</th>\n",
       "      <th>max(inq_last_6mths)</th>\n",
       "      <th>avg(loan_amnt)</th>\n",
       "      <th>default_count</th>\n",
       "    </tr>\n",
       "  </thead>\n",
       "  <tbody>\n",
       "    <tr>\n",
       "      <th>0</th>\n",
       "      <td>11</td>\n",
       "      <td>5</td>\n",
       "      <td>15114.503730</td>\n",
       "      <td>643</td>\n",
       "    </tr>\n",
       "    <tr>\n",
       "      <th>1</th>\n",
       "      <td>09</td>\n",
       "      <td>5</td>\n",
       "      <td>15707.964408</td>\n",
       "      <td>232</td>\n",
       "    </tr>\n",
       "    <tr>\n",
       "      <th>2</th>\n",
       "      <td>10</td>\n",
       "      <td>5</td>\n",
       "      <td>15178.663957</td>\n",
       "      <td>759</td>\n",
       "    </tr>\n",
       "    <tr>\n",
       "      <th>3</th>\n",
       "      <td>12</td>\n",
       "      <td>5</td>\n",
       "      <td>15062.367228</td>\n",
       "      <td>871</td>\n",
       "    </tr>\n",
       "  </tbody>\n",
       "</table>\n",
       "</div>"
      ],
      "text/plain": [
       "  issue_month  max(inq_last_6mths)  avg(loan_amnt)  default_count\n",
       "0          11                    5    15114.503730            643\n",
       "1          09                    5    15707.964408            232\n",
       "2          10                    5    15178.663957            759\n",
       "3          12                    5    15062.367228            871"
      ]
     },
     "execution_count": 51,
     "metadata": {},
     "output_type": "execute_result"
    }
   ],
   "source": [
    "df_stats_pd.head()"
   ]
  },
  {
   "cell_type": "code",
   "execution_count": 52,
   "metadata": {},
   "outputs": [
    {
     "data": {
      "image/png": "[encoded data removed]",
      "text/plain": [
       "<Figure size 504x360 with 3 Axes>"
      ]
     },
     "metadata": {
      "needs_background": "light"
     },
     "output_type": "display_data"
    }
   ],
   "source": [
    "f, (ax1, ax2, ax3) = plt.subplots(3, 1, figsize=(7, 5), sharex=True)\n",
    "\n",
    "sns.barplot(x=df_stats_pd['issue_month'], y=df_stats_pd['max(inq_last_6mths)'], palette=\"rocket\", ax=ax1)\n",
    "ax1.axhline(0, color=\"k\", clip_on=False)\n",
    "ax1.set_ylabel(\"Max Months Since Deliq\")\n",
    "ax1.set_xlabel(\"\")\n",
    "\n",
    "sns.scatterplot(x=df_stats_pd['issue_month'], y=df_stats_pd['avg(loan_amnt)'], palette=\"vlag\", ax=ax2)\n",
    "ax2.axhline(0, color=\"k\", clip_on=False)\n",
    "ax2.set_ylabel(\"Average Loan Amount\")\n",
    "\n",
    "sns.barplot(x=df_stats_pd['issue_month'], y=df_stats_pd['default_count'], palette=\"deep\", ax=ax3)\n",
    "ax3.axhline(0, color=\"k\", clip_on=False)\n",
    "ax3.set_ylabel(\"Count of Defaults\")\n",
    "ax1.set_xlabel(\"Month\")\n",
    "\n",
    "sns.despine(bottom=True)\n",
    "#plt.setp(f.axes)\n",
    "plt.tight_layout(h_pad=2)\n",
    "\n",
    "plt.show()"
   ]
  },
  {
   "cell_type": "code",
   "execution_count": 53,
   "metadata": {},
   "outputs": [],
   "source": [
    "#do map based on zipcode?"
   ]
  },
  {
   "cell_type": "code",
   "execution_count": 54,
   "metadata": {},
   "outputs": [],
   "source": [
    "#df = df.filter(df.loan_status != '10500')"
   ]
  },
  {
   "cell_type": "markdown",
   "metadata": {},
   "source": [
    "### Spark SQL"
   ]
  },
  {
   "cell_type": "code",
   "execution_count": 55,
   "metadata": {},
   "outputs": [],
   "source": [
    "##Registering the dataframe as a temporary table:\n",
    "#df.registerTempTable(\"LC_Loans_2015\")"
   ]
  },
  {
   "cell_type": "code",
   "execution_count": 56,
   "metadata": {},
   "outputs": [
    {
     "name": "stderr",
     "output_type": "stream",
     "text": [
      "Hive Session ID = 77313dbb-3d1e-4d05-bde5-60deb9900178\n"
     ]
    },
    {
     "name": "stdout",
     "output_type": "stream",
     "text": [
      "+--------------------+\n",
      "|           namespace|\n",
      "+--------------------+\n",
      "|             airline|\n",
      "|airline_ontime_pa...|\n",
      "|         airlinedata|\n",
      "|            airlines|\n",
      "|                amex|\n",
      "|              bhagan|\n",
      "|            bronzedb|\n",
      "|                 cdc|\n",
      "|                cnav|\n",
      "| dbt_demo_mart_covid|\n",
      "|  dbt_demo_raw_covid|\n",
      "|  dbt_demo_reference|\n",
      "|dbt_demo_staging_...|\n",
      "|             default|\n",
      "|                demo|\n",
      "|       demo_accounts|\n",
      "|      demo_datacards|\n",
      "|         demo_people|\n",
      "|        demo_staging|\n",
      "|             factory|\n",
      "+--------------------+\n",
      "only showing top 20 rows\n",
      "\n"
     ]
    }
   ],
   "source": [
    "spark.sql(\"show databases\").show()"
   ]
  },
  {
   "cell_type": "code",
   "execution_count": 57,
   "metadata": {},
   "outputs": [
    {
     "name": "stdout",
     "output_type": "stream",
     "text": [
      "+--------+--------------------+-----------+\n",
      "|database|           tableName|isTemporary|\n",
      "+--------+--------------------+-----------+\n",
      "| default|         telco_churn|      false|\n",
      "| default|             cc_data|      false|\n",
      "| default|            employee|      false|\n",
      "| default|     winequality_red|      false|\n",
      "| default|simpsons_spark_table|      false|\n",
      "| default|         afinn_table|      false|\n",
      "| default|             circles|      false|\n",
      "| default|     lc_model_scores|      false|\n",
      "| default|          pysparktab|      false|\n",
      "| default|zapatero_churn_pr...|      false|\n",
      "| default|     telco_churn_cml|      false|\n",
      "| default|israel_streets_po...|      false|\n",
      "| default|israel_streets_po...|      false|\n",
      "| default|       hive_on_hbase|      false|\n",
      "| default|      hive_on_hbase2|      false|\n",
      "| default|      hive_on_hbase3|      false|\n",
      "| default|             ice_cml|      false|\n",
      "| default|             ice_jan|      false|\n",
      "| default|              newice|      false|\n",
      "| default|        hive_ext_new|      false|\n",
      "+--------+--------------------+-----------+\n",
      "only showing top 20 rows\n",
      "\n"
     ]
    }
   ],
   "source": [
    "spark.sql(\"show tables\").show()"
   ]
  },
  {
   "cell_type": "code",
   "execution_count": 58,
   "metadata": {},
   "outputs": [],
   "source": [
    "#Looks like revol_bal, tax_liens and tot_cur_bal should be numeric. Revol_util should also be numeric but we'll have to remove the % character"
   ]
  },
  {
   "cell_type": "code",
   "execution_count": 59,
   "metadata": {},
   "outputs": [
    {
     "name": "stderr",
     "output_type": "stream",
     "text": [
      "                                                                                \r"
     ]
    }
   ],
   "source": [
    "df.write.format('parquet').mode(\"overwrite\").saveAsTable('default.LC_table')"
   ]
  },
  {
   "cell_type": "code",
   "execution_count": 60,
   "metadata": {},
   "outputs": [],
   "source": [
    "#Running SQL like queries on the dataframe \n",
    "group_by_grade = spark.sql(\"SELECT grade, MEAN(loan_amnt) FROM LC_table WHERE grade IS NOT NULL GROUP BY grade ORDER BY grade\")"
   ]
  },
  {
   "cell_type": "code",
   "execution_count": 61,
   "metadata": {},
   "outputs": [
    {
     "name": "stderr",
     "output_type": "stream",
     "text": [
      "[Stage 85:===========================================>              (3 + 1) / 4]\r"
     ]
    },
    {
     "name": "stdout",
     "output_type": "stream",
     "text": [
      "+-----+------------------+\n",
      "|grade|   mean(loan_amnt)|\n",
      "+-----+------------------+\n",
      "|    A|14787.391473622736|\n",
      "|    B|13889.618175180816|\n",
      "|    C|14931.272774906518|\n",
      "|    D|16286.626784534878|\n",
      "|    E|18836.838394284103|\n",
      "|    F| 20041.36175353814|\n",
      "|    G|19141.924959216965|\n",
      "+-----+------------------+\n",
      "\n"
     ]
    },
    {
     "name": "stderr",
     "output_type": "stream",
     "text": [
      "                                                                                \r"
     ]
    }
   ],
   "source": [
    "group_by_grade.show()"
   ]
  },
  {
   "cell_type": "code",
   "execution_count": 74,
   "metadata": {},
   "outputs": [],
   "source": [
    "#Transforming to pandas\n",
    "group_by_grade_pd = group_by_grade.toPandas()"
   ]
  },
  {
   "cell_type": "code",
   "execution_count": 75,
   "metadata": {},
   "outputs": [],
   "source": [
    "#group_by_grade_pd.set_index('grade', inplace=True)"
   ]
  },
  {
   "cell_type": "code",
   "execution_count": 76,
   "metadata": {},
   "outputs": [],
   "source": [
    "group_by_subgrade = spark.sql(\"SELECT sub_grade, MEAN(loan_amnt), MEAN(annual_inc), SUM(is_default) FROM LC_table GROUP BY sub_grade ORDER BY sub_grade\")"
   ]
  },
  {
   "cell_type": "code",
   "execution_count": 77,
   "metadata": {},
   "outputs": [
    {
     "data": {
      "text/plain": [
       "DataFrame[sub_grade: string, mean(loan_amnt): double, mean(annual_inc): double, sum(is_default): bigint]"
      ]
     },
     "execution_count": 77,
     "metadata": {},
     "output_type": "execute_result"
    }
   ],
   "source": [
    "#cache what you are going to use across queries (and early and often up to available memory)\n",
    "group_by_subgrade.cache()"
   ]
  },
  {
   "cell_type": "code",
   "execution_count": 78,
   "metadata": {},
   "outputs": [
    {
     "name": "stdout",
     "output_type": "stream",
     "text": [
      "+-----+------------------+\n",
      "|grade|   mean(loan_amnt)|\n",
      "+-----+------------------+\n",
      "|    A|14787.391473622736|\n",
      "|    B|13889.618175180816|\n",
      "|    C|14931.272774906518|\n",
      "|    D|16286.626784534878|\n",
      "|    E|18836.838394284103|\n",
      "|    F| 20041.36175353814|\n",
      "|    G|19141.924959216965|\n",
      "+-----+------------------+\n",
      "\n",
      "CPU times: user 1.43 ms, sys: 993 µs, total: 2.42 ms\n",
      "Wall time: 766 ms\n"
     ]
    }
   ],
   "source": [
    "%time group_by_grade.show()"
   ]
  },
  {
   "cell_type": "code",
   "execution_count": 79,
   "metadata": {},
   "outputs": [
    {
     "name": "stdout",
     "output_type": "stream",
     "text": [
      "+---------+------------------+------------------+---------------+\n",
      "|sub_grade|   mean(loan_amnt)|  mean(annual_inc)|sum(is_default)|\n",
      "+---------+------------------+------------------+---------------+\n",
      "|       A1|14589.913343272456|102047.39807677973|             94|\n",
      "|       A2|14237.909272681829| 92546.07359410149|            124|\n",
      "|       A3| 14378.23473797947| 96802.73128579145|            128|\n",
      "|       A4| 15211.09909555643| 92523.66622886354|            235|\n",
      "|       A5|15135.049800796813| 89037.05550730412|            369|\n",
      "|       B1| 13770.15153330139| 84365.41502156205|            517|\n",
      "|       B2|13719.664652209978| 81872.32210925464|            660|\n",
      "|       B3|14623.569812540401| 81235.45872333547|            815|\n",
      "|       B4|13876.381093870365| 77495.68002751183|            918|\n",
      "|       B5|13398.356969906607|  75221.6749360083|            925|\n",
      "|       C1|13940.595518867925|  75162.3178827187|           1237|\n",
      "|       C2|14582.199747879898| 74897.25671097868|           1196|\n",
      "|       C3|15325.487144010147|  75378.1254191168|           1317|\n",
      "|       C4|15603.892300693733| 74085.82725008529|           1451|\n",
      "|       C5|15388.004484304933| 72498.21293953921|           1117|\n",
      "|       D1| 15589.33235240022| 71415.31742688983|           1030|\n",
      "|       D2| 15562.40053050398| 68160.14967446346|            941|\n",
      "|       D3|16131.573096164535| 68046.31659811006|            827|\n",
      "|       D4|17365.966327108094| 71582.17209394455|            851|\n",
      "|       D5|17479.095045500504| 69636.95942703067|            724|\n",
      "+---------+------------------+------------------+---------------+\n",
      "only showing top 20 rows\n",
      "\n",
      "CPU times: user 1.4 ms, sys: 976 µs, total: 2.38 ms\n",
      "Wall time: 108 ms\n"
     ]
    }
   ],
   "source": [
    "%time group_by_subgrade.show()"
   ]
  },
  {
   "cell_type": "code",
   "execution_count": 80,
   "metadata": {},
   "outputs": [
    {
     "data": {
      "text/plain": [
       "DataFrame[sub_grade: string, mean(loan_amnt): double, mean(annual_inc): double, sum(is_default): bigint]"
      ]
     },
     "execution_count": 80,
     "metadata": {},
     "output_type": "execute_result"
    }
   ],
   "source": [
    "#caching should reduce loading time for smaller dataframe -- check \n",
    "group_by_subgrade.cache()"
   ]
  },
  {
   "cell_type": "code",
   "execution_count": 81,
   "metadata": {},
   "outputs": [
    {
     "name": "stdout",
     "output_type": "stream",
     "text": [
      "+---------+------------------+------------------+---------------+\n",
      "|sub_grade|   mean(loan_amnt)|  mean(annual_inc)|sum(is_default)|\n",
      "+---------+------------------+------------------+---------------+\n",
      "|       A1|14589.913343272456|102047.39807677973|             94|\n",
      "|       A2|14237.909272681829| 92546.07359410149|            124|\n",
      "|       A3| 14378.23473797947| 96802.73128579145|            128|\n",
      "|       A4| 15211.09909555643| 92523.66622886354|            235|\n",
      "|       A5|15135.049800796813| 89037.05550730412|            369|\n",
      "|       B1| 13770.15153330139| 84365.41502156205|            517|\n",
      "|       B2|13719.664652209978| 81872.32210925464|            660|\n",
      "|       B3|14623.569812540401| 81235.45872333547|            815|\n",
      "|       B4|13876.381093870365| 77495.68002751183|            918|\n",
      "|       B5|13398.356969906607|  75221.6749360083|            925|\n",
      "|       C1|13940.595518867925|  75162.3178827187|           1237|\n",
      "|       C2|14582.199747879898| 74897.25671097868|           1196|\n",
      "|       C3|15325.487144010147|  75378.1254191168|           1317|\n",
      "|       C4|15603.892300693733| 74085.82725008529|           1451|\n",
      "|       C5|15388.004484304933| 72498.21293953921|           1117|\n",
      "|       D1| 15589.33235240022| 71415.31742688983|           1030|\n",
      "|       D2| 15562.40053050398| 68160.14967446346|            941|\n",
      "|       D3|16131.573096164535| 68046.31659811006|            827|\n",
      "|       D4|17365.966327108094| 71582.17209394455|            851|\n",
      "|       D5|17479.095045500504| 69636.95942703067|            724|\n",
      "+---------+------------------+------------------+---------------+\n",
      "only showing top 20 rows\n",
      "\n",
      "CPU times: user 1.16 ms, sys: 807 µs, total: 1.97 ms\n",
      "Wall time: 107 ms\n"
     ]
    }
   ],
   "source": [
    "%time group_by_subgrade.show()"
   ]
  },
  {
   "cell_type": "code",
   "execution_count": 82,
   "metadata": {},
   "outputs": [],
   "source": [
    "group_by_subgrade_pd = group_by_subgrade.toPandas()"
   ]
  },
  {
   "cell_type": "code",
   "execution_count": 83,
   "metadata": {},
   "outputs": [],
   "source": [
    "#group_by_subgrade_pd = group_by_subgrade_pd.rename(columns={'avg(CAST(funded_amnt AS DOUBLE))':'avg(funded_amnt)'})"
   ]
  },
  {
   "cell_type": "code",
   "execution_count": 84,
   "metadata": {},
   "outputs": [
    {
     "data": {
      "image/png": "[encoded data removed]",
      "text/plain": [
       "<Figure size 288x144 with 1 Axes>"
      ]
     },
     "metadata": {
      "needs_background": "light"
     },
     "output_type": "display_data"
    }
   ],
   "source": [
    "group_by_grade_pd.plot(kind='bar', figsize=(4,2))\n",
    "plt.title('Avg Loan Amount by Grade')\n",
    "plt.gca().legend_.remove()\n",
    "plt.show()\n",
    "#adjust styling here"
   ]
  },
  {
   "cell_type": "code",
   "execution_count": 87,
   "metadata": {},
   "outputs": [
    {
     "data": {
      "text/plain": [
       "DataFrame[sub_grade: string, mean(loan_amnt): double, mean(annual_inc): double, sum(is_default): bigint]"
      ]
     },
     "execution_count": 87,
     "metadata": {},
     "output_type": "execute_result"
    }
   ],
   "source": [
    "#removing from cache\n",
    "group_by_grade.unpersist()\n",
    "group_by_subgrade.unpersist()"
   ]
  },
  {
   "cell_type": "markdown",
   "metadata": {},
   "source": [
    "Data Quality Checks"
   ]
  },
  {
   "cell_type": "code",
   "execution_count": 88,
   "metadata": {},
   "outputs": [],
   "source": [
    "#Check dataframe columnns\n",
    "#df_new.columns"
   ]
  },
  {
   "cell_type": "markdown",
   "metadata": {},
   "source": [
    "Checking that correct data types were inferred"
   ]
  },
  {
   "cell_type": "code",
   "execution_count": 89,
   "metadata": {},
   "outputs": [
    {
     "name": "stdout",
     "output_type": "stream",
     "text": [
      "+---------+----------+---------+-----------+--------+----------+\n",
      "|revol_bal|revol_util|tax_liens|tot_cur_bal|int_rate|emp_length|\n",
      "+---------+----------+---------+-----------+--------+----------+\n",
      "|     9786|     13.4%|        0|     181540|   9.80%| 10+ years|\n",
      "|    19339|     42.5%|        0|     430856|   5.32%|    1 year|\n",
      "|    43413|     51.9%|        0|     193745|  18.49%| 10+ years|\n",
      "|    21831|     50.3%|        0|     408118|  15.77%|   2 years|\n",
      "|    12900|    102.4%|        0|     133285|  19.89%|  < 1 year|\n",
      "|    28475|     51.8%|        0|      42952|  10.78%|   8 years|\n",
      "|     7179|     39.7%|        0|      10353|  16.59%|   5 years|\n",
      "|    20862|     54.3%|        0|     305781|   7.49%| 10+ years|\n",
      "|    31200|       42%|        0|      34856|  13.99%| 10+ years|\n",
      "|    11008|     41.4%|        0|      31915|  10.78%|   3 years|\n",
      "|    28705|     56.3%|        0|     265836|  12.88%|    1 year|\n",
      "|    51507|     64.5%|        0|     221110|   6.49%| 10+ years|\n",
      "|      732|     31.1%|        0|     197169|  17.27%| 10+ years|\n",
      "|     2765|     29.7%|        0|     144904|  13.99%| 10+ years|\n",
      "|    10711|     15.5%|        0|     205067|  11.99%| 10+ years|\n",
      "|    28220|     91.3%|        0|     525195|  17.27%| 10+ years|\n",
      "|    37828|     67.2%|        0|     325695|  12.88%|   3 years|\n",
      "|     9488|     20.1%|        0|      32193|   6.49%| 10+ years|\n",
      "|     7302|     32.6%|        0|       7302|  17.27%|   9 years|\n",
      "|    19108|     29.6%|        2|      31329|  14.85%| 10+ years|\n",
      "+---------+----------+---------+-----------+--------+----------+\n",
      "only showing top 20 rows\n",
      "\n"
     ]
    }
   ],
   "source": [
    "#The following attributes are strings but they potentially should be numeric. Let's take a look at a sample.\n",
    "df.select('revol_bal', 'revol_util', 'tax_liens', 'tot_cur_bal', 'int_rate', 'emp_length').show()"
   ]
  },
  {
   "cell_type": "code",
   "execution_count": 90,
   "metadata": {},
   "outputs": [],
   "source": [
    "#Removing the % character from revol_util\n",
    "df = df.withColumn(\"revol_util\", F.expr(\"substring(revol_util, 1, length(revol_util)-1)\"))"
   ]
  },
  {
   "cell_type": "code",
   "execution_count": 91,
   "metadata": {},
   "outputs": [],
   "source": [
    "#Removing the % character from revol_util\n",
    "df = df.withColumn(\"int_rate\", F.expr(\"substring(int_rate, 1, length(revol_util)-1)\"))"
   ]
  },
  {
   "cell_type": "code",
   "execution_count": 92,
   "metadata": {},
   "outputs": [],
   "source": [
    "#Notice that we are not casting emp_length to numeric as the time periods it represents are different - it will have to be one hot encoded\n",
    "integer = [\"revol_bal\", \"tax_liens\", \"tot_cur_bal\", \"funded_amnt\"]"
   ]
  },
  {
   "cell_type": "code",
   "execution_count": 93,
   "metadata": {},
   "outputs": [],
   "source": [
    "for c in integer:\n",
    "    df = df.withColumn(c, df[c].cast(\"int\"))"
   ]
  },
  {
   "cell_type": "code",
   "execution_count": 94,
   "metadata": {},
   "outputs": [],
   "source": [
    "#Updating revol_util to double:\n",
    "df = df.withColumn('revol_util', F.col('revol_util').cast('double'))"
   ]
  },
  {
   "cell_type": "code",
   "execution_count": 95,
   "metadata": {},
   "outputs": [],
   "source": [
    "#Updating int_rate to double:\n",
    "df = df.withColumn('int_rate', F.col('int_rate').cast('double'))"
   ]
  },
  {
   "cell_type": "code",
   "execution_count": 96,
   "metadata": {},
   "outputs": [],
   "source": [
    "for c in integer:\n",
    "    df = df.withColumn(c, F.col(c).cast('int'))"
   ]
  },
  {
   "cell_type": "code",
   "execution_count": 97,
   "metadata": {},
   "outputs": [
    {
     "name": "stderr",
     "output_type": "stream",
     "text": [
      "                                                                                \r"
     ]
    }
   ],
   "source": [
    "df.write.format('parquet').mode(\"overwrite\").saveAsTable('default.LC_table')"
   ]
  },
  {
   "cell_type": "code",
   "execution_count": 98,
   "metadata": {},
   "outputs": [],
   "source": [
    "##Registering the dataframe as a temporary table:\n",
    "#Temporary views in Spark SQL are session-scoped and will disappear if the session that creates it terminates. \n",
    "#If you want to have a temporary view that is shared among all sessions and keep alive until the Spark application terminates, \n",
    "#you can create a global temporary view\n",
    "\n",
    "df.createOrReplaceTempView(\"LC_Glob_Temp_View\")"
   ]
  },
  {
   "cell_type": "code",
   "execution_count": 99,
   "metadata": {},
   "outputs": [
    {
     "name": "stdout",
     "output_type": "stream",
     "text": [
      "+--------+--------------------+-----------+\n",
      "|database|           tableName|isTemporary|\n",
      "+--------+--------------------+-----------+\n",
      "| default|         telco_churn|      false|\n",
      "| default|             cc_data|      false|\n",
      "| default|            employee|      false|\n",
      "| default|     winequality_red|      false|\n",
      "| default|simpsons_spark_table|      false|\n",
      "| default|         afinn_table|      false|\n",
      "| default|             circles|      false|\n",
      "| default|     lc_model_scores|      false|\n",
      "| default|          pysparktab|      false|\n",
      "| default|zapatero_churn_pr...|      false|\n",
      "| default|     telco_churn_cml|      false|\n",
      "| default|israel_streets_po...|      false|\n",
      "| default|israel_streets_po...|      false|\n",
      "| default|       hive_on_hbase|      false|\n",
      "| default|      hive_on_hbase2|      false|\n",
      "| default|      hive_on_hbase3|      false|\n",
      "| default|             ice_cml|      false|\n",
      "| default|             ice_jan|      false|\n",
      "| default|              newice|      false|\n",
      "| default|        hive_ext_new|      false|\n",
      "+--------+--------------------+-----------+\n",
      "only showing top 20 rows\n",
      "\n"
     ]
    }
   ],
   "source": [
    "spark.sql(\"show tables\").show()"
   ]
  },
  {
   "cell_type": "code",
   "execution_count": 100,
   "metadata": {},
   "outputs": [],
   "source": [
    "spark.catalog.dropTempView(\"LC_Glob_Temp_View\")"
   ]
  },
  {
   "cell_type": "code",
   "execution_count": 101,
   "metadata": {},
   "outputs": [
    {
     "name": "stdout",
     "output_type": "stream",
     "text": [
      "+--------+--------------------+-----------+\n",
      "|database|           tableName|isTemporary|\n",
      "+--------+--------------------+-----------+\n",
      "| default|         telco_churn|      false|\n",
      "| default|             cc_data|      false|\n",
      "| default|            employee|      false|\n",
      "| default|     winequality_red|      false|\n",
      "| default|simpsons_spark_table|      false|\n",
      "| default|         afinn_table|      false|\n",
      "| default|             circles|      false|\n",
      "| default|     lc_model_scores|      false|\n",
      "| default|          pysparktab|      false|\n",
      "| default|zapatero_churn_pr...|      false|\n",
      "| default|     telco_churn_cml|      false|\n",
      "| default|israel_streets_po...|      false|\n",
      "| default|israel_streets_po...|      false|\n",
      "| default|       hive_on_hbase|      false|\n",
      "| default|      hive_on_hbase2|      false|\n",
      "| default|      hive_on_hbase3|      false|\n",
      "| default|             ice_cml|      false|\n",
      "| default|             ice_jan|      false|\n",
      "| default|              newice|      false|\n",
      "| default|        hive_ext_new|      false|\n",
      "+--------+--------------------+-----------+\n",
      "only showing top 20 rows\n",
      "\n"
     ]
    }
   ],
   "source": [
    "spark.sql(\"show tables\").show()"
   ]
  },
  {
   "cell_type": "code",
   "execution_count": 102,
   "metadata": {},
   "outputs": [],
   "source": [
    "#spark.catalog.dropGlobalTempView(\"LC_Loans_2015_GlobalTempView\")"
   ]
  },
  {
   "cell_type": "code",
   "execution_count": 103,
   "metadata": {},
   "outputs": [
    {
     "data": {
      "text/plain": [
       "DataFrame[acc_now_delinq: int, acc_open_past_24mths: int, addr_state: string, annual_inc: double, application_type: string, avg_cur_bal: int, chargeoff_within_12_mths: int, collections_12_mths_ex_med: int, delinq_2yrs: int, delinq_amnt: int, dti: double, earliest_cr_line: string, emp_length: string, funded_amnt: int, funded_amnt_inv: double, grade: string, home_ownership: string, initial_list_status: string, inq_last_6mths: int, installment: double, int_rate: double, issue_d: string, loan_amnt: int, loan_status: string, mo_sin_old_rev_tl_op: int, mo_sin_rcnt_rev_tl_op: int, mo_sin_rcnt_tl: int, mort_acc: int, num_accts_ever_120_pd: int, num_actv_bc_tl: int, num_actv_rev_tl: int, num_bc_sats: int, num_bc_tl: int, num_il_tl: int, num_op_rev_tl: int, num_rev_accts: int, num_rev_tl_bal_gt_0: int, num_sats: int, num_tl_30dpd: int, num_tl_90g_dpd_24m: int, num_tl_op_past_12m: int, open_acc: int, pct_tl_nvr_dlq: double, policy_code: int, pub_rec: int, pub_rec_bankruptcies: int, purpose: string, revol_bal: int, revol_util: double, sub_grade: string, tax_liens: int, term: string, title: string, tot_cur_bal: int, tot_hi_cred_lim: int, total_acc: int, total_bal_ex_mort: int, total_bc_limit: int, total_il_high_credit_limit: int, total_rev_hi_lim: int, verification_status: string, zip_code: string, is_default: int, issue_month: string]"
      ]
     },
     "execution_count": 103,
     "metadata": {},
     "output_type": "execute_result"
    }
   ],
   "source": [
    "spark.sql(\"SELECT * FROM default.LC_table\")"
   ]
  },
  {
   "cell_type": "code",
   "execution_count": 104,
   "metadata": {},
   "outputs": [],
   "source": [
    "spark.stop()"
   ]
  }
 ],
 "metadata": {
  "kernelspec": {
   "display_name": "Python 3 (ipykernel)",
   "language": "python",
   "name": "python3"
  },
  "language_info": {
   "codemirror_mode": {
    "name": "ipython",
    "version": 3
   },
   "file_extension": ".py",
   "mimetype": "text/x-python",
   "name": "python",
   "nbconvert_exporter": "python",
   "pygments_lexer": "ipython3",
   "version": "3.7.13"
  }
 },
 "nbformat": 4,
 "nbformat_minor": 4
}
