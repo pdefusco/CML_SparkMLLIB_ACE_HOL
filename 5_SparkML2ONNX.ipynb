{
 "cells": [
  {
   "cell_type": "markdown",
   "id": "58fcb330-b956-4e6e-9c3e-b7934373d0cc",
   "metadata": {},
   "source": [
    "# Convert a SparkML Model to ONNX Format for API Serving"
   ]
  },
  {
   "cell_type": "markdown",
   "id": "713ffbc1-403f-4ab8-9a84-93f89ea047e0",
   "metadata": {},
   "source": [
    "#### Spark ML Models don't naturally fit the API serving use case because they require a Spark Session which is heavyweight and a bit clunky"
   ]
  },
  {
   "cell_type": "markdown",
   "id": "b6777f25-67be-467f-af24-fce550be2659",
   "metadata": {},
   "source": [
    "#### As an alternative, you can convert your SparkML Model to ONNX format and then host that in a REST Endpoint."
   ]
  },
  {
   "cell_type": "markdown",
   "id": "3075c900-6f64-4625-9723-8ed09a03e43b",
   "metadata": {},
   "source": [
    "#### ONNX Models are serialized, portable, and don't require a Spark Session."
   ]
  },
  {
   "cell_type": "code",
   "execution_count": 1,
   "id": "63c04470-8884-4957-9f78-2c52e6b19bc2",
   "metadata": {},
   "outputs": [],
   "source": [
    "from pyspark.sql import SparkSession\n",
    "from pyspark.sql import functions as F\n",
    "from pyspark.ml import PipelineModel"
   ]
  },
  {
   "cell_type": "code",
   "execution_count": 2,
   "id": "c2f0af04-6f36-4213-bcc9-c25b68a90d54",
   "metadata": {},
   "outputs": [],
   "source": [
    "import random, os\n",
    "import numpy as np"
   ]
  },
  {
   "cell_type": "code",
   "execution_count": 3,
   "id": "dc527bc5-e937-4833-bb43-d0aae3a5c136",
   "metadata": {},
   "outputs": [],
   "source": [
    "import onnxruntime\n",
    "import onnxmltools\n",
    "import onnx"
   ]
  },
  {
   "cell_type": "code",
   "execution_count": 4,
   "id": "85a91f07-c7a3-4b13-b02f-bc971b34539f",
   "metadata": {},
   "outputs": [],
   "source": [
    "from onnxmltools.convert.common.data_types import FloatTensorType\n",
    "from onnxmltools.convert.sparkml.utils import buildInitialTypesSimple"
   ]
  },
  {
   "cell_type": "markdown",
   "id": "0f01025c-7028-4e88-810b-005cc764103d",
   "metadata": {},
   "source": [
    "## Import the Spark ML Model"
   ]
  },
  {
   "cell_type": "code",
   "execution_count": 5,
   "id": "12e17e50-e0d8-417c-9cc1-49b68b72226e",
   "metadata": {},
   "outputs": [
    {
     "name": "stderr",
     "output_type": "stream",
     "text": [
      "Setting spark.hadoop.yarn.resourcemanager.principal to pauldefusco\n"
     ]
    }
   ],
   "source": [
    "spark = SparkSession\\\n",
    "    .builder\\\n",
    "    .appName(\"ONNX_Model\")\\\n",
    "    .config(\"spark.hadoop.fs.s3a.s3guard.ddb.region\",\"us-east-2\")\\\n",
    "    .config(\"spark.yarn.access.hadoopFileSystems\",os.environ[\"STORAGE\"])\\\n",
    "    .getOrCreate()"
   ]
  },
  {
   "cell_type": "code",
   "execution_count": 6,
   "id": "2855503a-8d3a-4b3a-ab71-092856a8d943",
   "metadata": {},
   "outputs": [
    {
     "name": "stderr",
     "output_type": "stream",
     "text": [
      "Hive Session ID = 840020aa-a80a-4042-a17e-75d4e18aea95\n"
     ]
    }
   ],
   "source": [
    "df = spark.sql(\"SELECT * FROM default.lc_smote_subset LIMIT 1\")"
   ]
  },
  {
   "cell_type": "code",
   "execution_count": 7,
   "id": "adb099b2-ce3e-4f14-adba-1a2a3f51b778",
   "metadata": {},
   "outputs": [],
   "source": [
    "def load_pipeline():\n",
    "    modelPipeline = PipelineModel.load(os.environ[\"STORAGE\"]+\"/pdefusco/pipeline\")\n",
    "    return modelPipeline"
   ]
  },
  {
   "cell_type": "code",
   "execution_count": 8,
   "id": "3ae837f7-33b9-4b73-9ccc-6d3a83ceaf29",
   "metadata": {},
   "outputs": [],
   "source": [
    "def transform_pipeline(spark_df, pmodel):        \n",
    "     \n",
    "    cols = ['acc_now_delinq', 'acc_open_past_24mths', 'annual_inc', 'avg_cur_bal', 'funded_amnt']\n",
    "        \n",
    "    spark_df = spark_df.select(*cols)\n",
    "    \n",
    "    for c in spark_df.columns:\n",
    "        spark_df = spark_df.withColumn(c, spark_df[c].cast(\"float\"))\n",
    "        \n",
    "    return pmodel.transform(spark_df)"
   ]
  },
  {
   "cell_type": "code",
   "execution_count": 9,
   "id": "304c6d4d-b03a-4133-8961-2c0081440ffa",
   "metadata": {},
   "outputs": [
    {
     "name": "stderr",
     "output_type": "stream",
     "text": [
      "                                                                                \r"
     ]
    }
   ],
   "source": [
    "modelPipeline = load_pipeline()"
   ]
  },
  {
   "cell_type": "code",
   "execution_count": 10,
   "id": "998d9791-25d0-4493-b99e-51e44edb7744",
   "metadata": {},
   "outputs": [],
   "source": [
    "sample_df = transform_pipeline(df, modelPipeline)"
   ]
  },
  {
   "cell_type": "code",
   "execution_count": 11,
   "id": "9d54d67b-4d71-41f0-9b51-38d30fbb6124",
   "metadata": {},
   "outputs": [],
   "source": [
    "sample_df = sample_df.select(['acc_now_delinq', 'acc_open_past_24mths', 'annual_inc', 'avg_cur_bal', 'funded_amnt'])"
   ]
  },
  {
   "cell_type": "markdown",
   "id": "ab4bfdc9-2d71-4422-9aa9-0d04508dd51b",
   "metadata": {},
   "source": [
    "## Convert the Model"
   ]
  },
  {
   "cell_type": "code",
   "execution_count": 12,
   "id": "e2739934-58a4-4900-91b1-dbea8b69b9d3",
   "metadata": {},
   "outputs": [],
   "source": [
    "initial_types = onnxmltools.convert.sparkml.buildInitialTypesSimple(sample_df)"
   ]
  },
  {
   "cell_type": "code",
   "execution_count": 13,
   "id": "aabce8b6-1645-45c9-b29f-3c05a3a6bae8",
   "metadata": {},
   "outputs": [
    {
     "data": {
      "text/plain": [
       "[('acc_now_delinq', FloatTensorType(shape=[1, 1])),\n",
       " ('acc_open_past_24mths', FloatTensorType(shape=[1, 1])),\n",
       " ('annual_inc', FloatTensorType(shape=[1, 1])),\n",
       " ('avg_cur_bal', FloatTensorType(shape=[1, 1])),\n",
       " ('funded_amnt', FloatTensorType(shape=[1, 1]))]"
      ]
     },
     "execution_count": 13,
     "metadata": {},
     "output_type": "execute_result"
    }
   ],
   "source": [
    "initial_types"
   ]
  },
  {
   "cell_type": "code",
   "execution_count": 14,
   "id": "9d59ce31-63b5-43c0-b9c2-e87540a5d042",
   "metadata": {},
   "outputs": [
    {
     "name": "stderr",
     "output_type": "stream",
     "text": [
      "The maximum opset needed by this model is only 8.\n"
     ]
    },
    {
     "name": "stdout",
     "output_type": "stream",
     "text": [
      "{'classlabels_ints': [0, 1],\n",
      " 'coefficients': [0.14303786136899024,\n",
      "                  -0.27123271556878475,\n",
      "                  3.742220431494416,\n",
      "                  1.8575953342840612,\n",
      "                  0.30977227348174174,\n",
      "                  -0.14303786136899024,\n",
      "                  0.27123271556878475,\n",
      "                  -3.742220431494416,\n",
      "                  -1.8575953342840612,\n",
      "                  -0.30977227348174174],\n",
      " 'intercepts': [-1.4336914041825082, 1.4336914041825082],\n",
      " 'multi_class': 1,\n",
      " 'name': 'LinearClassifier',\n",
      " 'post_transform': 'NONE'}\n"
     ]
    }
   ],
   "source": [
    "onnx_model = onnxmltools.convert.convert_sparkml(modelPipeline, 'My Sparkml Pipeline', initial_types)"
   ]
  },
  {
   "cell_type": "code",
   "execution_count": 15,
   "id": "c4d6b044-71f9-4843-926d-056d8cebf741",
   "metadata": {},
   "outputs": [],
   "source": [
    "with open(\"models/model.onnx\", \"wb\") as f:\n",
    "    f.write(onnx_model.SerializeToString())"
   ]
  },
  {
   "cell_type": "code",
   "execution_count": 16,
   "id": "dc9612c9-1838-4f30-803a-ba59b13e7697",
   "metadata": {},
   "outputs": [],
   "source": [
    "spark.stop()"
   ]
  },
  {
   "cell_type": "code",
   "execution_count": null,
   "id": "ce25df3f-00a9-4fdf-9305-69756ddb3235",
   "metadata": {},
   "outputs": [],
   "source": []
  }
 ],
 "metadata": {
  "kernelspec": {
   "display_name": "Python 3 (ipykernel)",
   "language": "python",
   "name": "python3"
  },
  "language_info": {
   "codemirror_mode": {
    "name": "ipython",
    "version": 3
   },
   "file_extension": ".py",
   "mimetype": "text/x-python",
   "name": "python",
   "nbconvert_exporter": "python",
   "pygments_lexer": "ipython3",
   "version": "3.7.13"
  }
 },
 "nbformat": 4,
 "nbformat_minor": 5
}
