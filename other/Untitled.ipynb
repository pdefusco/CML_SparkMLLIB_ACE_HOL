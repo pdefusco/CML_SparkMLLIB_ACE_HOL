{
 "cells": [
  {
   "cell_type": "code",
   "execution_count": 1,
   "id": "00361a1a-0168-4b07-89f1-0d20617b4e22",
   "metadata": {},
   "outputs": [],
   "source": [
    "import json, shutil, os\n",
    "import onnxruntime\n",
    "import pandas as pd\n",
    "import numpy as np\n",
    "from inference_schema.schema_decorators import input_schema, output_schema\n",
    "from inference_schema.parameter_types.numpy_parameter_type import NumpyParameterType\n",
    "from inference_schema.parameter_types.pandas_parameter_type import PandasParameterType\n",
    "import random, os\n",
    "import numpy as np\n",
    "from pyspark.sql import Row\n",
    "from sklearn import neighbors\n",
    "from pyspark.ml.feature import VectorAssembler\n",
    "from pyspark.mllib.stat import Statistics\n",
    "from pyspark.ml import PipelineModel\n",
    "from pyspark.sql import SparkSession\n",
    "\n",
    "from pyspark.ml.evaluation import BinaryClassificationEvaluator\n",
    "from pyspark.ml.classification import LogisticRegression, RandomForestClassifier, GBTClassifier\n",
    "from pyspark.ml.tuning import ParamGridBuilder, TrainValidationSplit\n",
    "from pyspark.ml.feature import StringIndexer, VectorAssembler, StandardScaler\n",
    "from pyspark.ml import Pipeline\n",
    "from pyspark.mllib.stat import Statistics\n",
    "from pyspark.ml.linalg import DenseVector\n",
    "from pyspark.sql import functions as F\n",
    "\n",
    "\n",
    "input_sample = pd.DataFrame(data={\n",
    "    \"SensorCH1\": [-.1],\n",
    "    \"SensorCH2\": [.1],\n",
    "    \"SensorCH3\": [.1],\n",
    "    \"SensorCH4\": [.1],\n",
    "    \"SensorCH5\": [5.1],\n",
    "})\n",
    "\n",
    "output_sample = np.array([0.1])"
   ]
  },
  {
   "cell_type": "code",
   "execution_count": 2,
   "id": "3cf7dad4-0057-4bfd-a9e0-3863399afd16",
   "metadata": {},
   "outputs": [
    {
     "data": {
      "text/plain": [
       "array([0.1])"
      ]
     },
     "execution_count": 2,
     "metadata": {},
     "output_type": "execute_result"
    }
   ],
   "source": [
    "output_sample"
   ]
  },
  {
   "cell_type": "code",
   "execution_count": 3,
   "id": "25f76d09-8744-42fc-bab2-223e02954a55",
   "metadata": {},
   "outputs": [],
   "source": [
    "import onnxruntime\n",
    "import onnxmltools\n",
    "import onnx"
   ]
  },
  {
   "cell_type": "code",
   "execution_count": 4,
   "id": "5c81e879-510d-4277-bfed-5d90ec8c7730",
   "metadata": {},
   "outputs": [
    {
     "name": "stderr",
     "output_type": "stream",
     "text": [
      "Setting spark.hadoop.yarn.resourcemanager.principal to pauldefusco\n"
     ]
    }
   ],
   "source": [
    "spark = SparkSession\\\n",
    "    .builder\\\n",
    "    .appName(\"ONNX_Model\")\\\n",
    "    .config(\"spark.hadoop.fs.s3a.s3guard.ddb.region\",\"us-east-2\")\\\n",
    "    .config(\"spark.yarn.access.hadoopFileSystems\",os.environ[\"STORAGE\"])\\\n",
    "    .getOrCreate()"
   ]
  },
  {
   "cell_type": "code",
   "execution_count": 8,
   "id": "5487c0bc-35b1-411a-bde6-6e0b5b47dd20",
   "metadata": {},
   "outputs": [],
   "source": [
    "def load_pipeline():\n",
    "    modelPipeline = PipelineModel.load(os.environ[\"STORAGE\"]+\"/pdefusco/pipeline\")\n",
    "    return modelPipeline"
   ]
  },
  {
   "cell_type": "code",
   "execution_count": 9,
   "id": "d133e218-db71-49aa-9743-60d2778e1f1c",
   "metadata": {},
   "outputs": [],
   "source": [
    "modelPipeline = load_pipeline()"
   ]
  },
  {
   "cell_type": "code",
   "execution_count": 10,
   "id": "4f2c0dc7-c596-4f93-a5aa-be140421797d",
   "metadata": {},
   "outputs": [
    {
     "name": "stderr",
     "output_type": "stream",
     "text": [
      "Hive Session ID = 6fa36075-f1a1-4ced-94f5-ca0ce7febb47\n"
     ]
    }
   ],
   "source": [
    "df = spark.sql(\"SELECT * FROM default.lc_smote_subset LIMIT 1\")"
   ]
  },
  {
   "cell_type": "code",
   "execution_count": 14,
   "id": "0fb7ed1c-bc25-4bee-b647-b2bede7b02c9",
   "metadata": {},
   "outputs": [
    {
     "name": "stderr",
     "output_type": "stream",
     "text": [
      "                                                                                \r"
     ]
    }
   ],
   "source": [
    "df = df.select(['acc_now_delinq', 'acc_open_past_24mths', 'annual_inc', 'avg_cur_bal', 'funded_amnt'])\n",
    "input_sample_pd_df = df.toPandas()"
   ]
  },
  {
   "cell_type": "code",
   "execution_count": 22,
   "id": "44ee9407-17d7-4c39-ac42-6e99ce440f21",
   "metadata": {},
   "outputs": [
    {
     "data": {
      "text/plain": [
       "acc_now_delinq         -0.071031\n",
       "acc_open_past_24mths    0.895469\n",
       "annual_inc             -0.084037\n",
       "avg_cur_bal            -0.192086\n",
       "funded_amnt            -0.402238\n",
       "Name: 0, dtype: float64"
      ]
     },
     "execution_count": 22,
     "metadata": {},
     "output_type": "execute_result"
    }
   ],
   "source": [
    "input_sample_pd_df.iloc[0]"
   ]
  },
  {
   "cell_type": "code",
   "execution_count": 25,
   "id": "acdfb6aa-43ad-4d28-9d98-efaeeaed449a",
   "metadata": {},
   "outputs": [
    {
     "name": "stderr",
     "output_type": "stream",
     "text": [
      "[Stage 19:>                                                         (0 + 1) / 1]\r"
     ]
    },
    {
     "name": "stdout",
     "output_type": "stream",
     "text": [
      "+----------+\n",
      "|prediction|\n",
      "+----------+\n",
      "|       0.0|\n",
      "+----------+\n",
      "\n"
     ]
    },
    {
     "name": "stderr",
     "output_type": "stream",
     "text": [
      "                                                                                \r"
     ]
    }
   ],
   "source": [
    "modelPipeline.transform(df).select(\"prediction\").show()"
   ]
  },
  {
   "cell_type": "code",
   "execution_count": 16,
   "id": "14d96d30-fac9-493d-9c7e-ca31a834235a",
   "metadata": {},
   "outputs": [],
   "source": [
    "model_path = onnx.load(\"model.onnx\").SerializeToString()\n",
    "\n",
    "so = onnxruntime.SessionOptions()\n",
    "so.add_session_config_entry('model.onnx', 'ONNX')\n",
    "\n",
    "session = onnxruntime.InferenceSession(model_path)\n",
    "output = session.get_outputs()[0] \n",
    "inputs = session.get_inputs()"
   ]
  },
  {
   "cell_type": "code",
   "execution_count": 34,
   "id": "1bf86e34-2a01-4d2b-877f-df9e9a4f15f7",
   "metadata": {},
   "outputs": [],
   "source": [
    "data = {\n",
    "  \"acc_now_delinq\": \"4\",\n",
    "  \"acc_open_past_24mths\": \"329.08\",\n",
    "  \"annual_inc\": \"1\",\n",
    "  \"avg_cur_bal\": \"1\",\n",
    "  \"funded_amnt\": \"1\"\n",
    "}"
   ]
  },
  {
   "cell_type": "code",
   "execution_count": 37,
   "id": "461d6c09-9c0d-436c-b63b-6d1de0b3d377",
   "metadata": {},
   "outputs": [
    {
     "data": {
      "text/html": [
       "<div>\n",
       "<style scoped>\n",
       "    .dataframe tbody tr th:only-of-type {\n",
       "        vertical-align: middle;\n",
       "    }\n",
       "\n",
       "    .dataframe tbody tr th {\n",
       "        vertical-align: top;\n",
       "    }\n",
       "\n",
       "    .dataframe thead th {\n",
       "        text-align: right;\n",
       "    }\n",
       "</style>\n",
       "<table border=\"1\" class=\"dataframe\">\n",
       "  <thead>\n",
       "    <tr style=\"text-align: right;\">\n",
       "      <th></th>\n",
       "      <th>acc_now_delinq</th>\n",
       "      <th>acc_open_past_24mths</th>\n",
       "      <th>annual_inc</th>\n",
       "      <th>avg_cur_bal</th>\n",
       "      <th>funded_amnt</th>\n",
       "    </tr>\n",
       "  </thead>\n",
       "  <tbody>\n",
       "    <tr>\n",
       "      <th>0</th>\n",
       "      <td>4</td>\n",
       "      <td>329.08</td>\n",
       "      <td>1</td>\n",
       "      <td>1</td>\n",
       "      <td>1</td>\n",
       "    </tr>\n",
       "  </tbody>\n",
       "</table>\n",
       "</div>"
      ],
      "text/plain": [
       "  acc_now_delinq acc_open_past_24mths annual_inc avg_cur_bal funded_amnt\n",
       "0              4               329.08          1           1           1"
      ]
     },
     "execution_count": 37,
     "metadata": {},
     "output_type": "execute_result"
    }
   ],
   "source": [
    "df = pd.DataFrame(data, index=[0])\n",
    "df"
   ]
  },
  {
   "cell_type": "code",
   "execution_count": 38,
   "id": "73a2b0cc-8d4f-4dd2-b394-67ab5d3b0fdf",
   "metadata": {},
   "outputs": [],
   "source": [
    "df = pd.DataFrame(data, index=[0])\n",
    "\n",
    "df.columns = ['acc_now_delinq', 'acc_open_past_24mths', 'annual_inc', 'avg_cur_bal', 'funded_amnt']\n",
    "\n",
    "df['acc_now_delinq'] = df['acc_now_delinq'].astype(float)\n",
    "df['acc_open_past_24mths'] = df['acc_open_past_24mths'].astype(float)\n",
    "df['annual_inc'] = df['annual_inc'].astype(float)\n",
    "df['avg_cur_bal'] = df['avg_cur_bal'].astype(float)\n",
    "df['funded_amnt'] = df['funded_amnt'].astype(float)"
   ]
  },
  {
   "cell_type": "code",
   "execution_count": 39,
   "id": "94f3744d-a884-4268-b545-2c45fbe29596",
   "metadata": {},
   "outputs": [
    {
     "data": {
      "text/html": [
       "<div>\n",
       "<style scoped>\n",
       "    .dataframe tbody tr th:only-of-type {\n",
       "        vertical-align: middle;\n",
       "    }\n",
       "\n",
       "    .dataframe tbody tr th {\n",
       "        vertical-align: top;\n",
       "    }\n",
       "\n",
       "    .dataframe thead th {\n",
       "        text-align: right;\n",
       "    }\n",
       "</style>\n",
       "<table border=\"1\" class=\"dataframe\">\n",
       "  <thead>\n",
       "    <tr style=\"text-align: right;\">\n",
       "      <th></th>\n",
       "      <th>acc_now_delinq</th>\n",
       "      <th>acc_open_past_24mths</th>\n",
       "      <th>annual_inc</th>\n",
       "      <th>avg_cur_bal</th>\n",
       "      <th>funded_amnt</th>\n",
       "    </tr>\n",
       "  </thead>\n",
       "  <tbody>\n",
       "    <tr>\n",
       "      <th>0</th>\n",
       "      <td>4.0</td>\n",
       "      <td>329.08</td>\n",
       "      <td>1.0</td>\n",
       "      <td>1.0</td>\n",
       "      <td>1.0</td>\n",
       "    </tr>\n",
       "  </tbody>\n",
       "</table>\n",
       "</div>"
      ],
      "text/plain": [
       "   acc_now_delinq  acc_open_past_24mths  annual_inc  avg_cur_bal  funded_amnt\n",
       "0             4.0                329.08         1.0          1.0          1.0"
      ]
     },
     "execution_count": 39,
     "metadata": {},
     "output_type": "execute_result"
    }
   ],
   "source": [
    "df"
   ]
  },
  {
   "cell_type": "code",
   "execution_count": 40,
   "id": "08a2cc2e-ba5a-4821-857e-7ce3b25d2f34",
   "metadata": {},
   "outputs": [],
   "source": [
    "input_data= {i.name: v for i, v in zip(inputs, df.values.reshape(len(inputs),1,1).astype(np.float32))}"
   ]
  },
  {
   "cell_type": "code",
   "execution_count": 41,
   "id": "f10d9b89-ec18-4666-ade5-12635ea2d070",
   "metadata": {},
   "outputs": [
    {
     "data": {
      "text/plain": [
       "{'acc_now_delinq': array([[4.]], dtype=float32),\n",
       " 'acc_open_past_24mths': array([[329.08]], dtype=float32),\n",
       " 'annual_inc': array([[1.]], dtype=float32),\n",
       " 'avg_cur_bal': array([[1.]], dtype=float32),\n",
       " 'funded_amnt': array([[1.]], dtype=float32)}"
      ]
     },
     "execution_count": 41,
     "metadata": {},
     "output_type": "execute_result"
    }
   ],
   "source": [
    "input_data"
   ]
  },
  {
   "cell_type": "code",
   "execution_count": null,
   "id": "fb4b5218-2a06-4ad1-b16f-8b6350474111",
   "metadata": {},
   "outputs": [],
   "source": []
  },
  {
   "cell_type": "code",
   "execution_count": 42,
   "id": "dea8d37a-9810-46df-a71d-08e5433d7ace",
   "metadata": {},
   "outputs": [],
   "source": [
    "output = session.run(None, input_data)"
   ]
  },
  {
   "cell_type": "code",
   "execution_count": 45,
   "id": "b8aac82e-6ca0-479a-814d-e7c1c228888c",
   "metadata": {},
   "outputs": [
    {
     "data": {
      "text/plain": [
       "0"
      ]
     },
     "execution_count": 45,
     "metadata": {},
     "output_type": "execute_result"
    }
   ],
   "source": [
    "pd.DataFrame(output)[0][0]"
   ]
  },
  {
   "cell_type": "code",
   "execution_count": null,
   "id": "ef12f2cf-567f-4aef-b45f-d95acc816a2b",
   "metadata": {},
   "outputs": [],
   "source": []
  },
  {
   "cell_type": "code",
   "execution_count": null,
   "id": "7f8ee603-f196-4586-923e-e26079fba2e3",
   "metadata": {},
   "outputs": [],
   "source": []
  },
  {
   "cell_type": "code",
   "execution_count": null,
   "id": "c191a4e9-b650-4817-bebe-e50826cfa1ff",
   "metadata": {},
   "outputs": [],
   "source": [
    "model_path = onnx.load(\"model.onnx\").SerializeToString()\n",
    "\n",
    "so = onnxruntime.SessionOptions()\n",
    "so.add_session_config_entry('model.onnx', 'ONNX')\n",
    "\n",
    "session = onnxruntime.InferenceSession(model_path)\n",
    "output = session.get_outputs()[0] \n",
    "inputs = session.get_inputs()\n",
    "    \n",
    "def run(input_data):\n",
    "    \n",
    "    df = pd.DataFrame(data, index=[0])\n",
    "\n",
    "    df.columns = ['acc_now_delinq', 'acc_open_past_24mths', 'annual_inc', 'avg_cur_bal', 'funded_amnt']\n",
    "\n",
    "    df['acc_now_delinq'] = df['acc_now_delinq'].astype(float)\n",
    "    df['acc_open_past_24mths'] = df['acc_open_past_24mths'].astype(float)\n",
    "    df['annual_inc'] = df['annual_inc'].astype(float)\n",
    "    df['avg_cur_bal'] = df['avg_cur_bal'].astype(float)\n",
    "    df['funded_amnt'] = df['funded_amnt'].astype(float)\n",
    "    \n",
    "    try:\n",
    "        input_data= {i.name: v for i, v in zip(inputs, df.values.reshape(len(inputs),1,1).astype(np.float32))}\n",
    "        output = session.run(None, input_data)\n",
    "        pred = pd.DataFrame(output)[0][0]\n",
    "\n",
    "        print('[INFO] Results was ' + json.dumps(pred))\n",
    "        return {\"result\": pred}\n",
    "\n",
    "    except Exception as e:\n",
    "        result_dict = {\"error\": str(e)}\n",
    "    \n",
    "    return result_dict"
   ]
  }
 ],
 "metadata": {
  "kernelspec": {
   "display_name": "Python 3 (ipykernel)",
   "language": "python",
   "name": "python3"
  },
  "language_info": {
   "codemirror_mode": {
    "name": "ipython",
    "version": 3
   },
   "file_extension": ".py",
   "mimetype": "text/x-python",
   "name": "python",
   "nbconvert_exporter": "python",
   "pygments_lexer": "ipython3",
   "version": "3.7.13"
  }
 },
 "nbformat": 4,
 "nbformat_minor": 5
}
